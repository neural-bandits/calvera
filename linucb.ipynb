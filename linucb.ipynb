{
 "cells": [
  {
   "cell_type": "code",
   "execution_count": 1,
   "metadata": {},
   "outputs": [],
   "source": [
    "import numpy as np\n",
    "from sklearn import datasets\n",
    "from sklearn.model_selection import train_test_split\n",
    "from sklearn.preprocessing import StandardScaler\n",
    "from sklearn.linear_model import LogisticRegression\n",
    "from sklearn.metrics import accuracy_score, classification_report, confusion_matrix\n",
    "\n",
    "\n",
    "def load_data():\n",
    "    mnist = datasets.fetch_openml(\"mnist_784\", version=1, as_frame=False)\n",
    "    X, y = mnist.data, mnist.target\n",
    "    y = y.astype(np.int32)  # Convert target to integers\n",
    "    return X, y\n",
    "\n",
    "\n",
    "def split_data(X, y, test_size=0.2, random_state=42):\n",
    "    return train_test_split(X, y, test_size=test_size, random_state=random_state)\n",
    "\n",
    "\n",
    "def avg_pooling(image, pool_size):\n",
    "    pooled_height = image.shape[0] // pool_size[0]\n",
    "    pooled_width = image.shape[1] // pool_size[1]\n",
    "    pooled_image = np.zeros((pooled_height, pooled_width))\n",
    "\n",
    "    for i in range(pooled_height):\n",
    "        for j in range(pooled_width):\n",
    "            start_i, end_i = i * pool_size[0], (i + 1) * pool_size[0]\n",
    "            start_j, end_j = j * pool_size[1], (j + 1) * pool_size[1]\n",
    "            pooled_image[i, j] = np.mean(image[start_i:end_i, start_j:end_j])\n",
    "\n",
    "    return pooled_image\n",
    "\n",
    "\n",
    "def preprocess_data(X_train, X_test):\n",
    "    scaler = StandardScaler()\n",
    "    X_train_scaled = scaler.fit_transform(X_train)\n",
    "    X_test_scaled = scaler.transform(X_test)\n",
    "\n",
    "    return X_train_scaled, X_test_scaled"
   ]
  },
  {
   "cell_type": "code",
   "execution_count": 2,
   "metadata": {},
   "outputs": [],
   "source": [
    "def train_model(X_train, y_train):\n",
    "    model = LogisticRegression(\n",
    "        max_iter=1000, solver=\"lbfgs\", multi_class=\"multinomial\", random_state=42\n",
    "    )\n",
    "    model.fit(X_train, y_train)\n",
    "    return model"
   ]
  },
  {
   "cell_type": "code",
   "execution_count": 3,
   "metadata": {},
   "outputs": [],
   "source": [
    "def evaluate_model(model, X_test, y_test):\n",
    "    y_pred = model.predict(X_test)\n",
    "    accuracy = accuracy_score(y_test, y_pred)\n",
    "    print(\"Accuracy:\", accuracy)\n",
    "    print(\"Classification Report:\\n\", classification_report(y_test, y_pred))\n",
    "    print(\"Confusion Matrix:\\n\", confusion_matrix(y_test, y_pred))\n",
    "\n",
    "\n",
    "def predict(model, new_data):\n",
    "    predictions = model.predict(new_data)\n",
    "    return predictions"
   ]
  },
  {
   "cell_type": "code",
   "execution_count": 66,
   "metadata": {},
   "outputs": [
    {
     "name": "stderr",
     "output_type": "stream",
     "text": [
      "100%|██████████| 70000/70000 [00:04<00:00, 16695.79it/s]\n"
     ]
    }
   ],
   "source": [
    "import tqdm\n",
    "\n",
    "# Load and split the data\n",
    "X, y = load_data()\n",
    "\n",
    "pool_size = 7\n",
    "X_pooled = np.zeros((X.shape[0], (28 // pool_size) * (28 // pool_size)))\n",
    "for i in tqdm.tqdm(range(X.shape[0])):\n",
    "    image = X[i].reshape(28, 28)\n",
    "    pooled_image = avg_pooling(image, (pool_size, pool_size))\n",
    "    X_pooled[i] = pooled_image.flatten()\n",
    "\n",
    "X_train, X_test, y_train, y_test = split_data(X_pooled, y)\n",
    "\n",
    "# Preprocess the data\n",
    "X_train_scaled, X_test_scaled = preprocess_data(X_train, X_test)"
   ]
  },
  {
   "cell_type": "code",
   "execution_count": 67,
   "metadata": {},
   "outputs": [
    {
     "name": "stderr",
     "output_type": "stream",
     "text": [
      "/Users/robert/miniconda3/envs/neural_bandits/lib/python3.10/site-packages/sklearn/linear_model/_logistic.py:1247: FutureWarning: 'multi_class' was deprecated in version 1.5 and will be removed in 1.7. From then on, it will always use 'multinomial'. Leave it to its default value to avoid this warning.\n",
      "  warnings.warn(\n"
     ]
    }
   ],
   "source": [
    "# Train the model\n",
    "model = train_model(X_train_scaled, y_train)"
   ]
  },
  {
   "cell_type": "code",
   "execution_count": 68,
   "metadata": {},
   "outputs": [
    {
     "name": "stdout",
     "output_type": "stream",
     "text": [
      "Accuracy: 0.7457142857142857\n",
      "Classification Report:\n",
      "               precision    recall  f1-score   support\n",
      "\n",
      "           0       0.82      0.68      0.74      1343\n",
      "           1       0.82      0.90      0.86      1600\n",
      "           2       0.82      0.75      0.79      1380\n",
      "           3       0.79      0.77      0.78      1433\n",
      "           4       0.64      0.69      0.66      1295\n",
      "           5       0.68      0.61      0.64      1273\n",
      "           6       0.84      0.87      0.86      1396\n",
      "           7       0.77      0.81      0.79      1503\n",
      "           8       0.64      0.69      0.66      1357\n",
      "           9       0.64      0.64      0.64      1420\n",
      "\n",
      "    accuracy                           0.75     14000\n",
      "   macro avg       0.74      0.74      0.74     14000\n",
      "weighted avg       0.75      0.75      0.75     14000\n",
      "\n",
      "Confusion Matrix:\n",
      " [[ 916   10   23   23   19   77   23    4  237   11]\n",
      " [   0 1446    6   36   13   50    3   10   24   12]\n",
      " [  11   33 1038   66   60   11   81   12   54   14]\n",
      " [  22   57   56 1099   17   45    3   67   31   36]\n",
      " [   5   42   31    2  890   32   55   33   15  190]\n",
      " [  55    5   11   67  129  776   39   37  106   48]\n",
      " [  29   29   40    2   53    7 1214    0   21    1]\n",
      " [   1   39   11   24   43   21    1 1217    9  137]\n",
      " [  65   53   37   59   11  112   21    5  933   61]\n",
      " [  14   56    7   19  156   18    3  200   36  911]]\n"
     ]
    }
   ],
   "source": [
    "# Evaluate the model\n",
    "evaluate_model(model, X_test_scaled, y_test)"
   ]
  },
  {
   "cell_type": "code",
   "execution_count": 69,
   "metadata": {},
   "outputs": [
    {
     "name": "stdout",
     "output_type": "stream",
     "text": [
      "Sample Predictions: [8 9 5 7 7]\n"
     ]
    }
   ],
   "source": [
    "# Example prediction\n",
    "sample_data = X_test_scaled[:5]  # Predicting for the first 5 test samples\n",
    "predictions = predict(model, sample_data)\n",
    "print(\"Sample Predictions:\", predictions)"
   ]
  },
  {
   "cell_type": "code",
   "execution_count": 70,
   "metadata": {},
   "outputs": [],
   "source": [
    "import numpy as np\n",
    "\n",
    "\n",
    "class LinUCB:\n",
    "    def __init__(self, n_arms, n_features, alpha):\n",
    "        self.alpha = alpha\n",
    "        self.M = np.stack([np.eye(n_features) for _ in range(n_arms)])\n",
    "        self.b = np.zeros((n_arms, n_features))  # Reward vector\n",
    "        self.theta = np.random.uniform(\n",
    "            -1, 1, (n_arms, n_features)\n",
    "        )  # Parameter estimate\n",
    "        self.arms = n_arms\n",
    "\n",
    "    def predict(self, feature_vectors):\n",
    "        results = []\n",
    "        for i in range(len(feature_vectors)):\n",
    "            results.append(self.select_arm(feature_vectors[i]))\n",
    "        return results\n",
    "\n",
    "    def select_arm(self, x):\n",
    "        p_values = []\n",
    "        for k in range(self.arms):\n",
    "            p = x.dot(self.theta[k]) + self.alpha * np.sqrt(\n",
    "                x.T.dot(np.linalg.inv(self.M[k])).dot(x)\n",
    "            )\n",
    "            p_values.append(p)\n",
    "        return np.argmax(p_values)\n",
    "\n",
    "    def update(self, chosen_arm, reward, x):\n",
    "        self.M[chosen_arm] += np.outer(x, x)\n",
    "        self.b[chosen_arm] += reward * x\n",
    "        self.theta[chosen_arm] = np.linalg.inv(self.M[chosen_arm]).dot(\n",
    "            self.b[chosen_arm]\n",
    "        )"
   ]
  },
  {
   "cell_type": "code",
   "execution_count": null,
   "metadata": {},
   "outputs": [],
   "source": [
    "import numpy as np\n",
    "\n",
    "\n",
    "class BayesianBandit:\n",
    "    def __init__(self, n_arms, n_features):\n",
    "        self.M = np.stack([np.eye(n_features) for _ in range(n_arms)])\n",
    "        self.b = np.zeros((n_arms, n_features))  # Reward vector\n",
    "        self.theta = np.random.uniform(\n",
    "            -1, 1, (n_arms, n_features)\n",
    "        )  # Parameter estimate\n",
    "        self.arms = n_arms\n",
    "        self.gen = np.random.default_rng()\n",
    "\n",
    "    def predict(self, feature_vectors):\n",
    "        results = []\n",
    "        for i in range(len(feature_vectors)):\n",
    "            results.append(self.select_arm(feature_vectors[i]))\n",
    "        return results\n",
    "\n",
    "    def select_arm(self, x):\n",
    "        p_values = []\n",
    "        for k in range(self.arms):\n",
    "            theta = self.gen.multivariate_normal(\n",
    "                mean=self.theta[k],\n",
    "                cov=np.linalg.inv(self.M[k]),\n",
    "            )\n",
    "            p_values.append(x.dot(theta))\n",
    "        return np.argmax(p_values)\n",
    "\n",
    "    def update(self, chosen_arm, reward, x):\n",
    "\n",
    "        self.M[chosen_arm] += np.outer(x, x)\n",
    "        self.b[chosen_arm] += reward * x\n",
    "        self.theta[chosen_arm] = np.linalg.inv(self.M[chosen_arm]).dot(\n",
    "            self.b[chosen_arm]\n",
    "        )"
   ]
  },
  {
   "cell_type": "code",
   "execution_count": 101,
   "metadata": {},
   "outputs": [],
   "source": [
    "# Example usage\n",
    "n_features = X_train_scaled.shape[1]\n",
    "alpha = 0.01\n",
    "n_arms = 10  # Number of classes\n",
    "# bandit = LinUCB(n_arms, n_features, alpha)\n",
    "bandit = BayesianBandit(n_arms, n_features)"
   ]
  },
  {
   "cell_type": "code",
   "execution_count": null,
   "metadata": {},
   "outputs": [
    {
     "name": "stderr",
     "output_type": "stream",
     "text": [
      "100%|██████████| 56000/56000 [00:33<00:00, 1659.17it/s]\n"
     ]
    }
   ],
   "source": [
    "for t in tqdm.tqdm(range(X_train_scaled.shape[0])):\n",
    "    t = t % X_train_scaled.shape[0]\n",
    "    arm = bandit.select_arm(X_train_scaled[t])\n",
    "    bandit.update(arm, arm == y_train[t], X_train_scaled[t])"
   ]
  },
  {
   "cell_type": "code",
   "execution_count": 103,
   "metadata": {},
   "outputs": [
    {
     "name": "stdout",
     "output_type": "stream",
     "text": [
      "Accuracy: 0.48442857142857143\n",
      "Classification Report:\n",
      "               precision    recall  f1-score   support\n",
      "\n",
      "           0       0.66      0.66      0.66      1343\n",
      "           1       0.00      0.00      0.00      1600\n",
      "           2       0.82      0.51      0.63      1380\n",
      "           3       0.51      0.69      0.59      1433\n",
      "           4       0.46      0.62      0.53      1295\n",
      "           5       0.88      0.18      0.29      1273\n",
      "           6       0.77      0.64      0.70      1396\n",
      "           7       0.94      0.05      0.10      1503\n",
      "           8       0.31      0.84      0.45      1357\n",
      "           9       0.36      0.74      0.48      1420\n",
      "\n",
      "    accuracy                           0.48     14000\n",
      "   macro avg       0.57      0.49      0.44     14000\n",
      "weighted avg       0.56      0.48      0.43     14000\n",
      "\n",
      "Confusion Matrix:\n",
      " [[ 890    0    3    7   19    0   22    0  360   42]\n",
      " [   3    0   91  348   61    8    1    0  798  290]\n",
      " [  43    0  705   75  147    1  149    0  212   48]\n",
      " [  63    0   23  989   23   17    5    1  214   98]\n",
      " [  10    0    3    3  808    0   26    0   66  379]\n",
      " [ 171    0    3   86  117  225   35    2  511  123]\n",
      " [  32    0   20    1  351    0  892    0   90   10]\n",
      " [  41    0    8  376   48    4    1   80  120  825]\n",
      " [  76    0    7   18   20    0   16    0 1142   78]\n",
      " [  20    0    1   35  146    0    6    2  159 1051]]\n"
     ]
    },
    {
     "name": "stderr",
     "output_type": "stream",
     "text": [
      "/Users/robert/miniconda3/envs/neural_bandits/lib/python3.10/site-packages/sklearn/metrics/_classification.py:1531: UndefinedMetricWarning: Precision is ill-defined and being set to 0.0 in labels with no predicted samples. Use `zero_division` parameter to control this behavior.\n",
      "  _warn_prf(average, modifier, f\"{metric.capitalize()} is\", len(result))\n",
      "/Users/robert/miniconda3/envs/neural_bandits/lib/python3.10/site-packages/sklearn/metrics/_classification.py:1531: UndefinedMetricWarning: Precision is ill-defined and being set to 0.0 in labels with no predicted samples. Use `zero_division` parameter to control this behavior.\n",
      "  _warn_prf(average, modifier, f\"{metric.capitalize()} is\", len(result))\n",
      "/Users/robert/miniconda3/envs/neural_bandits/lib/python3.10/site-packages/sklearn/metrics/_classification.py:1531: UndefinedMetricWarning: Precision is ill-defined and being set to 0.0 in labels with no predicted samples. Use `zero_division` parameter to control this behavior.\n",
      "  _warn_prf(average, modifier, f\"{metric.capitalize()} is\", len(result))\n"
     ]
    }
   ],
   "source": [
    "evaluate_model(bandit, X_test, y_test)"
   ]
  },
  {
   "cell_type": "code",
   "execution_count": null,
   "metadata": {},
   "outputs": [
    {
     "name": "stdout",
     "output_type": "stream",
     "text": [
      "[[ 7.64416670e-03 -5.47566014e-02  7.94221620e-02 -6.32814698e-02\n",
      "  -2.60378827e-02  5.87399915e-02 -3.34713155e-02  1.01829947e-01\n",
      "   1.00217105e-01  2.82520469e-03 -8.37092661e-02  7.07094046e-02\n",
      "  -3.78661370e-02  8.44014153e-02  4.00388069e-02 -2.02879070e-02]\n",
      " [-4.96920279e-03 -5.83447407e-02  5.72531527e-02  6.92781584e-03\n",
      "  -3.32871012e-02 -1.97555380e-01  7.15063026e-02  2.81906254e-02\n",
      "  -6.90593441e-02 -6.66960049e-02 -1.06153445e-01  4.76237535e-02\n",
      "  -3.37024712e-02 -9.77438391e-02 -9.30104342e-04 -1.28853281e-02]\n",
      " [-3.22163185e-02  9.62712686e-02  2.57597709e-02 -2.39904127e-02\n",
      "   8.79860568e-03 -2.23192198e-01 -9.09149121e-04 -1.78405079e-02\n",
      "   4.89193113e-02  1.09485922e-01  6.85939896e-02  1.97018816e-02\n",
      "   2.23936761e-02  5.90409451e-03  1.59842388e-02  4.58755956e-02]\n",
      " [ 2.01040236e-02  8.71105346e-02  2.44022703e-02 -2.60485476e-02\n",
      "  -2.75120396e-02 -1.10923006e-01  4.79144154e-02 -6.29550908e-02\n",
      "   2.22620786e-02 -1.64094450e-01  7.63795482e-02  2.08472553e-02\n",
      "   6.38950540e-02  1.05570375e-01  7.95499424e-02 -4.24442829e-02]\n",
      " [ 9.16412141e-03 -1.05178575e-01 -1.98503845e-01  4.38756241e-02\n",
      "  -1.86824447e-02 -5.56120942e-02 -1.00779751e-01 -4.05157398e-02\n",
      "   5.99012972e-02  9.77008910e-02  1.02779979e-01 -2.15288005e-02\n",
      "  -5.60860469e-03  3.18671080e-03  4.86355463e-02  1.82125958e-02]\n",
      " [-2.92127167e-03 -2.13006910e-02 -3.41276966e-02  9.27092447e-02\n",
      "  -1.64507894e-02  1.01588376e-01 -1.54867852e-01 -4.37221334e-02\n",
      "  -9.63900678e-04 -3.25307950e-02 -3.33342210e-02 -2.60689979e-02\n",
      "   9.93217009e-03  1.18942578e-01  4.67195682e-02  3.17760048e-02]\n",
      " [ 1.05702308e-02 -3.83127870e-03  7.44573535e-02 -1.88315616e-02\n",
      "   3.16334006e-02  9.79375025e-02 -1.57110287e-01 -5.39193761e-02\n",
      "  -6.98158551e-02  1.16606024e-01  2.58552547e-02  2.31256906e-02\n",
      "   5.06464208e-03 -6.35468644e-02 -1.05759123e-01 -4.45315300e-02]\n",
      " [-4.70590108e-03 -4.99066573e-02 -7.80802226e-02 -2.00089594e-02\n",
      "   7.96466015e-02  2.46783910e-02  9.37842252e-02  2.82906702e-02\n",
      "  -5.88675186e-02 -2.08129858e-01  5.16912004e-02  1.42090867e-02\n",
      "  -1.70004086e-02 -9.55335498e-03 -9.59791762e-02 -8.13351317e-03]\n",
      " [-2.29939934e-03  5.29705845e-02  7.64461679e-02 -2.24032303e-02\n",
      "   2.99468133e-02  1.13644370e-01  1.69071620e-02  6.58722143e-02\n",
      "  -6.72781491e-02  1.41917462e-01 -1.46175253e-01 -1.66304367e-01\n",
      "  -2.27976907e-02  3.65049763e-02  6.32447886e-02 -1.52534745e-02]\n",
      " [-2.58242315e-05 -8.51089147e-02 -9.30760818e-02 -3.54339092e-02\n",
      "  -7.29930742e-02  5.52293993e-02  9.96603160e-02 -3.51805867e-02\n",
      "   8.83605443e-03 -1.04541895e-02  1.10050026e-02 -2.11119336e-02\n",
      "  -3.10022276e-03 -8.25250532e-02  1.86379813e-02  2.23781333e-02]]\n"
     ]
    }
   ],
   "source": [
    "print(bandit.theta)"
   ]
  },
  {
   "cell_type": "code",
   "execution_count": null,
   "metadata": {},
   "outputs": [],
   "source": []
  }
 ],
 "metadata": {
  "kernelspec": {
   "display_name": "neural_bandits",
   "language": "python",
   "name": "python3"
  },
  "language_info": {
   "codemirror_mode": {
    "name": "ipython",
    "version": 3
   },
   "file_extension": ".py",
   "mimetype": "text/x-python",
   "name": "python",
   "nbconvert_exporter": "python",
   "pygments_lexer": "ipython3",
   "version": "3.10.15"
  }
 },
 "nbformat": 4,
 "nbformat_minor": 2
}
