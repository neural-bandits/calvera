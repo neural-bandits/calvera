{
 "cells": [
  {
   "cell_type": "code",
   "execution_count": 48,
   "metadata": {},
   "outputs": [],
   "source": [
    "\n",
    "import numpy as np\n",
    "from sklearn import datasets\n",
    "from sklearn.model_selection import train_test_split\n",
    "from sklearn.preprocessing import StandardScaler\n",
    "from sklearn.linear_model import LogisticRegression\n",
    "from sklearn.metrics import accuracy_score, classification_report, confusion_matrix\n",
    "\n",
    "# Step 1: Load the MNIST dataset\n",
    "def load_data():\n",
    "    mnist = datasets.fetch_openml('mnist_784', version=1, as_frame=False)\n",
    "    X, y = mnist.data, mnist.target\n",
    "    y = y.astype(np.int32)  # Convert target to integers\n",
    "    return X, y\n",
    "\n",
    "# Step 2: Split the data into training and test sets\n",
    "def split_data(X, y, test_size=0.2, random_state=42):\n",
    "    return train_test_split(X, y, test_size=test_size, random_state=random_state)\n",
    "\n",
    "def avg_pooling(image, pool_size):\n",
    "    \"\"\"\n",
    "    Perform average pooling on an image.\n",
    "    \n",
    "    Parameters:\n",
    "    - image: 2D numpy array representing the image.\n",
    "    - pool_size: Tuple (pool_height, pool_width) for the pooling region.\n",
    "    \n",
    "    Returns:\n",
    "    - pooled_image: 2D numpy array after applying average pooling.\n",
    "    \"\"\"\n",
    "    pooled_height = image.shape[0] // pool_size[0]\n",
    "    pooled_width = image.shape[1] // pool_size[1]\n",
    "    pooled_image = np.zeros((pooled_height, pooled_width))\n",
    "    \n",
    "    for i in range(pooled_height):\n",
    "        for j in range(pooled_width):\n",
    "            start_i, end_i = i * pool_size[0], (i + 1) * pool_size[0]\n",
    "            start_j, end_j = j * pool_size[1], (j + 1) * pool_size[1]\n",
    "            pooled_image[i, j] = np.mean(image[start_i:end_i, start_j:end_j])\n",
    "    \n",
    "    return pooled_image\n",
    "\n",
    "# Step 3: Preprocess the data (e.g., scale features)\n",
    "def preprocess_data(X_train, X_test):\n",
    "    scaler = StandardScaler()\n",
    "    X_train_scaled = scaler.fit_transform(X_train)\n",
    "    X_test_scaled = scaler.transform(X_test)\n",
    "    \n",
    "    return X_train_scaled, X_test_scaled\n"
   ]
  },
  {
   "cell_type": "code",
   "execution_count": 49,
   "metadata": {},
   "outputs": [],
   "source": [
    "# Step 4: Train a classifier (e.g., Logistic Regression)\n",
    "def train_model(X_train, y_train):\n",
    "    model = LogisticRegression(max_iter=1000, solver='lbfgs', multi_class='multinomial', random_state=42)\n",
    "    model.fit(X_train, y_train)\n",
    "    return model\n"
   ]
  },
  {
   "cell_type": "code",
   "execution_count": 50,
   "metadata": {},
   "outputs": [],
   "source": [
    "\n",
    "# Step 5: Evaluate the model\n",
    "def evaluate_model(model, X_test, y_test):\n",
    "    y_pred = model.predict(X_test)\n",
    "    accuracy = accuracy_score(y_test, y_pred)\n",
    "    print(\"Accuracy:\", accuracy)\n",
    "    print(\"Classification Report:\\n\", classification_report(y_test, y_pred))\n",
    "    print(\"Confusion Matrix:\\n\", confusion_matrix(y_test, y_pred))\n",
    "\n",
    "# Step 6: Make predictions on new data\n",
    "def predict(model, new_data):\n",
    "    predictions = model.predict(new_data)\n",
    "    return predictions\n"
   ]
  },
  {
   "cell_type": "code",
   "execution_count": 51,
   "metadata": {},
   "outputs": [
    {
     "name": "stderr",
     "output_type": "stream",
     "text": [
      "100%|██████████| 70000/70000 [00:09<00:00, 7528.65it/s]\n"
     ]
    }
   ],
   "source": [
    "import tqdm\n",
    "# Load and split the data\n",
    "X, y = load_data()\n",
    "\n",
    "pool_size = 7\n",
    "X_pooled = np.zeros((X.shape[0], (28 // pool_size) * (28 // pool_size)))\n",
    "for i in tqdm.tqdm(range(X.shape[0])):\n",
    "    image = X[i].reshape(28, 28)\n",
    "    pooled_image = avg_pooling(image, (pool_size, pool_size))\n",
    "    X_pooled[i] = pooled_image.flatten()\n",
    "\n",
    "X_train, X_test, y_train, y_test = split_data(X_pooled, y)\n",
    "\n",
    "# Preprocess the data\n",
    "X_train_scaled, X_test_scaled = preprocess_data(X_train, X_test)"
   ]
  },
  {
   "cell_type": "code",
   "execution_count": 52,
   "metadata": {},
   "outputs": [
    {
     "name": "stderr",
     "output_type": "stream",
     "text": [
      "c:\\Users\\Philipp\\miniconda3\\envs\\neural_bandits\\lib\\site-packages\\sklearn\\linear_model\\_logistic.py:1247: FutureWarning: 'multi_class' was deprecated in version 1.5 and will be removed in 1.7. From then on, it will always use 'multinomial'. Leave it to its default value to avoid this warning.\n",
      "  warnings.warn(\n"
     ]
    }
   ],
   "source": [
    "# Train the model\n",
    "model = train_model(X_train_scaled, y_train)"
   ]
  },
  {
   "cell_type": "code",
   "execution_count": 53,
   "metadata": {},
   "outputs": [
    {
     "name": "stdout",
     "output_type": "stream",
     "text": [
      "Accuracy: 0.7457142857142857\n",
      "Classification Report:\n",
      "               precision    recall  f1-score   support\n",
      "\n",
      "           0       0.82      0.68      0.74      1343\n",
      "           1       0.82      0.90      0.86      1600\n",
      "           2       0.82      0.75      0.79      1380\n",
      "           3       0.79      0.77      0.78      1433\n",
      "           4       0.64      0.69      0.66      1295\n",
      "           5       0.68      0.61      0.64      1273\n",
      "           6       0.84      0.87      0.86      1396\n",
      "           7       0.77      0.81      0.79      1503\n",
      "           8       0.64      0.69      0.66      1357\n",
      "           9       0.64      0.64      0.64      1420\n",
      "\n",
      "    accuracy                           0.75     14000\n",
      "   macro avg       0.74      0.74      0.74     14000\n",
      "weighted avg       0.75      0.75      0.75     14000\n",
      "\n",
      "Confusion Matrix:\n",
      " [[ 916   10   23   23   19   77   23    4  237   11]\n",
      " [   0 1446    6   36   13   50    3   10   24   12]\n",
      " [  11   33 1038   66   60   11   81   12   54   14]\n",
      " [  22   57   56 1099   17   45    3   67   31   36]\n",
      " [   5   42   31    2  890   32   55   33   15  190]\n",
      " [  55    5   11   67  129  776   39   37  106   48]\n",
      " [  29   29   40    2   53    7 1214    0   21    1]\n",
      " [   1   39   11   24   43   21    1 1217    9  137]\n",
      " [  65   53   37   59   11  112   21    5  933   61]\n",
      " [  14   56    7   19  156   18    3  200   36  911]]\n"
     ]
    }
   ],
   "source": [
    "# Evaluate the model\n",
    "evaluate_model(model, X_test_scaled, y_test)"
   ]
  },
  {
   "cell_type": "code",
   "execution_count": 55,
   "metadata": {},
   "outputs": [
    {
     "name": "stdout",
     "output_type": "stream",
     "text": [
      "Sample Predictions: [8 9 5 7 7]\n"
     ]
    }
   ],
   "source": [
    "# Example prediction\n",
    "sample_data = X_test_scaled[:5]  # Predicting for the first 5 test samples\n",
    "predictions = predict(model, sample_data)\n",
    "print(\"Sample Predictions:\", predictions)"
   ]
  },
  {
   "cell_type": "code",
   "execution_count": 83,
   "metadata": {},
   "outputs": [],
   "source": [
    "import numpy as np\n",
    "\n",
    "class LinUCB:\n",
    "    def __init__(self, n_arms, n_features, alpha):\n",
    "        self.alpha = alpha\n",
    "        self.M = np.eye(n_features + n_arms)  # Covariance matrix\n",
    "        self.b = np.zeros(n_features + n_arms)  # Reward vector\n",
    "        self.theta = np.random.randn(n_features + n_arms)  # Parameter estimate\n",
    "        self.arms = n_arms\n",
    "\n",
    "    def predict(self, feature_vectors):\n",
    "        results = []\n",
    "        for i in range(len(feature_vectors)):\n",
    "            results.append(self.select_arm(feature_vectors[i]))\n",
    "        return results\n",
    "\n",
    "    def select_arm(self, feature_vector):\n",
    "        p_values = []\n",
    "        for k in range(self.arms):\n",
    "            arm_encoding = np.zeros(self.arms)\n",
    "            arm_encoding[k] = 1\n",
    "            x = np.concat([feature_vector, arm_encoding], axis=0)\n",
    "\n",
    "            p = x.dot(self.theta) + self.alpha * np.sqrt(x.T.dot(np.linalg.inv(self.M)).dot(x))\n",
    "            p_values.append(p)\n",
    "        return np.argmax(p_values)\n",
    "\n",
    "    def update(self, chosen_arm, reward, feature_vector):\n",
    "        arm_encoding = np.zeros(self.arms)\n",
    "        arm_encoding[chosen_arm] = 1\n",
    "        x = np.concat([np.array(feature_vector), arm_encoding], axis=0)\n",
    "        self.M += np.outer(x, x)\n",
    "        self.b += reward * x\n",
    "        self.theta = np.linalg.inv(self.M).dot(self.b)"
   ]
  },
  {
   "cell_type": "code",
   "execution_count": 84,
   "metadata": {},
   "outputs": [],
   "source": [
    "# Example usage\n",
    "n_features = X_train_scaled.shape[1]\n",
    "alpha = 0.3\n",
    "n_arms = 10  # Number of classes\n",
    "linucb = LinUCB(n_arms, n_features, alpha)\n"
   ]
  },
  {
   "cell_type": "code",
   "execution_count": 85,
   "metadata": {},
   "outputs": [
    {
     "name": "stderr",
     "output_type": "stream",
     "text": [
      "100%|██████████| 56000/56000 [00:14<00:00, 3920.61it/s]\n"
     ]
    }
   ],
   "source": [
    "for t in tqdm.tqdm(range(X_train_scaled.shape[0])):\n",
    "    arm = linucb.select_arm(X_train_scaled[t])\n",
    "    linucb.update(arm, arm == y_train[t], X_train_scaled[t])"
   ]
  },
  {
   "cell_type": "code",
   "execution_count": 86,
   "metadata": {},
   "outputs": [
    {
     "name": "stdout",
     "output_type": "stream",
     "text": [
      "Accuracy: 0.11428571428571428\n",
      "Classification Report:\n",
      "               precision    recall  f1-score   support\n",
      "\n",
      "           0       0.00      0.00      0.00      1343\n",
      "           1       0.11      1.00      0.21      1600\n",
      "           2       0.00      0.00      0.00      1380\n",
      "           3       0.00      0.00      0.00      1433\n",
      "           4       0.00      0.00      0.00      1295\n",
      "           5       0.00      0.00      0.00      1273\n",
      "           6       0.00      0.00      0.00      1396\n",
      "           7       0.00      0.00      0.00      1503\n",
      "           8       0.00      0.00      0.00      1357\n",
      "           9       0.00      0.00      0.00      1420\n",
      "\n",
      "    accuracy                           0.11     14000\n",
      "   macro avg       0.01      0.10      0.02     14000\n",
      "weighted avg       0.01      0.11      0.02     14000\n",
      "\n",
      "Confusion Matrix:\n",
      " [[   0 1343    0    0    0    0    0    0    0    0]\n",
      " [   0 1600    0    0    0    0    0    0    0    0]\n",
      " [   0 1380    0    0    0    0    0    0    0    0]\n",
      " [   0 1433    0    0    0    0    0    0    0    0]\n",
      " [   0 1295    0    0    0    0    0    0    0    0]\n",
      " [   0 1273    0    0    0    0    0    0    0    0]\n",
      " [   0 1396    0    0    0    0    0    0    0    0]\n",
      " [   0 1503    0    0    0    0    0    0    0    0]\n",
      " [   0 1357    0    0    0    0    0    0    0    0]\n",
      " [   0 1420    0    0    0    0    0    0    0    0]]\n"
     ]
    },
    {
     "name": "stderr",
     "output_type": "stream",
     "text": [
      "c:\\Users\\Philipp\\miniconda3\\envs\\neural_bandits\\lib\\site-packages\\sklearn\\metrics\\_classification.py:1531: UndefinedMetricWarning: Precision is ill-defined and being set to 0.0 in labels with no predicted samples. Use `zero_division` parameter to control this behavior.\n",
      "  _warn_prf(average, modifier, f\"{metric.capitalize()} is\", len(result))\n",
      "c:\\Users\\Philipp\\miniconda3\\envs\\neural_bandits\\lib\\site-packages\\sklearn\\metrics\\_classification.py:1531: UndefinedMetricWarning: Precision is ill-defined and being set to 0.0 in labels with no predicted samples. Use `zero_division` parameter to control this behavior.\n",
      "  _warn_prf(average, modifier, f\"{metric.capitalize()} is\", len(result))\n",
      "c:\\Users\\Philipp\\miniconda3\\envs\\neural_bandits\\lib\\site-packages\\sklearn\\metrics\\_classification.py:1531: UndefinedMetricWarning: Precision is ill-defined and being set to 0.0 in labels with no predicted samples. Use `zero_division` parameter to control this behavior.\n",
      "  _warn_prf(average, modifier, f\"{metric.capitalize()} is\", len(result))\n"
     ]
    }
   ],
   "source": [
    "evaluate_model(linucb, X_test, y_test)"
   ]
  }
 ],
 "metadata": {
  "kernelspec": {
   "display_name": "neural_bandits",
   "language": "python",
   "name": "python3"
  },
  "language_info": {
   "codemirror_mode": {
    "name": "ipython",
    "version": 3
   },
   "file_extension": ".py",
   "mimetype": "text/x-python",
   "name": "python",
   "nbconvert_exporter": "python",
   "pygments_lexer": "ipython3",
   "version": "3.10.15"
  }
 },
 "nbformat": 4,
 "nbformat_minor": 2
}
