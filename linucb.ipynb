{
 "cells": [
  {
   "cell_type": "code",
   "execution_count": 1,
   "metadata": {},
   "outputs": [],
   "source": [
    "import numpy as np\n",
    "from sklearn import datasets\n",
    "from sklearn.model_selection import train_test_split\n",
    "from sklearn.preprocessing import StandardScaler\n",
    "from sklearn.linear_model import LogisticRegression\n",
    "from sklearn.metrics import accuracy_score, classification_report, confusion_matrix\n",
    "\n",
    "\n",
    "# Step 1: Load the MNIST dataset\n",
    "def load_data():\n",
    "    mnist = datasets.fetch_openml(\"mnist_784\", version=1, as_frame=False)\n",
    "    X, y = mnist.data, mnist.target\n",
    "    y = y.astype(np.int32)  # Convert target to integers\n",
    "    return X, y\n",
    "\n",
    "\n",
    "# Step 2: Split the data into training and test sets\n",
    "def split_data(X, y, test_size=0.2, random_state=42):\n",
    "    return train_test_split(X, y, test_size=test_size, random_state=random_state)\n",
    "\n",
    "\n",
    "def avg_pooling(image, pool_size):\n",
    "    \"\"\"\n",
    "    Perform average pooling on an image.\n",
    "\n",
    "    Parameters:\n",
    "    - image: 2D numpy array representing the image.\n",
    "    - pool_size: Tuple (pool_height, pool_width) for the pooling region.\n",
    "\n",
    "    Returns:\n",
    "    - pooled_image: 2D numpy array after applying average pooling.\n",
    "    \"\"\"\n",
    "    pooled_height = image.shape[0] // pool_size[0]\n",
    "    pooled_width = image.shape[1] // pool_size[1]\n",
    "    pooled_image = np.zeros((pooled_height, pooled_width))\n",
    "\n",
    "    for i in range(pooled_height):\n",
    "        for j in range(pooled_width):\n",
    "            start_i, end_i = i * pool_size[0], (i + 1) * pool_size[0]\n",
    "            start_j, end_j = j * pool_size[1], (j + 1) * pool_size[1]\n",
    "            pooled_image[i, j] = np.mean(image[start_i:end_i, start_j:end_j])\n",
    "\n",
    "    return pooled_image\n",
    "\n",
    "\n",
    "# Step 3: Preprocess the data (e.g., scale features)\n",
    "def preprocess_data(X_train, X_test):\n",
    "    scaler = StandardScaler()\n",
    "    X_train_scaled = scaler.fit_transform(X_train)\n",
    "    X_test_scaled = scaler.transform(X_test)\n",
    "\n",
    "    return X_train_scaled, X_test_scaled"
   ]
  },
  {
   "cell_type": "code",
   "execution_count": 2,
   "metadata": {},
   "outputs": [],
   "source": [
    "# Step 4: Train a classifier (e.g., Logistic Regression)\n",
    "def train_model(X_train, y_train):\n",
    "    model = LogisticRegression(\n",
    "        max_iter=1000, solver=\"lbfgs\", multi_class=\"multinomial\", random_state=42\n",
    "    )\n",
    "    model.fit(X_train, y_train)\n",
    "    return model"
   ]
  },
  {
   "cell_type": "code",
   "execution_count": 3,
   "metadata": {},
   "outputs": [],
   "source": [
    "# Step 5: Evaluate the model\n",
    "def evaluate_model(model, X_test, y_test):\n",
    "    y_pred = model.predict(X_test)\n",
    "    accuracy = accuracy_score(y_test, y_pred)\n",
    "    print(\"Accuracy:\", accuracy)\n",
    "    print(\"Classification Report:\\n\", classification_report(y_test, y_pred))\n",
    "    print(\"Confusion Matrix:\\n\", confusion_matrix(y_test, y_pred))\n",
    "\n",
    "\n",
    "# Step 6: Make predictions on new data\n",
    "def predict(model, new_data):\n",
    "    predictions = model.predict(new_data)\n",
    "    return predictions"
   ]
  },
  {
   "cell_type": "code",
   "execution_count": 4,
   "metadata": {},
   "outputs": [
    {
     "name": "stderr",
     "output_type": "stream",
     "text": [
      "100%|██████████| 70000/70000 [00:03<00:00, 17504.64it/s]\n"
     ]
    }
   ],
   "source": [
    "import tqdm\n",
    "\n",
    "# Load and split the data\n",
    "X, y = load_data()\n",
    "\n",
    "pool_size = 7\n",
    "X_pooled = np.zeros((X.shape[0], (28 // pool_size) * (28 // pool_size)))\n",
    "for i in tqdm.tqdm(range(X.shape[0])):\n",
    "    image = X[i].reshape(28, 28)\n",
    "    pooled_image = avg_pooling(image, (pool_size, pool_size))\n",
    "    X_pooled[i] = pooled_image.flatten()\n",
    "\n",
    "X_train, X_test, y_train, y_test = split_data(X_pooled, y)\n",
    "\n",
    "# Preprocess the data\n",
    "X_train_scaled, X_test_scaled = preprocess_data(X_train, X_test)"
   ]
  },
  {
   "cell_type": "code",
   "execution_count": 5,
   "metadata": {},
   "outputs": [
    {
     "name": "stderr",
     "output_type": "stream",
     "text": [
      "/Users/robert/miniconda3/envs/neural_bandits/lib/python3.10/site-packages/sklearn/linear_model/_logistic.py:1247: FutureWarning: 'multi_class' was deprecated in version 1.5 and will be removed in 1.7. From then on, it will always use 'multinomial'. Leave it to its default value to avoid this warning.\n",
      "  warnings.warn(\n"
     ]
    }
   ],
   "source": [
    "# Train the model\n",
    "model = train_model(X_train_scaled, y_train)"
   ]
  },
  {
   "cell_type": "code",
   "execution_count": 6,
   "metadata": {},
   "outputs": [
    {
     "name": "stdout",
     "output_type": "stream",
     "text": [
      "Accuracy: 0.7457142857142857\n",
      "Classification Report:\n",
      "               precision    recall  f1-score   support\n",
      "\n",
      "           0       0.82      0.68      0.74      1343\n",
      "           1       0.82      0.90      0.86      1600\n",
      "           2       0.82      0.75      0.79      1380\n",
      "           3       0.79      0.77      0.78      1433\n",
      "           4       0.64      0.69      0.66      1295\n",
      "           5       0.68      0.61      0.64      1273\n",
      "           6       0.84      0.87      0.86      1396\n",
      "           7       0.77      0.81      0.79      1503\n",
      "           8       0.64      0.69      0.66      1357\n",
      "           9       0.64      0.64      0.64      1420\n",
      "\n",
      "    accuracy                           0.75     14000\n",
      "   macro avg       0.74      0.74      0.74     14000\n",
      "weighted avg       0.75      0.75      0.75     14000\n",
      "\n",
      "Confusion Matrix:\n",
      " [[ 916   10   23   23   19   77   23    4  237   11]\n",
      " [   0 1446    6   36   13   50    3   10   24   12]\n",
      " [  11   33 1038   66   60   11   81   12   54   14]\n",
      " [  22   57   56 1099   17   45    3   67   31   36]\n",
      " [   5   42   31    2  890   32   55   33   15  190]\n",
      " [  55    5   11   67  129  776   39   37  106   48]\n",
      " [  29   29   40    2   53    7 1214    0   21    1]\n",
      " [   1   39   11   24   43   21    1 1217    9  137]\n",
      " [  65   53   37   59   11  112   21    5  933   61]\n",
      " [  14   56    7   19  156   18    3  200   36  911]]\n"
     ]
    }
   ],
   "source": [
    "# Evaluate the model\n",
    "evaluate_model(model, X_test_scaled, y_test)"
   ]
  },
  {
   "cell_type": "code",
   "execution_count": 7,
   "metadata": {},
   "outputs": [
    {
     "name": "stdout",
     "output_type": "stream",
     "text": [
      "Sample Predictions: [8 9 5 7 7]\n"
     ]
    }
   ],
   "source": [
    "# Example prediction\n",
    "sample_data = X_test_scaled[:5]  # Predicting for the first 5 test samples\n",
    "predictions = predict(model, sample_data)\n",
    "print(\"Sample Predictions:\", predictions)"
   ]
  },
  {
   "cell_type": "code",
   "execution_count": 24,
   "metadata": {},
   "outputs": [],
   "source": [
    "import numpy as np\n",
    "\n",
    "\n",
    "class LinUCB:\n",
    "    def __init__(self, n_arms, n_features, alpha):\n",
    "        self.alpha = alpha\n",
    "        self.M = np.stack([np.eye(n_features) for _ in range(n_arms)])\n",
    "        self.b = np.zeros((n_arms, n_features))  # Reward vector\n",
    "        self.theta = np.random.randn(n_arms, n_features)  # Parameter estimate\n",
    "        self.arms = n_arms\n",
    "\n",
    "    def predict(self, feature_vectors):\n",
    "        results = []\n",
    "        for i in range(len(feature_vectors)):\n",
    "            results.append(self.select_arm(feature_vectors[i]))\n",
    "        return results\n",
    "\n",
    "    def select_arm(self, x):\n",
    "        p_values = []\n",
    "        for k in range(self.arms):\n",
    "            p = x.dot(self.theta[k]) + self.alpha * np.sqrt(\n",
    "                x.T.dot(np.linalg.inv(self.M[k])).dot(x)\n",
    "            )\n",
    "            p_values.append(p)\n",
    "        return np.argmax(p_values)\n",
    "\n",
    "    def update(self, chosen_arm, reward, x):\n",
    "        self.M[chosen_arm] += np.outer(x, x)\n",
    "        self.b[chosen_arm] += reward * x\n",
    "        self.theta[chosen_arm] = np.linalg.inv(self.M[chosen_arm]).dot(\n",
    "            self.b[chosen_arm]\n",
    "        )"
   ]
  },
  {
   "cell_type": "code",
   "execution_count": 25,
   "metadata": {},
   "outputs": [],
   "source": [
    "# Example usage\n",
    "n_features = X_train_scaled.shape[1]\n",
    "alpha = 0.3\n",
    "n_arms = 10  # Number of classes\n",
    "linucb = LinUCB(n_arms, n_features, alpha)"
   ]
  },
  {
   "cell_type": "code",
   "execution_count": 26,
   "metadata": {},
   "outputs": [
    {
     "name": "stderr",
     "output_type": "stream",
     "text": [
      "100%|██████████| 56000/56000 [00:05<00:00, 9762.89it/s]\n"
     ]
    }
   ],
   "source": [
    "for t in tqdm.tqdm(range(X_train_scaled.shape[0])):\n",
    "    arm = linucb.select_arm(X_train_scaled[t])\n",
    "    linucb.update(arm, arm == y_train[t], X_train_scaled[t])"
   ]
  },
  {
   "cell_type": "code",
   "execution_count": 27,
   "metadata": {},
   "outputs": [
    {
     "name": "stdout",
     "output_type": "stream",
     "text": [
      "Accuracy: 0.5059285714285714\n",
      "Classification Report:\n",
      "               precision    recall  f1-score   support\n",
      "\n",
      "           0       0.59      0.75      0.66      1343\n",
      "           1       0.00      0.00      0.00      1600\n",
      "           2       0.82      0.56      0.67      1380\n",
      "           3       0.55      0.69      0.61      1433\n",
      "           4       0.47      0.68      0.55      1295\n",
      "           5       0.90      0.19      0.32      1273\n",
      "           6       0.81      0.62      0.70      1396\n",
      "           7       1.00      0.05      0.10      1503\n",
      "           8       0.34      0.79      0.48      1357\n",
      "           9       0.38      0.81      0.51      1420\n",
      "\n",
      "    accuracy                           0.51     14000\n",
      "   macro avg       0.58      0.52      0.46     14000\n",
      "weighted avg       0.58      0.51      0.45     14000\n",
      "\n",
      "Confusion Matrix:\n",
      " [[1010    0    2    3   24    0   21    0  248   35]\n",
      " [   1    0  111  305   61    6    1    0  823  292]\n",
      " [  64    0  775   65  147    1  123    0  167   38]\n",
      " [  79    0   19  992   29   16    3    0  202   93]\n",
      " [  17    0    0    2  876    0   10    0   26  364]\n",
      " [ 292    0    4   71  136  248   32    0  371  119]\n",
      " [  37    0   21    0  403    0  872    0   58    5]\n",
      " [  51    0    9  336   43    4    1   82   75  902]\n",
      " [ 148    0    8   15   30    0   13    0 1073   70]\n",
      " [  21    0    1   22  126    1    3    0   91 1155]]\n"
     ]
    },
    {
     "name": "stderr",
     "output_type": "stream",
     "text": [
      "/Users/robert/miniconda3/envs/neural_bandits/lib/python3.10/site-packages/sklearn/metrics/_classification.py:1531: UndefinedMetricWarning: Precision is ill-defined and being set to 0.0 in labels with no predicted samples. Use `zero_division` parameter to control this behavior.\n",
      "  _warn_prf(average, modifier, f\"{metric.capitalize()} is\", len(result))\n",
      "/Users/robert/miniconda3/envs/neural_bandits/lib/python3.10/site-packages/sklearn/metrics/_classification.py:1531: UndefinedMetricWarning: Precision is ill-defined and being set to 0.0 in labels with no predicted samples. Use `zero_division` parameter to control this behavior.\n",
      "  _warn_prf(average, modifier, f\"{metric.capitalize()} is\", len(result))\n",
      "/Users/robert/miniconda3/envs/neural_bandits/lib/python3.10/site-packages/sklearn/metrics/_classification.py:1531: UndefinedMetricWarning: Precision is ill-defined and being set to 0.0 in labels with no predicted samples. Use `zero_division` parameter to control this behavior.\n",
      "  _warn_prf(average, modifier, f\"{metric.capitalize()} is\", len(result))\n"
     ]
    }
   ],
   "source": [
    "evaluate_model(linucb, X_test, y_test)"
   ]
  },
  {
   "cell_type": "code",
   "execution_count": null,
   "metadata": {},
   "outputs": [],
   "source": []
  }
 ],
 "metadata": {
  "kernelspec": {
   "display_name": "neural_bandits",
   "language": "python",
   "name": "python3"
  },
  "language_info": {
   "codemirror_mode": {
    "name": "ipython",
    "version": 3
   },
   "file_extension": ".py",
   "mimetype": "text/x-python",
   "name": "python",
   "nbconvert_exporter": "python",
   "pygments_lexer": "ipython3",
   "version": "3.10.15"
  }
 },
 "nbformat": 4,
 "nbformat_minor": 2
}
