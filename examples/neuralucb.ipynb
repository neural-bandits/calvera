{
 "cells": [
  {
   "cell_type": "code",
   "execution_count": null,
   "metadata": {},
   "outputs": [],
   "source": [
    "import logging\n",
    "import torch\n",
    "import pprint\n",
    "\n",
    "import lightning as pl\n",
    "from lightning.pytorch.loggers.csv_logs import CSVLogger\n",
    "import torch.nn as nn\n",
    "from torch.utils.data import DataLoader, Subset\n",
    "from tqdm import tqdm\n",
    "import pandas as pd\n",
    "import numpy as np\n",
    "\n",
    "from neural_bandits.bandits.neural_ucb_bandit import NeuralUCBBandit\n",
    "from neural_bandits.benchmark.datasets.statlog import StatlogDataset\n",
    "from neural_bandits.utils.data_storage import InMemoryDataBuffer, AllDataBufferStrategy\n",
    "from neural_bandits.utils.data_sampler import RandomDataSampler\n",
    "from neural_bandits.utils.selectors import EpsilonGreedySelector\n",
    "\n",
    "from neural_bandits.benchmark.environment import BanditBenchmarkEnvironment\n",
    "from neural_bandits.benchmark.logger_decorator import OnlineBanditLoggerDecorator"
   ]
  },
  {
   "cell_type": "code",
   "execution_count": 2,
   "metadata": {},
   "outputs": [],
   "source": [
    "class Network(nn.Module):\n",
    "    def __init__(self, dim, hidden_size=100):\n",
    "        super().__init__()\n",
    "        self.fc1 = nn.Linear(dim, hidden_size)\n",
    "        self.activate = nn.ReLU()\n",
    "        self.fc2 = nn.Linear(hidden_size, 1)\n",
    "\n",
    "    def forward(self, x):\n",
    "        return self.fc2(self.activate(self.fc1(x)))"
   ]
  },
  {
   "cell_type": "code",
   "execution_count": 3,
   "metadata": {},
   "outputs": [
    {
     "name": "stdout",
     "output_type": "stream",
     "text": [
      "7840\n",
      "70000\n",
      "Subset size: 10000\n"
     ]
    }
   ],
   "source": [
    "dataset = StatlogDataset()\n",
    "print(dataset.context_size)\n",
    "print(len(dataset))\n",
    "\n",
    "network = Network(dataset.context_size, hidden_size=100)\n",
    "selector = EpsilonGreedySelector(epsilon=0.1, seed=42)\n",
    "\n",
    "accelerator = \"cpu\"\n",
    "batch_size = 1\n",
    "n_samples = 10000\n",
    "\n",
    "indices = list(range(len(dataset)))\n",
    "random.shuffle(indices)\n",
    "subset_indices = indices[:n_samples]\n",
    "mini_dataset = Subset(dataset, subset_indices)\n",
    "print(\"Subset size:\", len(mini_dataset))\n",
    "sorted_sampler = RandomDataSampler(\n",
    "    data_source=Subset(dataset, range(n_samples)),\n",
    ")"
   ]
  },
  {
   "cell_type": "code",
   "execution_count": 4,
   "metadata": {},
   "outputs": [],
   "source": [
    "buffer = InMemoryDataBuffer(\n",
    "    buffer_strategy=AllDataBufferStrategy(),\n",
    "    max_size=n_samples,\n",
    "    device=accelerator,\n",
    ")"
   ]
  },
  {
   "cell_type": "code",
   "execution_count": null,
   "metadata": {},
   "outputs": [],
   "source": [
    "accelerator = \"cpu\"\n",
    "\n",
    "train_loader = DataLoader(Subset(dataset, range(n_samples)), sampler=sorted_sampler, batch_size=256)\n",
    "env = BanditBenchmarkEnvironment(train_loader, device=accelerator)\n",
    "bandit_module = NeuralUCBBandit(\n",
    "    n_features=dataset.context_size,\n",
    "    network=network,\n",
    "    buffer=buffer,\n",
    "    train_batch_size=32,\n",
    "    early_stop_threshold=1e-3,\n",
    "    weight_decay=1e-3,\n",
    "    exploration_rate=1e-5,\n",
    "    learning_rate=1e-3,\n",
    "    min_samples_required_for_training=1024,\n",
    "    initial_train_steps=2048,\n",
    ").to(accelerator)\n",
    "\n",
    "logging.getLogger(\"lightning.pytorch.utilities.rank_zero\").setLevel(logging.FATAL)\n",
    "logger = OnlineBanditLoggerDecorator(\n",
    "    CSVLogger(\n",
    "        \"logs\", name=\"neural_ucb_bandit\", flush_logs_every_n_steps=100\n",
    "    ),\n",
    "    enable_console_logging=False\n",
    ")"
   ]
  },
  {
   "cell_type": "code",
   "execution_count": null,
   "metadata": {},
   "outputs": [],
   "source": [
    "rewards = np.array([])\n",
    "regrets = np.array([])\n",
    "progress_bar = tqdm(iter(env), total=len(env))\n",
    "for contextualized_actions in progress_bar:\n",
    "    chosen_actions, _ = bandit_module.forward(contextualized_actions)\n",
    "\n",
    "    trainer = pl.Trainer(\n",
    "        max_epochs=1,\n",
    "        max_steps=1000,\n",
    "        logger=logger,\n",
    "        gradient_clip_val=20.0,\n",
    "        log_every_n_steps=1,\n",
    "        enable_progress_bar=False,\n",
    "        enable_model_summary=False,\n",
    "        enable_checkpointing=True,\n",
    "        accelerator=accelerator,\n",
    "    )\n",
    "    chosen_contextualized_actions, realized_rewards = env.get_feedback(chosen_actions)\n",
    "    batch_regret = env.compute_regret(chosen_actions)\n",
    "    \n",
    "    rewards = np.append(rewards, realized_rewards.cpu().numpy())\n",
    "    regrets = np.append(regrets, batch_regret.cpu().numpy())\n",
    "    \n",
    "    progress_bar.set_postfix(\n",
    "        reward=realized_rewards.mean().item(),\n",
    "        regret=batch_regret.mean().item(),\n",
    "        avg_regret=regrets.mean(),\n",
    "    )\n",
    "\n",
    "    bandit_module.record_feedback(chosen_contextualized_actions, realized_rewards)\n",
    "    trainer.fit(bandit_module)\n",
    "metrics = pd.DataFrame({\n",
    "    \"reward\": rewards,\n",
    "    \"regret\": regrets,\n",
    "})\n",
    "metrics"
   ]
  },
  {
   "cell_type": "code",
   "execution_count": null,
   "metadata": {},
   "outputs": [
    {
     "name": "stdout",
     "output_type": "stream",
     "text": [
      "Model saved to logs\\neural_ucb_bandit\\version_13/bandit_checkpoint.ckpt\n"
     ]
    }
   ],
   "source": [
    "checkpoint_path = logger._logger_wrappee.log_dir + \"/bandit_checkpoint.ckpt\"\n",
    "trainer.save_checkpoint(checkpoint_path)\n",
    "print(f\"Model saved to {checkpoint_path}\")"
   ]
  },
  {
   "cell_type": "code",
   "execution_count": 9,
   "metadata": {},
   "outputs": [
    {
     "name": "stdout",
     "output_type": "stream",
     "text": [
      "Top-level keys in checkpoint:\n",
      "['epoch', 'global_step', 'pytorch-lightning_version', 'state_dict', 'loops', 'callbacks', 'optimizer_states', 'lr_schedulers', 'hparams_name', 'hyper_parameters', 'buffer_state', 'Z_t', 'selector_type', 'network_state', '_trained_once']\n",
      "\n",
      "Hyperparameters:\n",
      "{   'early_stop_threshold': 0.001,\n",
      "    'initial_train_steps': 2000,\n",
      "    'lambda_': 1e-05,\n",
      "    'learning_rate': 0.0001,\n",
      "    'max_grad_norm': 20.0,\n",
      "    'n_features': 7840,\n",
      "    'nu': 1e-05,\n",
      "    'num_grad_steps': 1000,\n",
      "    'train_batch_size': 1,\n",
      "    'train_interval': 100}\n",
      "\n",
      "Model state_dict keys:\n",
      "[   'Z_t',\n",
      "    'theta_t.fc1.weight',\n",
      "    'theta_t.fc1.bias',\n",
      "    'theta_t.fc2.weight',\n",
      "    'theta_t.fc2.bias']\n",
      "\n",
      "Optimizer state:\n",
      "dict_keys(['state', 'param_groups'])\n",
      "\n",
      "Buffer state:\n",
      "{   'buffer_strategy': <neural_bandits.utils.data_storage.AllDataBufferStrategy object at 0x00000190FC25F1C0>,\n",
      "    'contextualized_actions': tensor([[[0., 0., 0.,  ..., 0., 0., 0.]],\n",
      "\n",
      "        [[0., 0., 0.,  ..., 0., 0., 0.]]]),\n",
      "    'embedded_actions': tensor([], size=(0, 0)),\n",
      "    'max_size': 10000,\n",
      "    'rewards': tensor([0., 0.])}\n",
      "\n",
      "Selector type:\n",
      "'ArgMaxSelector'\n",
      "\n",
      "Z_t tensor shape:\n",
      "torch.Size([784201])\n"
     ]
    },
    {
     "name": "stderr",
     "output_type": "stream",
     "text": [
      "C:\\Users\\Parisa\\AppData\\Local\\Temp\\ipykernel_23224\\4289924043.py:1: FutureWarning: You are using `torch.load` with `weights_only=False` (the current default value), which uses the default pickle module implicitly. It is possible to construct malicious pickle data which will execute arbitrary code during unpickling (See https://github.com/pytorch/pytorch/blob/main/SECURITY.md#untrusted-models for more details). In a future release, the default value for `weights_only` will be flipped to `True`. This limits the functions that could be executed during unpickling. Arbitrary objects will no longer be allowed to be loaded via this mode unless they are explicitly allowlisted by the user via `torch.serialization.add_safe_globals`. We recommend you start setting `weights_only=True` for any use case where you don't have full control of the loaded file. Please open an issue on GitHub for any issues related to this experimental feature.\n",
      "  checkpoint = torch.load(checkpoint_path, map_location=accelerator)\n"
     ]
    }
   ],
   "source": [
    "checkpoint = torch.load(checkpoint_path, map_location=accelerator)\n",
    "\n",
    "print(\"Top-level keys in checkpoint:\")\n",
    "print(list(checkpoint.keys()))\n",
    "\n",
    "pp = pprint.PrettyPrinter(indent=4)\n",
    "\n",
    "print(\"\\nHyperparameters:\")\n",
    "pp.pprint(checkpoint.get('hyper_parameters', {}))\n",
    "\n",
    "print(\"\\nModel state_dict keys:\")\n",
    "if 'state_dict' in checkpoint:\n",
    "    pp.pprint(list(checkpoint['state_dict'].keys()))\n",
    "\n",
    "print(\"\\nOptimizer state:\")\n",
    "if 'optimizer_states' in checkpoint:\n",
    "    pp.pprint(checkpoint['optimizer_states'][0].keys())\n",
    "\n",
    "print(\"\\nBuffer state:\")\n",
    "if 'buffer_state' in checkpoint:\n",
    "    pp.pprint(checkpoint['buffer_state'])\n",
    "\n",
    "print(\"\\nSelector type:\")\n",
    "if 'selector_type' in checkpoint:\n",
    "    pp.pprint(checkpoint['selector_type'])\n",
    "\n",
    "print(\"\\nZ_t tensor shape:\")\n",
    "if 'Z_t' in checkpoint:\n",
    "    pp.pprint(checkpoint['Z_t'].shape)"
   ]
  },
  {
   "cell_type": "code",
   "execution_count": 10,
   "metadata": {},
   "outputs": [
    {
     "name": "stdout",
     "output_type": "stream",
     "text": [
      "Model loaded successfully!\n"
     ]
    }
   ],
   "source": [
    "checkpoint_path = \"logs\\\\neural_ucb_bandit\\\\version_12/bandit_checkpoint.ckpt\"\n",
    "\n",
    "loaded_bandit = NeuralUCBBandit.load_from_checkpoint(\n",
    "    checkpoint_path,\n",
    "    n_features=dataset.context_size,\n",
    "    network=network,\n",
    "    buffer=buffer,\n",
    ")\n",
    "print(\"Model loaded successfully!\")"
   ]
  },
  {
   "cell_type": "code",
   "execution_count": 11,
   "metadata": {},
   "outputs": [
    {
     "name": "stdout",
     "output_type": "stream",
     "text": [
      "True best action/arm: 5\n",
      "Model predicted action/arm: 5\n",
      "Correct prediction: True\n",
      "Full model prediction: tensor([[0, 0, 0, 0, 0, 1, 0, 0, 0, 0]])\n"
     ]
    }
   ],
   "source": [
    "context, label = dataset[random.randint(0, len(dataset) - 1)]\n",
    "contextualized_actions = context.unsqueeze(0)\n",
    "\n",
    "chosen_actions, _ = loaded_bandit(contextualized_actions)\n",
    "predicted_arm = chosen_actions.argmax(dim=1).item()\n",
    "\n",
    "true_arm = label.argmax().item() if isinstance(label, torch.Tensor) else label\n",
    "\n",
    "print(f\"True best action/arm: {true_arm}\")\n",
    "print(f\"Model predicted action/arm: {predicted_arm}\")\n",
    "print(f\"Correct prediction: {true_arm == predicted_arm}\")\n",
    "print(f\"Full model prediction: {chosen_actions}\")"
   ]
  },
  {
   "cell_type": "code",
   "execution_count": 13,
   "metadata": {},
   "outputs": [
    {
     "name": "stdout",
     "output_type": "stream",
     "text": [
      "logs\\neural_ucb_bandit\\version_12\\metrics.csv\n"
     ]
    }
   ],
   "source": [
    "# load metrics from the logger and plot\n",
    "import numpy as np\n",
    "\n",
    "# metrics_csv = logger._logger_wrappee.log_dir + \"/metrics.csv\"\n",
    "metrics_csv = \"logs\\\\neural_ucb_bandit\\\\version_12\\\\metrics.csv\"\n",
    "print(metrics_csv)\n",
    "metrics = pd.read_csv(metrics_csv)\n",
    "cumulative_reward = np.cumsum(metrics[\"reward\"][:10000])\n",
    "cumulative_regret = np.cumsum(metrics[\"regret\"][:10000])"
   ]
  },
  {
   "cell_type": "code",
   "execution_count": 14,
   "metadata": {},
   "outputs": [
    {
     "data": {
      "image/png": "[encoded data removed]",
      "text/plain": [
       "<Figure size 640x480 with 1 Axes>"
      ]
     },
     "metadata": {},
     "output_type": "display_data"
    }
   ],
   "source": [
    "import matplotlib.pyplot as plt\n",
    "\n",
    "plt.plot(cumulative_reward, label=\"Cumulative Reward\")\n",
    "plt.plot(cumulative_regret, label=\"Cumulative Regret\")\n",
    "plt.xlabel(\"steps\")\n",
    "plt.ylabel(\"cumulative reward/regret\")\n",
    "plt.legend()\n",
    "plt.show()"
   ]
  },
  {
   "cell_type": "code",
   "execution_count": 15,
   "metadata": {},
   "outputs": [
    {
     "name": "stdout",
     "output_type": "stream",
     "text": [
      "0.2\n",
      "0.15\n",
      "0.8427\n",
      "0.8\n",
      "0.85\n",
      "0.1573\n"
     ]
    }
   ],
   "source": [
    "# average reward\n",
    "print(sum(metrics[\"reward\"][:10]) / 10)\n",
    "print(sum(metrics[\"reward\"][:100]) / 100)\n",
    "print(sum(metrics[\"reward\"][:10000]) / 10000)\n",
    "\n",
    "print(sum(metrics[\"regret\"][:10].dropna()) / 10)\n",
    "print(sum(metrics[\"regret\"][:100].dropna()) / 100)\n",
    "print(sum(metrics[\"regret\"][:10000].dropna()) / 10000)"
   ]
  },
  {
   "cell_type": "code",
   "execution_count": 16,
   "metadata": {},
   "outputs": [
    {
     "data": {
      "image/png": "[encoded data removed]",
      "text/plain": [
       "<Figure size 640x480 with 1 Axes>"
      ]
     },
     "metadata": {},
     "output_type": "display_data"
    }
   ],
   "source": [
    "bandit_metrics_csv = logger._logger_wrappee.log_dir + \"/metrics.csv\"\n",
    "print(bandit_metrics_csv)\n",
    "bandit_metrics = pd.read_csv(bandit_metrics_csv)\n",
    "\n",
    "plt.plot(bandit_metrics[\"loss\"][:10000].dropna(), label=\"Loss\")\n",
    "plt.xlabel(\"steps\")\n",
    "plt.ylabel(\"loss\")\n",
    "plt.legend()\n",
    "plt.show()"
   ]
  }
 ],
 "metadata": {
  "kernelspec": {
   "display_name": "neural_bandits",
   "language": "python",
   "name": "python3"
  },
  "language_info": {
   "codemirror_mode": {
    "name": "ipython",
    "version": 3
   },
   "file_extension": ".py",
   "mimetype": "text/x-python",
   "name": "python",
   "nbconvert_exporter": "python",
   "pygments_lexer": "ipython3",
   "version": "3.10.16"
  }
 },
 "nbformat": 4,
 "nbformat_minor": 2
}
