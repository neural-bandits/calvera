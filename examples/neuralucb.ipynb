{
 "cells": [
  {
   "cell_type": "code",
   "execution_count": 1,
   "metadata": {},
   "outputs": [],
   "source": [
    "import random\n",
    "import logging\n",
    "\n",
    "import lightning as pl\n",
    "from lightning.pytorch.loggers.csv_logs import CSVLogger\n",
    "import torch.nn as nn\n",
    "from torch.utils.data import DataLoader, Subset\n",
    "\n",
    "from neural_bandits.bandits.neural_ucb_bandit import NeuralUCBBandit\n",
    "from neural_bandits.benchmark.datasets.mnist import MNISTDataset\n",
    "from neural_bandits.utils.data_storage import InMemoryDataBuffer, AllDataBufferStrategy\n",
    "from neural_bandits.utils.data_sampler import SortedDataSampler\n",
    "\n",
    "from neural_bandits.benchmark.environment import BanditBenchmarkEnvironment\n",
    "from neural_bandits.benchmark.logger_decorator import OnlineBanditLoggerDecorator"
   ]
  },
  {
   "cell_type": "code",
   "execution_count": null,
   "metadata": {},
   "outputs": [],
   "source": [
    "class Network(nn.Module):\n",
    "    \"\"\"A simple neural network with one hidden layer.\"\"\"\n",
    "\n",
    "    def __init__(self, dim: int, hidden_size: int = 100):\n",
    "        \"\"\"Initialize the network.\n",
    "\n",
    "        Args:\n",
    "            dim: The dimension of the input.\n",
    "            hidden_size: The number of hidden units.\n",
    "        \"\"\"\n",
    "        super().__init__()\n",
    "        self.fc1 = nn.Linear(dim, hidden_size)\n",
    "        self.activate = nn.ReLU()\n",
    "        self.fc2 = nn.Linear(hidden_size, 1)\n",
    "\n",
    "    def forward(self, x):\n",
    "        \"\"\"Forward pass of the network.\"\"\"\n",
    "        return self.fc2(self.activate(self.fc1(x)))"
   ]
  },
  {
   "cell_type": "code",
   "execution_count": null,
   "metadata": {},
   "outputs": [],
   "source": [
    "dataset = MNISTDataset()\n",
    "print(dataset.context_size)\n",
    "print(len(dataset))\n",
    "\n",
    "network = Network(dataset.context_size, hidden_size=100)\n",
    "\n",
    "accelerator = \"cpu\"\n",
    "batch_size = 1\n",
    "n_samples = 1000\n",
    "\n",
    "indices = list(range(len(dataset)))\n",
    "random.shuffle(indices)\n",
    "subset_indices = indices[:n_samples]\n",
    "mini_dataset = Subset(dataset, subset_indices)\n",
    "print(\"Subset size:\", len(mini_dataset))\n",
    "sorted_sampler = SortedDataSampler(\n",
    "    data_source=Subset(dataset, range(10000)),\n",
    "    key_fn=lambda idx: int(dataset.y[idx]),\n",
    ")"
   ]
  },
  {
   "cell_type": "code",
   "execution_count": null,
   "metadata": {},
   "outputs": [],
   "source": [
    "buffer = InMemoryDataBuffer(\n",
    "    buffer_strategy=AllDataBufferStrategy(),\n",
    "    max_size=10000,\n",
    "    device=accelerator,\n",
    ")"
   ]
  },
  {
   "cell_type": "code",
   "execution_count": 5,
   "metadata": {},
   "outputs": [
    {
     "name": "stdout",
     "output_type": "stream",
     "text": [
      "Step: 6 {'training_run': 0, 'loss': 0.006282281130552292, 'reward': 1.0, 'epoch': 0, 'regret': tensor(0.)}}"
     ]
    },
    {
     "name": "stderr",
     "output_type": "stream",
     "text": [
      "c:\\Users\\Philipp\\miniconda3\\envs\\neural_bandits\\lib\\site-packages\\lightning\\pytorch\\trainer\\connectors\\data_connector.py:425: The 'train_dataloader' does not have many workers which may be a bottleneck. Consider increasing the value of the `num_workers` argument` to `num_workers=11` in the `DataLoader` to improve performance.\n"
     ]
    },
    {
     "name": "stdout",
     "output_type": "stream",
     "text": [
      "Step: 100 {'training_run': 3, 'loss': 0.20809854567050934, 'reward': 0.0, 'epoch': 0, 'regret': tensor(1.)}"
     ]
    }
   ],
   "source": [
    "accelerator = \"cpu\"\n",
    "\n",
    "train_loader = DataLoader(Subset(dataset, range(10000)), sampler=sorted_sampler, batch_size=32)\n",
    "env = BanditBenchmarkEnvironment(train_loader, device=accelerator)\n",
    "bandit_module = NeuralUCBBandit(\n",
    "    n_features=dataset.context_size * dataset.num_actions,\n",
    "    network=network,\n",
    "    buffer=buffer,\n",
    "    train_batch_size=batch_size,\n",
    "    early_stop_threshold=1e-3,\n",
    "    num_grad_steps=1000,\n",
    "    lambda_=0.00001,\n",
    "    nu=0.00001,\n",
    "    learning_rate=1e-4,\n",
    "    train_interval=50,\n",
    "    initial_train_steps=2000,\n",
    "    max_grad_norm=20.0,\n",
    ").to(accelerator)\n",
    "\n",
    "logging.getLogger(\"lightning.pytorch.utilities.rank_zero\").setLevel(logging.FATAL)\n",
    "logger = OnlineBanditLoggerDecorator(CSVLogger(\"logs\", name=\"neural_ucb_bandit\", flush_logs_every_n_steps=100))"
   ]
  },
  {
   "cell_type": "code",
   "execution_count": null,
   "metadata": {},
   "outputs": [],
   "source": [
    "total_regret = 0\n",
    "n_samples = 0\n",
    "\n",
    "for contextualized_actions in env:\n",
    "    chosen_actions, _ = bandit_module.forward(contextualized_actions)\n",
    "\n",
    "    trainer = pl.Trainer(\n",
    "        max_epochs=1,\n",
    "        logger=logger,\n",
    "        log_every_n_steps=1,\n",
    "        enable_progress_bar=False,\n",
    "        enable_model_summary=False,\n",
    "        enable_checkpointing=False,\n",
    "        accelerator=accelerator,\n",
    "    )\n",
    "    feedback = env.get_feedback(chosen_actions)\n",
    "    batch_regret = env.compute_regret(chosen_actions)\n",
    "\n",
    "    total_regret += batch_regret.sum().item()\n",
    "    n_samples += batch_size\n",
    "\n",
    "    logger.pre_training_log(\n",
    "        {\n",
    "            \"regret\": batch_regret.sum().item(),\n",
    "            \"average_regret\": total_regret / n_samples,\n",
    "        }\n",
    "    )\n",
    "\n",
    "    batch_dataloader = DataLoader(feedback, batch_size=32)\n",
    "    trainer.fit(bandit_module, batch_dataloader)\n",
    "    bandit_module = bandit_module.to(accelerator)"
   ]
  },
  {
   "cell_type": "code",
   "execution_count": 7,
   "metadata": {},
   "outputs": [],
   "source": [
    "# load metrics from the logger and plot\n",
    "import pandas as pd\n",
    "import numpy as np\n",
    "\n",
    "metrics_csv = logger._logger_wrappee.log_dir + \"/metrics.csv\"\n",
    "print(metrics_csv)\n",
    "metrics = pd.read_csv(metrics_csv)\n",
    "cumulative_reward = np.cumsum(metrics[\"reward\"][:10000])\n",
    "cumulative_regret = np.cumsum(metrics[\"regret\"][:10000].dropna())"
   ]
  },
  {
   "cell_type": "code",
   "execution_count": null,
   "metadata": {},
   "outputs": [],
   "source": [
    "import matplotlib.pyplot as plt\n",
    "\n",
    "plt.plot(cumulative_reward, label=\"Cumulative Reward\")\n",
    "plt.plot(cumulative_regret, label=\"Cumulative Regret\")\n",
    "plt.xlabel(\"steps\")\n",
    "plt.ylabel(\"cumulative reward/regret\")\n",
    "plt.legend()\n",
    "plt.show()"
   ]
  },
  {
   "cell_type": "code",
   "execution_count": null,
   "metadata": {},
   "outputs": [],
   "source": [
    "# average reward\n",
    "print(sum(metrics[\"reward\"][:10]) / 10)\n",
    "print(sum(metrics[\"reward\"][:100]) / 100)\n",
    "print(sum(metrics[\"reward\"][:10000]) / 10000)\n",
    "\n",
    "print(sum(metrics[\"regret\"][:10].dropna()) / 10)\n",
    "print(sum(metrics[\"regret\"][:100].dropna()) / 100)\n",
    "print(sum(metrics[\"regret\"][:10000].dropna()) / 10000)"
   ]
  },
  {
   "cell_type": "code",
   "execution_count": null,
   "metadata": {},
   "outputs": [],
   "source": [
    "plt.plot(metrics[\"loss\"][:10000].dropna(), label=\"Loss\")\n",
    "plt.xlabel(\"steps\")\n",
    "plt.ylabel(\"loss\")\n",
    "plt.legend()\n",
    "plt.show()"
   ]
  },
  {
   "cell_type": "code",
   "execution_count": null,
   "metadata": {},
   "outputs": [],
   "source": []
  }
 ],
 "metadata": {
  "kernelspec": {
   "display_name": "neural_bandits",
   "language": "python",
   "name": "python3"
  },
  "language_info": {
   "codemirror_mode": {
    "name": "ipython",
    "version": 3
   },
   "file_extension": ".py",
   "mimetype": "text/x-python",
   "name": "python",
   "nbconvert_exporter": "python",
   "pygments_lexer": "ipython3",
   "version": "3.10.16"
  }
 },
 "nbformat": 4,
 "nbformat_minor": 2
}
