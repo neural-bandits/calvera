{
 "cells": [
  {
   "cell_type": "code",
   "execution_count": null,
   "metadata": {},
   "outputs": [],
   "source": [
    "import logging\n",
    "import random\n",
    "\n",
    "import lightning as pl\n",
    "from lightning.pytorch.loggers.csv_logs import CSVLogger\n",
    "import torch.nn as nn\n",
    "from torch.utils.data import DataLoader, Subset\n",
    "\n",
    "from neural_bandits.bandits.neural_ucb_bandit import NeuralUCBBandit\n",
    "from neural_bandits.benchmark.datasets.statlog import StatlogDataset\n",
    "\n",
    "from neural_bandits.benchmark.environment import BanditBenchmarkEnvironment\n",
    "from neural_bandits.benchmark.logger_decorator import OnlineBanditLoggerDecorator"
   ]
  },
  {
   "cell_type": "code",
   "execution_count": null,
   "metadata": {},
   "outputs": [],
   "source": [
    "class Network(nn.Module):\n",
    "    def __init__(self, dim, hidden_size=100):\n",
    "        super(Network, self).__init__()\n",
    "        self.fc1 = nn.Linear(dim, hidden_size)\n",
    "        self.activate = nn.ReLU()\n",
    "        self.fc2 = nn.Linear(hidden_size, 1)\n",
    "    def forward(self, x):\n",
    "        return self.fc2(self.activate(self.fc1(x)))"
   ]
  },
  {
   "cell_type": "code",
   "execution_count": null,
   "metadata": {},
   "outputs": [],
   "source": [
    "dataset = StatlogDataset()\n",
    "print(dataset.context_size)\n",
    "print(len(dataset))\n",
    "\n",
    "network = Network(dataset.context_size * dataset.num_actions, hidden_size=100)\n",
    "\n",
    "n_samples = 10000\n",
    "indices = list(range(len(dataset)))\n",
    "random.shuffle(indices)\n",
    "subset_indices = indices[:n_samples]\n",
    "mini_dataset = Subset(dataset, subset_indices)\n",
    "print(\"Subset size:\", len(mini_dataset))"
   ]
  },
  {
   "cell_type": "code",
   "execution_count": null,
   "metadata": {},
   "outputs": [],
   "source": [
    "accelerator = \"mps\"\n",
    "\n",
    "train_loader = DataLoader(mini_dataset, batch_size=32, shuffle=True)\n",
    "env = BanditBenchmarkEnvironment(train_loader, device=accelerator)\n",
    "bandit_module = NeuralUCBBandit(\n",
    "    n_features = dataset.context_size * dataset.num_actions,\n",
    "    network=network,\n",
    "    early_stop_threshold=1e-2,\n",
    "    num_grad_steps=100,\n",
    "    lambda_=0.00001,\n",
    "    nu=0.00001,\n",
    "    learning_rate=1e-2,\n",
    "    train_freq=2,\n",
    "    initial_train_steps=150,\n",
    "    max_grad_norm=50.0,\n",
    ").to(accelerator)\n",
    "\n",
    "logging.getLogger(\"lightning.pytorch.utilities.rank_zero\").setLevel(logging.FATAL)\n",
    "logger = OnlineBanditLoggerDecorator(CSVLogger(\"logs\", name=\"neural_ucb_bandit\", flush_logs_every_n_steps=100))"
   ]
  },
  {
   "cell_type": "code",
   "execution_count": null,
   "metadata": {},
   "outputs": [],
   "source": [
    "for contextualized_actions in env:\n",
    "    chosen_actions, _ = bandit_module.forward(contextualized_actions)\n",
    "\n",
    "    trainer = pl.Trainer(max_epochs=1, logger=logger, log_every_n_steps=1, enable_progress_bar=False, enable_model_summary=False, enable_checkpointing=False)\n",
    "    feedback = env.get_feedback(chosen_actions)\n",
    "    batch_regret = env.compute_regret(chosen_actions)\n",
    "    logger.pre_training_log({\"regret\": batch_regret.sum().item()})\n",
    "\n",
    "    batch_dataloader = DataLoader(feedback, batch_size=32)\n",
    "    trainer.fit(bandit_module, batch_dataloader)\n",
    "    bandit_module = bandit_module.to(accelerator)"
   ]
  },
  {
   "cell_type": "code",
   "execution_count": null,
   "metadata": {},
   "outputs": [],
   "source": [
    "# load metrics from the logger and plot\n",
    "import pandas as pd\n",
    "import numpy as np\n",
    "\n",
    "metrics_csv = logger._logger_wrappee.log_dir + \"/metrics.csv\"\n",
    "print(metrics_csv)\n",
    "metrics = pd.read_csv(metrics_csv)\n",
    "cumulative_reward = np.cumsum(metrics[\"reward\"][:5000])\n",
    "cumulative_regret = np.cumsum(metrics[\"regret\"][:5000].dropna())"
   ]
  },
  {
   "cell_type": "code",
   "execution_count": null,
   "metadata": {},
   "outputs": [],
   "source": [
    "import matplotlib.pyplot as plt\n",
    "plt.plot(cumulative_reward, label='Cumulative Reward')\n",
    "plt.plot(cumulative_regret, label='Cumulative Regret')\n",
    "plt.xlabel(\"steps\")\n",
    "plt.ylabel(\"cumulative reward/regret\")\n",
    "plt.legend()\n",
    "plt.show()"
   ]
  },
  {
   "cell_type": "code",
   "execution_count": null,
   "metadata": {},
   "outputs": [],
   "source": [
    "# average reward\n",
    "print(sum(metrics[\"reward\"][:10]) / 10)\n",
    "print(sum(metrics[\"reward\"][:100]) / 100)\n",
    "print(sum(metrics[\"reward\"][:313]) / 313)\n",
    "\n",
    "print(sum(metrics[\"regret\"][:10].dropna()) / 10)\n",
    "print(sum(metrics[\"regret\"][:100].dropna()) / 100)\n",
    "print(sum(metrics[\"regret\"][:313].dropna()) / 313)"
   ]
  },
  {
   "cell_type": "code",
   "execution_count": null,
   "metadata": {},
   "outputs": [],
   "source": [
    "plt.plot(metrics[\"loss\"][:1000], label='Loss')\n",
    "plt.xlabel(\"steps\")\n",
    "plt.ylabel(\"loss\")\n",
    "plt.legend()\n",
    "plt.show()"
   ]
  }
 ],
 "metadata": {
  "kernelspec": {
   "display_name": "neural_bandits",
   "language": "python",
   "name": "python3"
  },
  "language_info": {
   "codemirror_mode": {
    "name": "ipython",
    "version": 3
   },
   "file_extension": ".py",
   "mimetype": "text/x-python",
   "name": "python",
   "nbconvert_exporter": "python",
   "pygments_lexer": "ipython3",
   "version": "3.10.16"
  }
 },
 "nbformat": 4,
 "nbformat_minor": 2
}
