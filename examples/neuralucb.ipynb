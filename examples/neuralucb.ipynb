{
 "cells": [
  {
   "cell_type": "code",
   "execution_count": null,
   "metadata": {},
   "outputs": [],
   "source": [
    "from neural_bandits.modules.neural_ucb_module import NeuralUCBBanditModule\n",
    "from neural_bandits.datasets.statlog import StatlogDataset\n",
    "\n",
    "import lightning as pl\n",
    "from torch.utils.data import DataLoader\n",
    "import torch.nn as nn\n",
    "from torch.utils.data import Subset\n",
    "import random"
   ]
  },
  {
   "cell_type": "code",
   "execution_count": null,
   "metadata": {},
   "outputs": [],
   "source": [
    "class Network(nn.Module):\n",
    "    def __init__(self, dim, hidden_size=100):\n",
    "        super(Network, self).__init__()\n",
    "        self.fc1 = nn.Linear(dim, hidden_size)\n",
    "        self.activate = nn.ReLU()\n",
    "        self.fc2 = nn.Linear(hidden_size, 1)\n",
    "    def forward(self, x):\n",
    "        return self.fc2(self.activate(self.fc1(x)))"
   ]
  },
  {
   "cell_type": "code",
   "execution_count": null,
   "metadata": {},
   "outputs": [],
   "source": [
    "dataset = StatlogDataset()\n",
    "print(dataset.context_size)\n",
    "print(len(dataset))\n",
    "\n",
    "network = Network(dataset.context_size * dataset.num_actions, hidden_size=100)\n",
    "\n",
    "n_samples = 15000\n",
    "indices = list(range(len(dataset)))\n",
    "random.shuffle(indices)\n",
    "subset_indices = indices[:n_samples]\n",
    "mini_dataset = Subset(dataset, subset_indices)\n",
    "print(\"Subset size:\", len(mini_dataset))\n",
    "\n",
    "train_loader = DataLoader(mini_dataset, batch_size=1, shuffle=True)\n",
    "model = NeuralUCBBanditModule(\n",
    "        n_features = dataset.context_size * dataset.num_actions,\n",
    "        network=network,\n",
    "        early_stop_threshold=1e-3,\n",
    "        num_grad_steps=1000,\n",
    "        lambda_=0.00001,\n",
    "        nu=0.00001,\n",
    "        learning_rate=1e-3,\n",
    "        train_freq=100,\n",
    "        initial_train_steps=2000,\n",
    "        max_grad_norm=20.0,\n",
    ")\n",
    "\n",
    "logger = pl.pytorch.loggers.CSVLogger(\"logs\", name=\"neural_ucb\", flush_logs_every_n_steps=100)\n",
    "trainer = pl.Trainer(max_epochs=1, logger=logger, log_every_n_steps=1)"
   ]
  },
  {
   "cell_type": "code",
   "execution_count": null,
   "metadata": {},
   "outputs": [],
   "source": [
    "trainer.fit(model, train_loader)"
   ]
  },
  {
   "cell_type": "code",
   "execution_count": null,
   "metadata": {},
   "outputs": [],
   "source": [
    "# load metrics from the logger and plot\n",
    "import pandas as pd\n",
    "import numpy as np\n",
    "\n",
    "metrics_csv = logger.log_dir + \"/metrics.csv\"\n",
    "print(metrics_csv)\n",
    "metrics = pd.read_csv(metrics_csv)\n",
    "cumulative_reward = np.cumsum(metrics[\"reward\"][:1000])\n",
    "cumulative_regret = np.cumsum(metrics[\"regret\"][:1000])"
   ]
  },
  {
   "cell_type": "code",
   "execution_count": null,
   "metadata": {},
   "outputs": [],
   "source": [
    "import matplotlib.pyplot as plt\n",
    "plt.plot(cumulative_reward, label='Cumulative Reward')\n",
    "plt.plot(cumulative_regret, label='Cumulative Regret')\n",
    "plt.xlabel(\"steps\")\n",
    "plt.ylabel(\"cumulative reward/regret\")\n",
    "plt.legend()\n",
    "plt.show()"
   ]
  },
  {
   "cell_type": "code",
   "execution_count": null,
   "metadata": {},
   "outputs": [],
   "source": [
    "# average reward\n",
    "print(sum(metrics[\"reward\"][:10]) / 10)\n",
    "print(sum(metrics[\"reward\"][:100]) / 100)\n",
    "print(sum(metrics[\"reward\"][:313]) / 313)\n",
    "\n",
    "print(sum(metrics[\"regret\"][:10]) / 10)\n",
    "print(sum(metrics[\"regret\"][:100]) / 100)\n",
    "print(sum(metrics[\"regret\"][:313]) / 313)"
   ]
  },
  {
   "cell_type": "code",
   "execution_count": null,
   "metadata": {},
   "outputs": [],
   "source": [
    "plt.plot(metrics[\"loss\"][:1000], label='Loss')\n",
    "plt.xlabel(\"steps\")\n",
    "plt.ylabel(\"loss\")\n",
    "plt.legend()\n",
    "plt.show()"
   ]
  }
 ],
 "metadata": {
  "kernelspec": {
   "display_name": "neural_bandits",
   "language": "python",
   "name": "python3"
  },
  "language_info": {
   "codemirror_mode": {
    "name": "ipython",
    "version": 3
   },
   "file_extension": ".py",
   "mimetype": "text/x-python",
   "name": "python",
   "nbconvert_exporter": "python",
   "pygments_lexer": "ipython3",
   "version": "3.10.16"
  }
 },
 "nbformat": 4,
 "nbformat_minor": 2
}
