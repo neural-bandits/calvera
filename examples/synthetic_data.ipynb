{
 "cells": [
  {
   "cell_type": "code",
   "execution_count": null,
   "metadata": {},
   "outputs": [],
   "source": [
    "import torch\n",
    "from matplotlib import pyplot as plt"
   ]
  },
  {
   "cell_type": "code",
   "execution_count": null,
   "metadata": {},
   "outputs": [],
   "source": [
    "torch.manual_seed(41)"
   ]
  },
  {
   "cell_type": "markdown",
   "metadata": {},
   "source": [
    "## Synthetic Binary Classification Datasets"
   ]
  },
  {
   "cell_type": "markdown",
   "metadata": {},
   "source": [
    "$$y = w*x + b > 0$$"
   ]
  },
  {
   "cell_type": "code",
   "execution_count": null,
   "metadata": {},
   "outputs": [],
   "source": [
    "from calvera.benchmark.datasets.synthetic import LinearSyntheticDataset\n",
    "\n",
    "dataset = LinearSyntheticDataset()\n",
    "\n",
    "\n",
    "# color by y\n",
    "color_values = torch.matmul(dataset.Phi, dataset.theta_opt)\n",
    "plt.scatter(dataset.X[:, 0].squeeze(), dataset.X[:, 1].squeeze(), c=dataset.y)\n",
    "plt.show()"
   ]
  },
  {
   "cell_type": "markdown",
   "metadata": {},
   "source": [
    "$$y = w_0 + sum_i w_{i,1}*x_i + w_{i,2}*x_i^2 > 0$$"
   ]
  },
  {
   "cell_type": "code",
   "execution_count": null,
   "metadata": {},
   "outputs": [],
   "source": [
    "from calvera.benchmark.datasets.synthetic import QuadraticSyntheticDataset\n",
    "from matplotlib import pyplot as plt\n",
    "\n",
    "dataset = QuadraticSyntheticDataset()\n",
    "\n",
    "# color by y\n",
    "color_values = torch.matmul(dataset.Phi, dataset.theta_opt)\n",
    "plt.scatter(dataset.X[:, 0].squeeze(), dataset.X[:, 1].squeeze(), c=dataset.y)\n",
    "plt.show()"
   ]
  },
  {
   "cell_type": "markdown",
   "metadata": {},
   "source": [
    "$$ y = w_0 + sum_i w_{i,1}*x_i + w_{i,2}*x_i^2 + w_{i,3}*x_i^3 > 0$$"
   ]
  },
  {
   "cell_type": "code",
   "execution_count": null,
   "metadata": {},
   "outputs": [],
   "source": [
    "from calvera.benchmark.datasets.synthetic import CubicSyntheticDataset\n",
    "from matplotlib import pyplot as plt\n",
    "\n",
    "dataset = CubicSyntheticDataset()\n",
    "\n",
    "# color by y\n",
    "color_values = torch.matmul(dataset.Phi, dataset.theta_opt)\n",
    "plt.scatter(dataset.X[:, 0].squeeze(), dataset.X[:, 1].squeeze(), c=dataset.y)\n",
    "plt.show()"
   ]
  },
  {
   "cell_type": "markdown",
   "metadata": {},
   "source": [
    "$$y = w_0 + sum_i w_i*x_i + sum_i sum_{j>i} w_{i,j}*x_i*x_j > 0$$"
   ]
  },
  {
   "cell_type": "code",
   "execution_count": null,
   "metadata": {},
   "outputs": [],
   "source": [
    "from calvera.benchmark.datasets.synthetic import LinearCombinationSyntheticDataset\n",
    "from matplotlib import pyplot as plt\n",
    "\n",
    "dataset = LinearCombinationSyntheticDataset()\n",
    "\n",
    "# color by y\n",
    "color_values = torch.matmul(dataset.Phi, dataset.theta_opt)\n",
    "plt.scatter(dataset.X[:, 0].squeeze(), dataset.X[:, 1].squeeze(), c=dataset.y)\n",
    "plt.show()"
   ]
  },
  {
   "cell_type": "markdown",
   "metadata": {},
   "source": [
    "$$y = w_0 + sum_i w_i*x_i + sum_j w_j*sin(4*x_j) > 0$$"
   ]
  },
  {
   "cell_type": "code",
   "execution_count": null,
   "metadata": {},
   "outputs": [],
   "source": [
    "from calvera.benchmark.datasets.synthetic import SinSyntheticDataset\n",
    "from matplotlib import pyplot as plt\n",
    "\n",
    "dataset = SinSyntheticDataset()\n",
    "\n",
    "# color by y\n",
    "color_values = torch.matmul(dataset.Phi, dataset.theta_opt)\n",
    "plt.scatter(dataset.X[:, 0].squeeze(), dataset.X[:, 1].squeeze(), c=dataset.y)\n",
    "plt.show()"
   ]
  },
  {
   "cell_type": "markdown",
   "metadata": {},
   "source": [
    "## Wheel Dataset"
   ]
  },
  {
   "cell_type": "markdown",
   "metadata": {},
   "source": [
    "Based on: Riquelme et al. \"Deep Bayesian Bandits Showdown: An Empirical Comparison of Bayesian Deep Networks for\n",
    "Thompson Sampling\" https://arxiv.org/abs/1802.09127"
   ]
  },
  {
   "cell_type": "code",
   "execution_count": null,
   "metadata": {},
   "outputs": [],
   "source": [
    "from calvera.benchmark.datasets.wheel import WheelBanditDataset\n",
    "from matplotlib import pyplot as plt\n",
    "import matplotlib.patches as mpatches\n",
    "\n",
    "dataset = WheelBanditDataset(1000, 0.6)\n",
    "\n",
    "plt.figure(figsize=(6, 6))\n",
    "# color by y. add a legend\n",
    "plt.scatter(\n",
    "    dataset.data[:, 0].squeeze(), dataset.data[:, 1].squeeze(), c=dataset.rewards.argmax(dim=1).int(), cmap=\"viridis\"\n",
    ")\n",
    "# Get the unique classes from your rewards\n",
    "classes = torch.unique(dataset.rewards.argmax(dim=1)).tolist()\n",
    "# Use the colormap to determine colors for each class\n",
    "colors = [plt.cm.viridis(i / (len(classes) - 1) if len(classes) > 1 else 0.5) for i in range(len(classes))]\n",
    "\n",
    "# Create proxy artists as legend handles\n",
    "handles = [mpatches.Patch(color=colors[i], label=f\"Action {c}\") for i, c in enumerate(classes)]\n",
    "plt.legend(handles=handles)\n",
    "plt.show()"
   ]
  }
 ],
 "metadata": {
  "kernelspec": {
   "display_name": "calvera",
   "language": "python",
   "name": "python3"
  },
  "language_info": {
   "codemirror_mode": {
    "name": "ipython",
    "version": 3
   },
   "file_extension": ".py",
   "mimetype": "text/x-python",
   "name": "python",
   "nbconvert_exporter": "python",
   "pygments_lexer": "ipython3",
   "version": "3.10.16"
  }
 },
 "nbformat": 4,
 "nbformat_minor": 2
}
