{
 "cells": [
  {
   "cell_type": "code",
   "execution_count": 6,
   "metadata": {},
   "outputs": [],
   "source": [
    "import logging\n",
    "\n",
    "import lightning as pl\n",
    "from lightning.pytorch.loggers.csv_logs import CSVLogger\n",
    "from torch.utils.data import DataLoader, Subset\n",
    "\n",
    "from neural_bandits.bandits.linear_ucb_bandit import LinearUCBBandit\n",
    "from neural_bandits.benchmark.datasets.statlog import StatlogDataset\n",
    "\n",
    "from neural_bandits.benchmark.environment import BanditBenchmarkEnvironment\n",
    "from neural_bandits.benchmark.logger_decorator import OnlineBanditLoggerDecorator"
   ]
  },
  {
   "cell_type": "code",
   "execution_count": null,
   "metadata": {},
   "outputs": [],
   "source": [
    "dataset = StatlogDataset()\n",
    "print(dataset.context_size)\n",
    "print(len(dataset))"
   ]
  },
  {
   "cell_type": "code",
   "execution_count": null,
   "metadata": {},
   "outputs": [],
   "source": [
    "from neural_bandits.utils.selectors import EpsilonGreedySelector\n",
    "\n",
    "train_loader = DataLoader(Subset(dataset, range(5000)), batch_size=32, shuffle=True)\n",
    "\n",
    "accelerator = \"cpu\"\n",
    "env = BanditBenchmarkEnvironment(train_loader, device=accelerator)\n",
    "\n",
    "bandit_module = LinearUCBBandit(\n",
    "    n_features=dataset.context_size * dataset.num_actions,\n",
    "    selector=EpsilonGreedySelector(0.1),\n",
    ").to(accelerator)\n",
    "\n",
    "\n",
    "logging.getLogger(\"lightning.pytorch.utilities.rank_zero\").setLevel(logging.FATAL)\n",
    "logger = OnlineBanditLoggerDecorator(CSVLogger(\"logs\", name=\"linear_bandit\", flush_logs_every_n_steps=100))"
   ]
  },
  {
   "cell_type": "code",
   "execution_count": null,
   "metadata": {},
   "outputs": [],
   "source": [
    "for contextualized_actions in env:\n",
    "    chosen_actions, _ = bandit_module.forward(contextualized_actions)\n",
    "\n",
    "    trainer = pl.Trainer(\n",
    "        max_epochs=1,\n",
    "        logger=logger,\n",
    "        log_every_n_steps=1,\n",
    "        enable_progress_bar=False,\n",
    "        enable_model_summary=False,\n",
    "        accelerator=accelerator,\n",
    "    )\n",
    "    feedback = env.get_feedback(chosen_actions)\n",
    "    batch_regret = env.compute_regret(chosen_actions)\n",
    "    logger.pre_training_log({\"regret\": batch_regret.sum().item()})\n",
    "\n",
    "    batch_dataloader = DataLoader(feedback, batch_size=32)\n",
    "    trainer.fit(bandit_module, batch_dataloader)\n",
    "    # Because of this: https://github.com/Lightning-AI/pytorch-lightning/issues/10294,\n",
    "    # we need to move the model to the desired device.\n",
    "    bandit_module = bandit_module.to(accelerator)"
   ]
  },
  {
   "cell_type": "code",
   "execution_count": null,
   "metadata": {},
   "outputs": [],
   "source": [
    "# load metrics from the logger and plot\n",
    "import pandas as pd\n",
    "import numpy as np\n",
    "\n",
    "metrics_csv = logger.log_dir + \"/metrics.csv\"\n",
    "print(metrics_csv)\n",
    "metrics = pd.read_csv(metrics_csv)\n",
    "cumulative_reward = np.cumsum(metrics[\"reward\"][:5000])\n",
    "cumulative_regret = np.cumsum(metrics[\"regret\"][:5000].dropna())"
   ]
  },
  {
   "cell_type": "code",
   "execution_count": null,
   "metadata": {},
   "outputs": [],
   "source": [
    "import matplotlib.pyplot as plt\n",
    "\n",
    "plt.plot(cumulative_reward, label=\"reward\")\n",
    "plt.plot(cumulative_regret, label=\"regret\")\n",
    "plt.xlabel(\"steps\")\n",
    "plt.ylabel(\"cumulative reward/regret\")\n",
    "plt.legend()\n",
    "plt.show()"
   ]
  },
  {
   "cell_type": "code",
   "execution_count": null,
   "metadata": {},
   "outputs": [],
   "source": [
    "# average reward\n",
    "print(sum(metrics[\"reward\"][:100]) / 100)\n",
    "print(sum(metrics[\"reward\"][:1000]) / 1000)\n",
    "print(sum(metrics[\"reward\"][:10000]) / 10000)\n",
    "print(sum(metrics[\"regret\"][:100].dropna()) / 100)\n",
    "print(sum(metrics[\"regret\"][:1000].dropna()) / 1000)\n",
    "print(sum(metrics[\"regret\"][:10000].dropna()) / 10000)"
   ]
  }
 ],
 "metadata": {
  "kernelspec": {
   "display_name": "neural_bandits",
   "language": "python",
   "name": "python3"
  },
  "language_info": {
   "codemirror_mode": {
    "name": "ipython",
    "version": 3
   },
   "file_extension": ".py",
   "mimetype": "text/x-python",
   "name": "python",
   "nbconvert_exporter": "python",
   "pygments_lexer": "ipython3",
   "version": "3.10.16"
  }
 },
 "nbformat": 4,
 "nbformat_minor": 2
}
