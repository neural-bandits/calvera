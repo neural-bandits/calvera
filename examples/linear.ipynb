{
 "cells": [
  {
   "cell_type": "code",
   "execution_count": 1,
   "metadata": {},
   "outputs": [],
   "source": [
    "# Core libraries\n",
    "import numpy as np\n",
    "import pandas as pd\n",
    "import matplotlib.pyplot as plt\n",
    "\n",
    "# PyTorch and Lightning\n",
    "import lightning as pl\n",
    "from torch.utils.data import DataLoader, Subset\n",
    "\n",
    "# Utilities\n",
    "import logging\n",
    "from tqdm import tqdm\n",
    "\n",
    "# Calvera bandit library\n",
    "from calvera.bandits import DiagonalPrecApproxLinearTSBandit\n",
    "from calvera.benchmark.datasets import StatlogDataset\n",
    "from calvera.benchmark import BanditBenchmarkEnvironment\n",
    "from calvera.utils import ArgMaxSelector"
   ]
  },
  {
   "cell_type": "code",
   "execution_count": 2,
   "metadata": {},
   "outputs": [
    {
     "name": "stdout",
     "output_type": "stream",
     "text": [
      "Context dimension size: 49\n",
      "Total number of samples: 58000\n"
     ]
    }
   ],
   "source": [
    "# Load the Statlog dataset\n",
    "dataset = StatlogDataset()\n",
    "\n",
    "# Print dataset information\n",
    "print(f\"Context dimension size: {dataset.context_size}\")\n",
    "print(f\"Total number of samples: {len(dataset)}\")"
   ]
  },
  {
   "cell_type": "code",
   "execution_count": 3,
   "metadata": {},
   "outputs": [],
   "source": [
    "# Configuration\n",
    "NUM_SAMPLES = 10000\n",
    "BATCH_SIZE = 32\n",
    "ACCELERATOR = \"cpu\"\n",
    "\n",
    "# Create data loader with a subset of the dataset\n",
    "train_loader = DataLoader(Subset(dataset, range(NUM_SAMPLES)), batch_size=BATCH_SIZE, shuffle=True)\n",
    "\n",
    "# Initialize the bandit environment\n",
    "env = BanditBenchmarkEnvironment(train_loader, device=ACCELERATOR)\n",
    "\n",
    "# Initialize the LinearTSBandit model\n",
    "bandit_module = DiagonalPrecApproxLinearTSBandit(\n",
    "    n_features=dataset.context_size,\n",
    "    selector=ArgMaxSelector(),\n",
    "    lazy_uncertainty_update=True,\n",
    "    eps=1e-2,\n",
    "    lambda_=1e3,\n",
    ").to(ACCELERATOR)\n",
    "\n",
    "# Configure logging\n",
    "logging.getLogger(\"lightning.pytorch.utilities.rank_zero\").setLevel(logging.FATAL)"
   ]
  },
  {
   "cell_type": "code",
   "execution_count": 4,
   "metadata": {},
   "outputs": [
    {
     "name": "stderr",
     "output_type": "stream",
     "text": [
      "Training Linear bandit:   0%|          | 0/313 [00:00<?, ?it/s]/Users/robert/miniconda3/envs/neural_bandits/lib/python3.10/site-packages/lightning/pytorch/trainer/setup.py:177: GPU available but not used. You can set it by doing `Trainer(accelerator='gpu')`.\n",
      "/Users/robert/miniconda3/envs/neural_bandits/lib/python3.10/site-packages/lightning/pytorch/trainer/connectors/logger_connector/logger_connector.py:76: Starting from v1.9.0, `tensorboardX` has been removed as a dependency of the `lightning.pytorch` package, due to potential conflicts with other packages in the ML ecosystem. For this reason, `logger=True` will use `CSVLogger` as the default logger, unless the `tensorboard` or `tensorboardX` packages are found. Please `pip install lightning[extra]` or one of them to enable TensorBoard support by default\n",
      "Training Linear bandit:   0%|          | 0/313 [00:00<?, ?it/s, reward=0.188, regret=0.812, avg_regret=0.812]/Users/robert/miniconda3/envs/neural_bandits/lib/python3.10/site-packages/lightning/pytorch/core/optimizer.py:183: `LightningModule.configure_optimizers` returned `None`, this fit will run with no optimizer\n",
      "/Users/robert/miniconda3/envs/neural_bandits/lib/python3.10/site-packages/lightning/pytorch/trainer/connectors/data_connector.py:425: The 'train_dataloader' does not have many workers which may be a bottleneck. Consider increasing the value of the `num_workers` argument` to `num_workers=7` in the `DataLoader` to improve performance.\n",
      "/Users/robert/miniconda3/envs/neural_bandits/lib/python3.10/site-packages/lightning/pytorch/loops/fit_loop.py:310: The number of training batches (1) is smaller than the logging interval Trainer(log_every_n_steps=50). Set a lower value for log_every_n_steps if you want to see logs for the training epoch.\n",
      "Training Linear bandit: 100%|██████████| 313/313 [01:06<00:00,  4.68it/s, reward=0.875, regret=0.125, avg_regret=0.218] \n"
     ]
    },
    {
     "data": {
      "text/html": [
       "<div>\n",
       "<style scoped>\n",
       "    .dataframe tbody tr th:only-of-type {\n",
       "        vertical-align: middle;\n",
       "    }\n",
       "\n",
       "    .dataframe tbody tr th {\n",
       "        vertical-align: top;\n",
       "    }\n",
       "\n",
       "    .dataframe thead th {\n",
       "        text-align: right;\n",
       "    }\n",
       "</style>\n",
       "<table border=\"1\" class=\"dataframe\">\n",
       "  <thead>\n",
       "    <tr style=\"text-align: right;\">\n",
       "      <th></th>\n",
       "      <th>reward</th>\n",
       "      <th>regret</th>\n",
       "    </tr>\n",
       "  </thead>\n",
       "  <tbody>\n",
       "    <tr>\n",
       "      <th>0</th>\n",
       "      <td>1.0</td>\n",
       "      <td>0.0</td>\n",
       "    </tr>\n",
       "    <tr>\n",
       "      <th>1</th>\n",
       "      <td>1.0</td>\n",
       "      <td>0.0</td>\n",
       "    </tr>\n",
       "    <tr>\n",
       "      <th>2</th>\n",
       "      <td>0.0</td>\n",
       "      <td>1.0</td>\n",
       "    </tr>\n",
       "    <tr>\n",
       "      <th>3</th>\n",
       "      <td>0.0</td>\n",
       "      <td>1.0</td>\n",
       "    </tr>\n",
       "    <tr>\n",
       "      <th>4</th>\n",
       "      <td>1.0</td>\n",
       "      <td>0.0</td>\n",
       "    </tr>\n",
       "  </tbody>\n",
       "</table>\n",
       "</div>"
      ],
      "text/plain": [
       "   reward  regret\n",
       "0     1.0     0.0\n",
       "1     1.0     0.0\n",
       "2     0.0     1.0\n",
       "3     0.0     1.0\n",
       "4     1.0     0.0"
      ]
     },
     "execution_count": 4,
     "metadata": {},
     "output_type": "execute_result"
    }
   ],
   "source": [
    "# Initialize arrays to store metrics\n",
    "rewards = np.array([])\n",
    "regrets = np.array([])\n",
    "\n",
    "# Training loop with progress bar\n",
    "progress = tqdm(iter(env), total=len(env), desc=\"Training Linear bandit\")\n",
    "for contextualized_actions in progress:\n",
    "    # Select actions based on current model\n",
    "    contextualized_actions = contextualized_actions / 255.0\n",
    "    chosen_actions, _ = bandit_module.forward(contextualized_actions)\n",
    "\n",
    "    # Set up trainer for this step\n",
    "    trainer = pl.Trainer(\n",
    "        max_epochs=1,\n",
    "        enable_progress_bar=False,\n",
    "        enable_model_summary=False,\n",
    "        accelerator=ACCELERATOR,\n",
    "    )\n",
    "\n",
    "    # Get feedback and compute regret\n",
    "    chosen_contextualized_actions, realized_rewards = env.get_feedback(chosen_actions)\n",
    "    batch_regret = env.compute_regret(chosen_actions)\n",
    "\n",
    "    # Record metrics\n",
    "    rewards = np.append(rewards, realized_rewards.cpu().numpy())\n",
    "    regrets = np.append(regrets, batch_regret.cpu().numpy())\n",
    "\n",
    "    # Update progress bar with current metrics\n",
    "    progress.set_postfix(\n",
    "        {\n",
    "            \"reward\": realized_rewards.mean().item(),\n",
    "            \"regret\": batch_regret.mean().item(),  # Fixed: was using reward value\n",
    "            \"avg_regret\": regrets.mean(),\n",
    "        }\n",
    "    )\n",
    "\n",
    "    # Update the bandit with feedback\n",
    "    bandit_module.record_feedback(chosen_contextualized_actions, realized_rewards)\n",
    "    trainer.fit(bandit_module)\n",
    "\n",
    "    # Move the model back to the desired device\n",
    "    # Required due to Lightning issue: https://github.com/Lightning-AI/pytorch-lightning/issues/10294\n",
    "    bandit_module = bandit_module.to(ACCELERATOR)\n",
    "\n",
    "# Create DataFrame with collected metrics\n",
    "metrics = pd.DataFrame(\n",
    "    {\n",
    "        \"reward\": rewards,\n",
    "        \"regret\": regrets,\n",
    "    }\n",
    ")\n",
    "\n",
    "# Display the first few rows of metrics\n",
    "metrics.head()"
   ]
  },
  {
   "cell_type": "code",
   "execution_count": 5,
   "metadata": {},
   "outputs": [
    {
     "data": {
      "text/plain": [
       "tensor([[0.0100, 0.0000, 0.0000,  ..., 0.0000, 0.0000, 0.0000],\n",
       "        [0.0000, 0.0147, 0.0000,  ..., 0.0000, 0.0000, 0.0000],\n",
       "        [0.0000, 0.0000, 0.0100,  ..., 0.0000, 0.0000, 0.0000],\n",
       "        ...,\n",
       "        [0.0000, 0.0000, 0.0000,  ..., 0.9703, 0.0000, 0.0000],\n",
       "        [0.0000, 0.0000, 0.0000,  ..., 0.0000, 0.9703, 0.0000],\n",
       "        [0.0000, 0.0000, 0.0000,  ..., 0.0000, 0.0000, 0.9701]])"
      ]
     },
     "execution_count": 5,
     "metadata": {},
     "output_type": "execute_result"
    }
   ],
   "source": [
    "bandit_module.precision_matrix"
   ]
  },
  {
   "cell_type": "code",
   "execution_count": 6,
   "metadata": {},
   "outputs": [
    {
     "data": {
      "image/png": "[encoded data removed]",
      "text/plain": [
       "<Figure size 640x480 with 1 Axes>"
      ]
     },
     "metadata": {},
     "output_type": "display_data"
    }
   ],
   "source": [
    "# Calculate cumulative metrics\n",
    "cumulative_reward = np.cumsum(metrics[\"reward\"])\n",
    "cumulative_regret = np.cumsum(metrics[\"regret\"])\n",
    "\n",
    "# Plot cumulative regret and reward\n",
    "plt.plot(cumulative_reward, label=\"Reward\")\n",
    "plt.plot(cumulative_regret, label=\"Regret\")\n",
    "plt.xlabel(\"Steps\")\n",
    "plt.ylabel(\"Cumulative Reward/Regret\")\n",
    "plt.legend()\n",
    "plt.show()"
   ]
  },
  {
   "cell_type": "code",
   "execution_count": 7,
   "metadata": {},
   "outputs": [
    {
     "name": "stdout",
     "output_type": "stream",
     "text": [
      "Average reward (first 10 rounds): 0.3000\n",
      "Average reward (first 100 rounds): 0.5800\n",
      "Average reward (all rounds): 0.7819\n",
      "\n",
      "Average regret (first 10 rounds): 0.7000\n",
      "Average regret (first 100 rounds): 0.4200\n",
      "Average regret (all rounds): 0.2181\n"
     ]
    }
   ],
   "source": [
    "# Calculate metrics for each time horizon\n",
    "print(f\"Average reward (first 10 rounds): {np.mean(metrics['reward'][:10]):.4f}\")\n",
    "print(f\"Average reward (first 100 rounds): {np.mean(metrics['reward'][:100]):.4f}\")\n",
    "print(f\"Average reward (all rounds): {np.mean(metrics['reward']):.4f}\")\n",
    "print(\"\")\n",
    "print(f\"Average regret (first 10 rounds): {np.mean(metrics['regret'][:10]):.4f}\")\n",
    "print(f\"Average regret (first 100 rounds): {np.mean(metrics['regret'][:100]):.4f}\")\n",
    "print(f\"Average regret (all rounds): {np.mean(metrics['regret']):.4f}\")"
   ]
  }
 ],
 "metadata": {
  "kernelspec": {
   "display_name": "neural_bandits",
   "language": "python",
   "name": "python3"
  },
  "language_info": {
   "codemirror_mode": {
    "name": "ipython",
    "version": 3
   },
   "file_extension": ".py",
   "mimetype": "text/x-python",
   "name": "python",
   "nbconvert_exporter": "python",
   "pygments_lexer": "ipython3",
   "version": "3.10.16"
  }
 },
 "nbformat": 4,
 "nbformat_minor": 2
}
