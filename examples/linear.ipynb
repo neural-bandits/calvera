{
    "cells": [
        {
            "cell_type": "code",
            "execution_count": 21,
            "metadata": {},
            "outputs": [],
            "source": [
                "import lightning as pl\n",
                "import logging\n",
                "from torch.utils.data import DataLoader, Subset\n",
                "import pandas as pd\n",
                "from tqdm import tqdm\n",
                "import numpy as np\n",
                "\n",
                "from neural_bandits.bandits.linear_ucb_bandit import LinearUCBBandit\n",
                "from neural_bandits.bandits.linear_ts_bandit import LinearTSBandit\n",
                "from neural_bandits.benchmark.datasets.statlog import StatlogDataset\n",
                "\n",
                "from neural_bandits.benchmark.environment import BanditBenchmarkEnvironment"
            ]
        },
        {
            "cell_type": "code",
            "execution_count": 22,
            "metadata": {},
            "outputs": [
                {
                    "name": "stdout",
                    "output_type": "stream",
                    "text": [
                        "63\n",
                        "58000\n"
                    ]
                }
            ],
            "source": [
                "dataset = StatlogDataset()\n",
                "print(dataset.context_size)\n",
                "print(len(dataset))"
            ]
        },
        {
            "cell_type": "code",
            "execution_count": 23,
            "metadata": {},
            "outputs": [],
            "source": [
                "from neural_bandits.utils.selectors import EpsilonGreedySelector\n",
                "\n",
                "train_loader = DataLoader(Subset(dataset, range(5000)), batch_size=32, shuffle=True)\n",
                "\n",
                "accelerator = \"cpu\"\n",
                "env = BanditBenchmarkEnvironment(train_loader, device=accelerator)\n",
                "\n",
                "bandit_module = LinearTSBandit(\n",
                "    n_features=dataset.context_size,\n",
                "    selector=EpsilonGreedySelector(0.1),\n",
                "    lazy_uncertainty_update=True,\n",
                ").to(accelerator)\n",
                "\n",
                "logging.getLogger(\"lightning.pytorch.utilities.rank_zero\").setLevel(logging.FATAL)"
            ]
        },
        {
            "cell_type": "code",
            "execution_count": 24,
            "metadata": {},
            "outputs": [
                {
                    "name": "stderr",
                    "output_type": "stream",
                    "text": [
                        "  0%|          | 0/157 [00:00<?, ?it/s, reward=0.0625, regret=0.0625, avg_regret=0.938]c:\\Users\\Philipp\\miniconda3\\envs\\neural_bandits\\lib\\site-packages\\lightning\\pytorch\\core\\optimizer.py:183: `LightningModule.configure_optimizers` returned `None`, this fit will run with no optimizer\n",
                        "c:\\Users\\Philipp\\miniconda3\\envs\\neural_bandits\\lib\\site-packages\\lightning\\pytorch\\trainer\\connectors\\data_connector.py:425: The 'train_dataloader' does not have many workers which may be a bottleneck. Consider increasing the value of the `num_workers` argument` to `num_workers=11` in the `DataLoader` to improve performance.\n",
                        "c:\\Users\\Philipp\\miniconda3\\envs\\neural_bandits\\lib\\site-packages\\lightning\\pytorch\\loops\\fit_loop.py:310: The number of training batches (1) is smaller than the logging interval Trainer(log_every_n_steps=50). Set a lower value for log_every_n_steps if you want to see logs for the training epoch.\n",
                        "100%|██████████| 157/157 [00:37<00:00,  4.19it/s, reward=0.75, regret=0.75, avg_regret=0.286]  \n"
                    ]
                },
                {
                    "data": {
                        "text/html": [
                            "<div>\n",
                            "<style scoped>\n",
                            "    .dataframe tbody tr th:only-of-type {\n",
                            "        vertical-align: middle;\n",
                            "    }\n",
                            "\n",
                            "    .dataframe tbody tr th {\n",
                            "        vertical-align: top;\n",
                            "    }\n",
                            "\n",
                            "    .dataframe thead th {\n",
                            "        text-align: right;\n",
                            "    }\n",
                            "</style>\n",
                            "<table border=\"1\" class=\"dataframe\">\n",
                            "  <thead>\n",
                            "    <tr style=\"text-align: right;\">\n",
                            "      <th></th>\n",
                            "      <th>reward</th>\n",
                            "      <th>regret</th>\n",
                            "    </tr>\n",
                            "  </thead>\n",
                            "  <tbody>\n",
                            "    <tr>\n",
                            "      <th>0</th>\n",
                            "      <td>0.0</td>\n",
                            "      <td>1.0</td>\n",
                            "    </tr>\n",
                            "    <tr>\n",
                            "      <th>1</th>\n",
                            "      <td>0.0</td>\n",
                            "      <td>1.0</td>\n",
                            "    </tr>\n",
                            "    <tr>\n",
                            "      <th>2</th>\n",
                            "      <td>0.0</td>\n",
                            "      <td>1.0</td>\n",
                            "    </tr>\n",
                            "    <tr>\n",
                            "      <th>3</th>\n",
                            "      <td>0.0</td>\n",
                            "      <td>1.0</td>\n",
                            "    </tr>\n",
                            "    <tr>\n",
                            "      <th>4</th>\n",
                            "      <td>0.0</td>\n",
                            "      <td>1.0</td>\n",
                            "    </tr>\n",
                            "    <tr>\n",
                            "      <th>...</th>\n",
                            "      <td>...</td>\n",
                            "      <td>...</td>\n",
                            "    </tr>\n",
                            "    <tr>\n",
                            "      <th>4995</th>\n",
                            "      <td>1.0</td>\n",
                            "      <td>0.0</td>\n",
                            "    </tr>\n",
                            "    <tr>\n",
                            "      <th>4996</th>\n",
                            "      <td>1.0</td>\n",
                            "      <td>0.0</td>\n",
                            "    </tr>\n",
                            "    <tr>\n",
                            "      <th>4997</th>\n",
                            "      <td>1.0</td>\n",
                            "      <td>0.0</td>\n",
                            "    </tr>\n",
                            "    <tr>\n",
                            "      <th>4998</th>\n",
                            "      <td>0.0</td>\n",
                            "      <td>1.0</td>\n",
                            "    </tr>\n",
                            "    <tr>\n",
                            "      <th>4999</th>\n",
                            "      <td>0.0</td>\n",
                            "      <td>1.0</td>\n",
                            "    </tr>\n",
                            "  </tbody>\n",
                            "</table>\n",
                            "<p>5000 rows × 2 columns</p>\n",
                            "</div>"
                        ],
                        "text/plain": [
                            "      reward  regret\n",
                            "0        0.0     1.0\n",
                            "1        0.0     1.0\n",
                            "2        0.0     1.0\n",
                            "3        0.0     1.0\n",
                            "4        0.0     1.0\n",
                            "...      ...     ...\n",
                            "4995     1.0     0.0\n",
                            "4996     1.0     0.0\n",
                            "4997     1.0     0.0\n",
                            "4998     0.0     1.0\n",
                            "4999     0.0     1.0\n",
                            "\n",
                            "[5000 rows x 2 columns]"
                        ]
                    },
                    "execution_count": 24,
                    "metadata": {},
                    "output_type": "execute_result"
                }
            ],
            "source": [
                "rewards = np.array([])\n",
                "regrets = np.array([])\n",
                "progress = tqdm(iter(env), total=len(env))\n",
                "for contextualized_actions in progress:\n",
                "    chosen_actions, _ = bandit_module.forward(contextualized_actions)\n",
                "\n",
                "    trainer = pl.Trainer(\n",
                "        max_epochs=1,\n",
                "        enable_progress_bar=False,\n",
                "        enable_model_summary=False,\n",
                "        accelerator=accelerator,\n",
                "    )\n",
                "    chosen_contextualized_actions, realized_rewards = env.get_feedback(chosen_actions)\n",
                "    batch_regret = env.compute_regret(chosen_actions)\n",
                "\n",
                "    rewards = np.append(rewards, realized_rewards.cpu().numpy())\n",
                "    regrets = np.append(regrets, batch_regret.cpu().numpy())\n",
                "    \n",
                "    progress.set_postfix({\"reward\": realized_rewards.mean().item(), \"regret\": realized_rewards.mean().item(), \"avg_regret\": regrets.mean()})\n",
                "\n",
                "    bandit_module.record_feedback(chosen_contextualized_actions, realized_rewards)\n",
                "    trainer.fit(bandit_module)\n",
                "    # Because of this: https://github.com/Lightning-AI/pytorch-lightning/issues/10294,\n",
                "    # we need to move the model to the desired device.\n",
                "    bandit_module = bandit_module.to(accelerator)\n",
                "metrics = pd.DataFrame({\n",
                "    \"reward\": rewards,\n",
                "    \"regret\": regrets,\n",
                "})\n",
                "metrics"
            ]
        },
        {
            "cell_type": "code",
            "execution_count": 28,
            "metadata": {},
            "outputs": [],
            "source": [
                "# load metrics from the logger and plot\n",
                "import pandas as pd\n",
                "import numpy as np\n",
                "\n",
                "cumulative_reward = np.cumsum(metrics[\"reward\"][:5000])\n",
                "cumulative_regret = np.cumsum(metrics[\"regret\"][:5000].dropna())"
            ]
        },
        {
            "cell_type": "code",
            "execution_count": 29,
            "metadata": {},
            "outputs": [
                {
                    "data": {
                        "image/png": "[encoded data removed]",
                        "text/plain": [
                            "<Figure size 640x480 with 1 Axes>"
                        ]
                    },
                    "metadata": {},
                    "output_type": "display_data"
                }
            ],
            "source": [
                "import matplotlib.pyplot as plt\n",
                "\n",
                "plt.plot(cumulative_reward, label=\"reward\")\n",
                "plt.plot(cumulative_regret, label=\"regret\")\n",
                "plt.xlabel(\"steps\")\n",
                "plt.ylabel(\"cumulative reward/regret\")\n",
                "plt.legend()\n",
                "plt.show()"
            ]
        },
        {
            "cell_type": "code",
            "execution_count": 30,
            "metadata": {},
            "outputs": [
                {
                    "name": "stdout",
                    "output_type": "stream",
                    "text": [
                        "0.47\n",
                        "0.688\n",
                        "0.3572\n",
                        "0.53\n",
                        "0.312\n",
                        "0.1428\n"
                    ]
                }
            ],
            "source": [
                "# average reward\n",
                "print(sum(metrics[\"reward\"][:100]) / 100)\n",
                "print(sum(metrics[\"reward\"][:1000]) / 1000)\n",
                "print(sum(metrics[\"reward\"][:10000]) / 10000)\n",
                "print(sum(metrics[\"regret\"][:100].dropna()) / 100)\n",
                "print(sum(metrics[\"regret\"][:1000].dropna()) / 1000)\n",
                "print(sum(metrics[\"regret\"][:10000].dropna()) / 10000)"
            ]
        }
    ],
    "metadata": {
        "kernelspec": {
            "display_name": "neural_bandits",
            "language": "python",
            "name": "python3"
        },
        "language_info": {
            "codemirror_mode": {
                "name": "ipython",
                "version": 3
            },
            "file_extension": ".py",
            "mimetype": "text/x-python",
            "name": "python",
            "nbconvert_exporter": "python",
            "pygments_lexer": "ipython3",
            "version": "3.10.16"
        }
    },
    "nbformat": 4,
    "nbformat_minor": 2
}
