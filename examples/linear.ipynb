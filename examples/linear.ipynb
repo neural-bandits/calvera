{
 "cells": [
  {
   "cell_type": "code",
   "execution_count": 2,
   "metadata": {},
   "outputs": [],
   "source": [
    "import logging\n",
    "import pprint\n",
    "import torch\n",
    "import random\n",
    "\n",
    "import lightning as pl\n",
    "from lightning.pytorch.loggers.csv_logs import CSVLogger\n",
    "from torch.utils.data import DataLoader, Subset\n",
    "\n",
    "from neural_bandits.bandits.linear_ucb_bandit import LinearUCBBandit\n",
    "from neural_bandits.benchmark.datasets.statlog import StatlogDataset\n",
    "from neural_bandits.utils.selectors import EpsilonGreedySelector\n",
    "\n",
    "from neural_bandits.benchmark.environment import BanditBenchmarkEnvironment\n",
    "from neural_bandits.benchmark.logger_decorator import OnlineBanditLoggerDecorator"
   ]
  },
  {
   "cell_type": "code",
   "execution_count": null,
   "metadata": {},
   "outputs": [
    {
     "name": "stdout",
     "output_type": "stream",
     "text": [
      "63\n",
      "58000\n"
     ]
    }
   ],
   "source": [
    "dataset = StatlogDataset()\n",
    "print(dataset.context_size)\n",
    "print(len(dataset))"
   ]
  },
  {
   "cell_type": "code",
   "execution_count": 5,
   "metadata": {},
   "outputs": [],
   "source": [
    "batch_size = 1\n",
    "\n",
    "train_loader = DataLoader(Subset(dataset, range(10000)), batch_size=batch_size, shuffle=True)\n",
    "\n",
    "accelerator = \"cpu\"\n",
    "env = BanditBenchmarkEnvironment(train_loader, device=accelerator)\n",
    "\n",
    "bandit_module = LinearUCBBandit(\n",
    "    n_features=dataset.context_size,\n",
    "    selector=EpsilonGreedySelector(epsilon=0.1),\n",
    ").to(accelerator)\n",
    "\n",
    "\n",
    "logging.getLogger(\"lightning.pytorch.utilities.rank_zero\").setLevel(logging.FATAL)\n",
    "logger = OnlineBanditLoggerDecorator(CSVLogger(\"logs\", name=\"linear_bandit\", flush_logs_every_n_steps=100))"
   ]
  },
  {
   "cell_type": "code",
   "execution_count": 6,
   "metadata": {},
   "outputs": [
    {
     "name": "stdout",
     "output_type": "stream",
     "text": [
      "Step: 0 {'training_run': 1, 'reward': 1.0, 'epoch': 0, 'regret': 0.0}"
     ]
    },
    {
     "name": "stderr",
     "output_type": "stream",
     "text": [
      "c:\\Users\\Parisa\\anaconda3\\envs\\neural_bandits\\lib\\site-packages\\lightning\\pytorch\\core\\optimizer.py:183: `LightningModule.configure_optimizers` returned `None`, this fit will run with no optimizer\n",
      "c:\\Users\\Parisa\\anaconda3\\envs\\neural_bandits\\lib\\site-packages\\lightning\\pytorch\\trainer\\connectors\\data_connector.py:425: The 'train_dataloader' does not have many workers which may be a bottleneck. Consider increasing the value of the `num_workers` argument` to `num_workers=11` in the `DataLoader` to improve performance.\n"
     ]
    },
    {
     "name": "stdout",
     "output_type": "stream",
     "text": [
      "Step: 9998 {'training_run': 9999, 'reward': 0.0, 'epoch': 0, 'regret': 1.0}"
     ]
    }
   ],
   "source": [
    "for contextualized_actions in env:\n",
    "    chosen_actions, _ = bandit_module.forward(contextualized_actions)\n",
    "\n",
    "    trainer = pl.Trainer(\n",
    "        max_epochs=1,\n",
    "        logger=logger,\n",
    "        log_every_n_steps=1,\n",
    "        enable_progress_bar=False,\n",
    "        enable_model_summary=False,\n",
    "        enable_checkpointing=True,\n",
    "        accelerator=accelerator,\n",
    "    )\n",
    "    feedback = env.get_feedback(chosen_actions)\n",
    "    batch_regret = env.compute_regret(chosen_actions)\n",
    "    logger.pre_training_log({\"regret\": batch_regret})\n",
    "\n",
    "    batch_dataloader = DataLoader(feedback, batch_size=batch_size)\n",
    "    trainer.fit(bandit_module, batch_dataloader)\n",
    "    # Because of this: https://github.com/Lightning-AI/pytorch-lightning/issues/10294,\n",
    "    # we need to move the model to the desired device.\n",
    "    bandit_module = bandit_module.to(accelerator)"
   ]
  },
  {
   "cell_type": "code",
   "execution_count": 10,
   "metadata": {},
   "outputs": [
    {
     "name": "stdout",
     "output_type": "stream",
     "text": [
      "Model saved to logs\\linear_bandit\\version_8/bandit_checkpoint.ckpt\n"
     ]
    }
   ],
   "source": [
    "checkpoint_path = logger._logger_wrappee.log_dir + \"/bandit_checkpoint.ckpt\"\n",
    "trainer.save_checkpoint(checkpoint_path)\n",
    "print(f\"Model saved to {checkpoint_path}\")"
   ]
  },
  {
   "cell_type": "code",
   "execution_count": 11,
   "metadata": {},
   "outputs": [
    {
     "name": "stdout",
     "output_type": "stream",
     "text": [
      "Top-level keys in checkpoint:\n",
      "['epoch', 'global_step', 'pytorch-lightning_version', 'state_dict', 'loops', 'callbacks', 'optimizer_states', 'lr_schedulers', 'hparams_name', 'hyper_parameters', 'precision_matrix', 'b', 'theta', 'selector_type', 'selector_epsilon', 'selector_generator_state']\n",
      "\n",
      "Hyperparameters:\n",
      "{'alpha': 1.0, 'eps': 0.01, 'lazy_uncertainty_update': False, 'n_features': 63}\n",
      "\n",
      "Model state_dict keys:\n",
      "['precision_matrix', 'b', 'theta']\n",
      "\n",
      "Precision matrix shape:\n",
      "torch.Size([63, 63])\n",
      "Sample values:\n",
      "tensor([[0.9225, 0.0106],\n",
      "        [0.0106, 0.6080]])\n",
      "\n",
      "Parameter b shape:\n",
      "torch.Size([63])\n",
      "Sample values:\n",
      "tensor([5.9963e+05, 4.9800e+02, 2.7810e+05, 4.6280e+03, 2.8838e+05])\n",
      "\n",
      "Parameter theta shape:\n",
      "torch.Size([63])\n",
      "Sample values:\n",
      "tensor([ 15546.1719, -16373.9844,   2280.5625,   8645.9355,  12777.7891])\n",
      "\n",
      "Selector information:\n",
      "'EpsilonGreedySelector'\n",
      "\n",
      "Epsilon value:\n",
      "0.1\n",
      "\n",
      "Diagonal approximation flag:\n",
      "False\n"
     ]
    },
    {
     "name": "stderr",
     "output_type": "stream",
     "text": [
      "C:\\Users\\Parisa\\AppData\\Local\\Temp\\ipykernel_31284\\3848726081.py:3: FutureWarning: You are using `torch.load` with `weights_only=False` (the current default value), which uses the default pickle module implicitly. It is possible to construct malicious pickle data which will execute arbitrary code during unpickling (See https://github.com/pytorch/pytorch/blob/main/SECURITY.md#untrusted-models for more details). In a future release, the default value for `weights_only` will be flipped to `True`. This limits the functions that could be executed during unpickling. Arbitrary objects will no longer be allowed to be loaded via this mode unless they are explicitly allowlisted by the user via `torch.serialization.add_safe_globals`. We recommend you start setting `weights_only=True` for any use case where you don't have full control of the loaded file. Please open an issue on GitHub for any issues related to this experimental feature.\n",
      "  checkpoint = torch.load(checkpoint_path, map_location=\"cpu\")\n"
     ]
    }
   ],
   "source": [
    "checkpoint_path = \"logs\\\\linear_bandit\\\\version_8/bandit_checkpoint.ckpt\"\n",
    "\n",
    "checkpoint = torch.load(checkpoint_path, map_location=\"cpu\")\n",
    "    \n",
    "pp = pprint.PrettyPrinter(indent=4)\n",
    "\n",
    "print(\"Top-level keys in checkpoint:\")\n",
    "print(list(checkpoint.keys()))\n",
    "\n",
    "print(\"\\nHyperparameters:\")\n",
    "pp.pprint(checkpoint.get('hyper_parameters', {}))\n",
    "\n",
    "print(\"\\nModel state_dict keys:\")\n",
    "if 'state_dict' in checkpoint:\n",
    "    pp.pprint(list(checkpoint['state_dict'].keys()))\n",
    "\n",
    "print(\"\\nPrecision matrix shape:\")\n",
    "if 'precision_matrix' in checkpoint:\n",
    "    pp.pprint(checkpoint['precision_matrix'].shape)\n",
    "    print(\"Sample values:\")\n",
    "    pp.pprint(checkpoint['precision_matrix'][0:2, 0:2])\n",
    "\n",
    "print(\"\\nParameter b shape:\")\n",
    "if 'b' in checkpoint:\n",
    "    pp.pprint(checkpoint['b'].shape)\n",
    "    print(\"Sample values:\")\n",
    "    pp.pprint(checkpoint['b'][:5])\n",
    "\n",
    "print(\"\\nParameter theta shape:\")\n",
    "if 'theta' in checkpoint:\n",
    "    pp.pprint(checkpoint['theta'].shape)\n",
    "    print(\"Sample values:\")\n",
    "    pp.pprint(checkpoint['theta'][:5])\n",
    "\n",
    "print(\"\\nSelector information:\")\n",
    "if 'selector_type' in checkpoint:\n",
    "    pp.pprint(checkpoint['selector_type'])\n",
    "    \n",
    "    if checkpoint['selector_type'] == 'EpsilonGreedySelector':\n",
    "        print(\"\\nEpsilon value:\")\n",
    "        pp.pprint(checkpoint.get('selector_epsilon', None))\n",
    "    elif checkpoint['selector_type'] == 'TopKSelector':\n",
    "        print(\"\\nK value:\")\n",
    "        pp.pprint(checkpoint.get('selector_k', None))\n",
    "\n",
    "print(\"\\nDiagonal approximation flag:\")\n",
    "diagonal_approx = checkpoint.get('diagonal_precision_approx', False)\n",
    "pp.pprint(diagonal_approx)"
   ]
  },
  {
   "cell_type": "code",
   "execution_count": 12,
   "metadata": {},
   "outputs": [
    {
     "name": "stdout",
     "output_type": "stream",
     "text": [
      "Model loaded successfully!\n"
     ]
    }
   ],
   "source": [
    "loaded_bandit = LinearUCBBandit.load_from_checkpoint(\n",
    "    checkpoint_path,\n",
    "    n_features=dataset.context_size,\n",
    ")\n",
    "print(\"Model loaded successfully!\")"
   ]
  },
  {
   "cell_type": "code",
   "execution_count": 21,
   "metadata": {},
   "outputs": [
    {
     "name": "stdout",
     "output_type": "stream",
     "text": [
      "True best action/arm: 4\n",
      "Model predicted action/arm: 0\n",
      "Correct prediction: False\n",
      "Full model prediction: tensor([[1, 0, 0, 0, 0, 0, 0, 0, 0]])\n"
     ]
    }
   ],
   "source": [
    "context, label = dataset[random.randint(0, len(dataset) - 1)]\n",
    "contextualized_actions = context.unsqueeze(0)\n",
    "\n",
    "chosen_actions, _ = loaded_bandit(contextualized_actions)\n",
    "predicted_arm = chosen_actions.argmax(dim=1).item()\n",
    "\n",
    "true_arm = label.argmax() if isinstance(label, torch.Tensor) else label\n",
    "\n",
    "print(f\"True best action/arm: {true_arm}\")\n",
    "print(f\"Model predicted action/arm: {predicted_arm}\")\n",
    "print(f\"Correct prediction: {true_arm == predicted_arm}\")\n",
    "print(f\"Full model prediction: {chosen_actions}\")"
   ]
  },
  {
   "cell_type": "code",
   "execution_count": null,
   "metadata": {},
   "outputs": [
    {
     "name": "stdout",
     "output_type": "stream",
     "text": [
      "logs\\linear_bandit\\version_8/metrics.csv\n"
     ]
    }
   ],
   "source": [
    "# load metrics from the logger and plot\n",
    "import pandas as pd\n",
    "import numpy as np\n",
    "\n",
    "metrics_csv = logger.log_dir + \"/metrics.csv\"\n",
    "print(metrics_csv)\n",
    "metrics = pd.read_csv(metrics_csv)\n",
    "cumulative_reward = np.cumsum(metrics[\"reward\"][:10000])\n",
    "cumulative_regret = np.cumsum(metrics[\"regret\"][:10000].dropna())"
   ]
  },
  {
   "cell_type": "code",
   "execution_count": 8,
   "metadata": {},
   "outputs": [
    {
     "data": {
      "image/png": "[encoded data removed]",
      "text/plain": [
       "<Figure size 640x480 with 1 Axes>"
      ]
     },
     "metadata": {},
     "output_type": "display_data"
    }
   ],
   "source": [
    "import matplotlib.pyplot as plt\n",
    "\n",
    "plt.plot(cumulative_reward, label=\"reward\")\n",
    "plt.plot(cumulative_regret, label=\"regret\")\n",
    "plt.xlabel(\"steps\")\n",
    "plt.ylabel(\"cumulative reward/regret\")\n",
    "plt.legend()\n",
    "plt.show()"
   ]
  },
  {
   "cell_type": "code",
   "execution_count": 9,
   "metadata": {},
   "outputs": [
    {
     "name": "stdout",
     "output_type": "stream",
     "text": [
      "0.72\n",
      "0.711\n",
      "0.7254\n",
      "0.28\n",
      "0.289\n",
      "0.2746\n"
     ]
    }
   ],
   "source": [
    "# average reward\n",
    "print(sum(metrics[\"reward\"][:100]) / 100)\n",
    "print(sum(metrics[\"reward\"][:1000]) / 1000)\n",
    "print(sum(metrics[\"reward\"][:10000]) / 10000)\n",
    "print(sum(metrics[\"regret\"][:100].dropna()) / 100)\n",
    "print(sum(metrics[\"regret\"][:1000].dropna()) / 1000)\n",
    "print(sum(metrics[\"regret\"][:10000].dropna()) / 10000)"
   ]
  }
 ],
 "metadata": {
  "kernelspec": {
   "display_name": "neural_bandits",
   "language": "python",
   "name": "python3"
  },
  "language_info": {
   "codemirror_mode": {
    "name": "ipython",
    "version": 3
   },
   "file_extension": ".py",
   "mimetype": "text/x-python",
   "name": "python",
   "nbconvert_exporter": "python",
   "pygments_lexer": "ipython3",
   "version": "3.10.16"
  }
 },
 "nbformat": 4,
 "nbformat_minor": 2
}
