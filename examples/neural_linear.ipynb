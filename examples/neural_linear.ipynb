{
 "cells": [
  {
   "cell_type": "code",
   "execution_count": 1,
   "metadata": {},
   "outputs": [],
   "source": [
    "import logging\n",
    "\n",
    "import lightning as pl\n",
    "from lightning.pytorch.loggers.csv_logs import CSVLogger\n",
    "import torch\n",
    "from torch.utils.data import DataLoader, Subset\n",
    "\n",
    "from neural_bandits.bandits.neural_linear_bandit import NeuralLinearBandit\n",
    "from neural_bandits.benchmark.datasets.statlog import StatlogDataset\n",
    "\n",
    "from neural_bandits.benchmark.environment import BanditBenchmarkEnvironment\n",
    "from neural_bandits.benchmark.logger_decorator import OnlineBanditLoggerDecorator"
   ]
  },
  {
   "cell_type": "code",
   "execution_count": 2,
   "metadata": {},
   "outputs": [],
   "source": [
    "class Encoder(torch.nn.Module):\n",
    "    def __init__(self, input_dim, hidden_dim, output_dim):\n",
    "        super(Encoder, self).__init__()\n",
    "        self.fc1 = torch.nn.Linear(input_dim, hidden_dim)\n",
    "        self.fc2 = torch.nn.Linear(hidden_dim, hidden_dim)\n",
    "        self.fc3 = torch.nn.Linear(hidden_dim, output_dim)\n",
    "    \n",
    "    def forward(self, x):\n",
    "        x = torch.relu(self.fc1(x))\n",
    "        x = torch.relu(self.fc2(x))\n",
    "        x = self.fc3(x)\n",
    "        return x"
   ]
  },
  {
   "cell_type": "code",
   "execution_count": 3,
   "metadata": {},
   "outputs": [
    {
     "name": "stdout",
     "output_type": "stream",
     "text": [
      "7\n",
      "58000\n"
     ]
    }
   ],
   "source": [
    "dataset = StatlogDataset()\n",
    "print(dataset.context_size)\n",
    "print(len(dataset))"
   ]
  },
  {
   "cell_type": "code",
   "execution_count": null,
   "metadata": {},
   "outputs": [
    {
     "ename": "",
     "evalue": "",
     "output_type": "error",
     "traceback": [
      "\u001b[1;31mThe Kernel crashed while executing code in the current cell or a previous cell. \n",
      "\u001b[1;31mPlease review the code in the cell(s) to identify a possible cause of the failure. \n",
      "\u001b[1;31mClick <a href='https://aka.ms/vscodeJupyterKernelCrash'>here</a> for more info. \n",
      "\u001b[1;31mView Jupyter <a href='command:jupyter.viewOutput'>log</a> for further details."
     ]
    }
   ],
   "source": [
    "accelerator = \"mps\"\n",
    "\n",
    "train_loader = DataLoader(Subset(dataset, range(5000)), batch_size=32, shuffle=True)\n",
    "env = BanditBenchmarkEnvironment(train_loader, device=accelerator)\n",
    "bandit_module = NeuralLinearBandit(\n",
    "        encoder = Encoder(\n",
    "            input_dim = dataset.context_size * dataset.num_actions,\n",
    "            hidden_dim = 64,\n",
    "            output_dim = 32\n",
    "        ),\n",
    "        n_encoder_input_size = dataset.context_size * dataset.num_actions,\n",
    "        n_embedding_size = 32,\n",
    ").to(accelerator)\n",
    "\n",
    "logging.getLogger(\"lightning.pytorch.utilities.rank_zero\").setLevel(logging.FATAL)\n",
    "logger = OnlineBanditLoggerDecorator(CSVLogger(\"logs\", name=\"neural_linear_bandit\", flush_logs_every_n_steps=100))"
   ]
  },
  {
   "cell_type": "code",
   "execution_count": null,
   "metadata": {},
   "outputs": [
    {
     "name": "stdout",
     "output_type": "stream",
     "text": [
      "updated head\n"
     ]
    },
    {
     "name": "stderr",
     "output_type": "stream",
     "text": [
      "/Users/robert/miniconda3/envs/neural_bandits/lib/python3.10/site-packages/lightning/pytorch/trainer/connectors/data_connector.py:425: The 'train_dataloader' does not have many workers which may be a bottleneck. Consider increasing the value of the `num_workers` argument` to `num_workers=7` in the `DataLoader` to improve performance.\n",
      "/Users/robert/Desktop/calvera/src/neural_bandits/bandits/neural_linear_bandit.py:320: UserWarning: Using a target size (torch.Size([32])) that is different to the input size (torch.Size([32, 1])). This will likely lead to incorrect results due to broadcasting. Please ensure they have the same size.\n",
      "  return torch.nn.functional.mse_loss(y_pred, y)\n"
     ]
    },
    {
     "name": "stdout",
     "output_type": "stream",
     "text": [
      "Step: 0 {'training_run': 0, 'reward': 10.0, 'epoch': 0, 'regret': 12.0}trained nn\n",
      "updated head\n",
      "Step: 1 {'training_run': 0, 'reward': 10.0, 'nn_loss': 0.2844904661178589, 'epoch': 0}updated head\n",
      "Step: 1 {'training_run': 1, 'reward': 12.0, 'epoch': 0, 'regret': 7.0}trained nn\n",
      "updated head\n",
      "Step: 2 {'training_run': 1, 'reward': 13.0, 'nn_loss': 0.22689619660377502, 'epoch': 0}updated head\n",
      "Step: 2 {'training_run': 2, 'reward': 11.0, 'epoch': 0, 'regret': 8.0}trained nn\n",
      "updated head\n",
      "Step: 3 {'training_run': 2, 'reward': 13.0, 'nn_loss': 0.2791798710823059, 'epoch': 0}updated head\n",
      "Step: 3 {'training_run': 3, 'reward': 13.0, 'epoch': 0, 'regret': 7.0}trained nn\n",
      "updated head\n",
      "Step: 4 {'training_run': 3, 'reward': 12.0, 'nn_loss': 0.4391842484474182, 'epoch': 0}updated head\n",
      "Step: 4 {'training_run': 4, 'reward': 15.0, 'epoch': 0, 'regret': 4.0}trained nn\n",
      "updated head\n",
      "Step: 5 {'training_run': 4, 'reward': 13.0, 'nn_loss': 0.11992986500263214, 'epoch': 0}updated head\n",
      "Step: 5 {'training_run': 5, 'reward': 12.0, 'epoch': 0, 'regret': 6.0}trained nn\n",
      "updated head\n",
      "Step: 6 {'training_run': 5, 'reward': 14.0, 'nn_loss': 0.2654290497303009, 'epoch': 0}updated head\n",
      "Step: 6 {'training_run': 6, 'reward': 11.0, 'epoch': 0, 'regret': 14.0}trained nn\n",
      "updated head\n",
      "Step: 7 {'training_run': 6, 'reward': 7.0, 'nn_loss': 0.18027186393737793, 'epoch': 0}updated head\n",
      "Step: 7 {'training_run': 7, 'reward': 4.0, 'epoch': 0, 'regret': 27.0}trained nn\n",
      "updated head\n",
      "Step: 8 {'training_run': 7, 'reward': 1.0, 'nn_loss': 0.20281711220741272, 'epoch': 0}updated head\n",
      "Step: 8 {'training_run': 8, 'reward': 3.0, 'epoch': 0, 'regret': 27.0}trained nn\n",
      "updated head\n",
      "Step: 9 {'training_run': 8, 'reward': 2.0, 'nn_loss': 0.22995394468307495, 'epoch': 0}updated head\n",
      "Step: 9 {'training_run': 9, 'reward': 10.0, 'epoch': 0, 'regret': 10.0}trained nn\n",
      "updated head\n",
      "Step: 10 {'training_run': 9, 'reward': 12.0, 'nn_loss': 0.2365734577178955, 'epoch': 0}updated head\n",
      "Step: 10 {'training_run': 10, 'reward': 2.0, 'epoch': 0, 'regret': 27.0}trained nn\n",
      "updated head\n",
      "Step: 11 {'training_run': 10, 'reward': 3.0, 'nn_loss': 0.24309125542640686, 'epoch': 0}updated head\n",
      "Step: 11 {'training_run': 11, 'reward': 12.0, 'epoch': 0, 'regret': 8.0}trained nn\n",
      "updated head\n",
      "Step: 12 {'training_run': 11, 'reward': 12.0, 'nn_loss': 0.2188158929347992, 'epoch': 0}updated head\n",
      "Step: 12 {'training_run': 12, 'reward': 12.0, 'epoch': 0, 'regret': 6.0}trained nn\n",
      "updated head\n",
      "Step: 13 {'training_run': 12, 'reward': 14.0, 'nn_loss': 0.2650707960128784, 'epoch': 0}updated head\n",
      "Step: 13 {'training_run': 13, 'reward': 14.0, 'epoch': 0, 'regret': 5.0}trained nn\n",
      "updated head\n",
      "Step: 14 {'training_run': 13, 'reward': 13.0, 'nn_loss': 0.23847928643226624, 'epoch': 0}updated head\n",
      "Step: 14 {'training_run': 14, 'reward': 12.0, 'epoch': 0, 'regret': 6.0}trained nn\n",
      "updated head\n",
      "Step: 15 {'training_run': 14, 'reward': 14.0, 'nn_loss': 0.22831937670707703, 'epoch': 0}updated head\n",
      "Step: 15 {'training_run': 15, 'reward': 13.0, 'epoch': 0, 'regret': 5.0}trained nn\n",
      "updated head\n",
      "Step: 16 {'training_run': 15, 'reward': 14.0, 'nn_loss': 0.19494599103927612, 'epoch': 0}updated head\n",
      "Step: 16 {'training_run': 16, 'reward': 15.0, 'epoch': 0, 'regret': 7.0}trained nn\n",
      "updated head\n",
      "Step: 17 {'training_run': 16, 'reward': 10.0, 'nn_loss': 0.17892912030220032, 'epoch': 0}updated head\n",
      "Step: 17 {'training_run': 17, 'reward': 10.0, 'epoch': 0, 'regret': 8.0}trained nn\n",
      "updated head\n",
      "Step: 18 {'training_run': 17, 'reward': 14.0, 'nn_loss': 0.19434256851673126, 'epoch': 0}updated head\n",
      "Step: 18 {'training_run': 18, 'reward': 7.0, 'epoch': 0, 'regret': 21.0}trained nn\n",
      "updated head\n",
      "Step: 19 {'training_run': 18, 'reward': 4.0, 'nn_loss': 0.21980062127113342, 'epoch': 0}updated head\n",
      "Step: 19 {'training_run': 19, 'reward': 14.0, 'epoch': 0, 'regret': 8.0}trained nn\n",
      "updated head\n",
      "Step: 20 {'training_run': 19, 'reward': 10.0, 'nn_loss': 0.24621082842350006, 'epoch': 0}updated head\n",
      "Step: 20 {'training_run': 20, 'reward': 7.0, 'epoch': 0, 'regret': 15.0}trained nn\n",
      "updated head\n",
      "Step: 21 {'training_run': 20, 'reward': 10.0, 'nn_loss': 0.25164568424224854, 'epoch': 0}updated head\n",
      "Step: 21 {'training_run': 21, 'reward': 6.0, 'epoch': 0, 'regret': 20.0}trained nn\n",
      "updated head\n",
      "Step: 22 {'training_run': 21, 'reward': 6.0, 'nn_loss': 0.23514005541801453, 'epoch': 0}updated head\n",
      "Step: 22 {'training_run': 22, 'reward': 10.0, 'epoch': 0, 'regret': 14.0}trained nn\n",
      "updated head\n",
      "Step: 23 {'training_run': 22, 'reward': 8.0, 'nn_loss': 0.2496185004711151, 'epoch': 0}updated head\n",
      "Step: 23 {'training_run': 23, 'reward': 12.0, 'epoch': 0, 'regret': 7.0}trained nn\n",
      "updated head\n",
      "Step: 24 {'training_run': 23, 'reward': 13.0, 'nn_loss': 0.20892207324504852, 'epoch': 0}updated head\n",
      "Step: 24 {'training_run': 24, 'reward': 10.0, 'epoch': 0, 'regret': 12.0}trained nn\n",
      "updated head\n",
      "Step: 25 {'training_run': 24, 'reward': 10.0, 'nn_loss': 0.22625485062599182, 'epoch': 0}updated head\n",
      "Step: 25 {'training_run': 25, 'reward': 13.0, 'epoch': 0, 'regret': 12.0}trained nn\n",
      "updated head\n",
      "Step: 26 {'training_run': 25, 'reward': 7.0, 'nn_loss': 0.24327093362808228, 'epoch': 0}updated head\n",
      "Step: 26 {'training_run': 26, 'reward': 13.0, 'epoch': 0, 'regret': 7.0}trained nn\n",
      "updated head\n",
      "Step: 27 {'training_run': 26, 'reward': 12.0, 'nn_loss': 0.20792752504348755, 'epoch': 0}updated head\n",
      "Step: 27 {'training_run': 27, 'reward': 11.0, 'epoch': 0, 'regret': 10.0}trained nn\n",
      "updated head\n",
      "Step: 28 {'training_run': 27, 'reward': 11.0, 'nn_loss': 0.14198052883148193, 'epoch': 0}updated head\n",
      "Step: 28 {'training_run': 28, 'reward': 8.0, 'epoch': 0, 'regret': 12.0}trained nn\n",
      "updated head\n",
      "Step: 29 {'training_run': 28, 'reward': 12.0, 'nn_loss': 0.22922459244728088, 'epoch': 0}updated head\n",
      "Step: 29 {'training_run': 29, 'reward': 10.0, 'epoch': 0, 'regret': 12.0}trained nn\n",
      "updated head\n",
      "Step: 30 {'training_run': 29, 'reward': 10.0, 'nn_loss': 0.22616001963615417, 'epoch': 0}updated head\n",
      "Step: 30 {'training_run': 30, 'reward': 8.0, 'epoch': 0, 'regret': 18.0}trained nn\n",
      "updated head\n",
      "Step: 31 {'training_run': 30, 'reward': 6.0, 'nn_loss': 0.22015562653541565, 'epoch': 0}updated head\n",
      "Step: 31 {'training_run': 31, 'reward': 13.0, 'epoch': 0, 'regret': 9.0}trained nn\n",
      "updated head\n"
     ]
    }
   ],
   "source": [
    "for contextualized_actions in env:\n",
    "    chosen_actions, _ = bandit_module.forward(contextualized_actions)\n",
    "\n",
    "    trainer = pl.Trainer(max_epochs=1, logger=logger, log_every_n_steps=1, enable_progress_bar=False, enable_model_summary=False, enable_checkpointing=False, accelerator=accelerator)\n",
    "    feedback = env.get_feedback(chosen_actions)\n",
    "    batch_regret = env.compute_regret(chosen_actions)\n",
    "    logger.pre_training_log({\"regret\": batch_regret.sum().item()})\n",
    "\n",
    "    batch_dataloader = DataLoader(feedback, batch_size=16)\n",
    "    trainer.fit(bandit_module, batch_dataloader)\n",
    "    bandit_module = bandit_module.to(accelerator)"
   ]
  },
  {
   "cell_type": "code",
   "execution_count": null,
   "metadata": {},
   "outputs": [],
   "source": [
    "# load metrics from the logger and plot\n",
    "import pandas as pd\n",
    "import numpy as np\n",
    "\n",
    "metrics_csv = logger._logger_wrappee.log_dir + \"/metrics.csv\"\n",
    "print(metrics_csv)\n",
    "metrics = pd.read_csv(metrics_csv)\n",
    "cumulative_reward = np.cumsum(metrics[\"reward\"][:5000])\n",
    "cumulative_regret = np.cumsum(metrics[\"regret\"][:5000].dropna())"
   ]
  },
  {
   "cell_type": "code",
   "execution_count": null,
   "metadata": {},
   "outputs": [],
   "source": [
    "import matplotlib.pyplot as plt\n",
    "plt.plot(cumulative_reward, label=\"reward\")\n",
    "plt.plot(cumulative_regret, label=\"regret\")\n",
    "plt.xlabel(\"steps\")\n",
    "plt.ylabel(\"cumulative reward/regret\")\n",
    "plt.legend()\n",
    "plt.show()"
   ]
  },
  {
   "cell_type": "code",
   "execution_count": null,
   "metadata": {},
   "outputs": [],
   "source": [
    "# average reward\n",
    "print(sum(metrics[\"reward\"][:100]) / 100)\n",
    "print(sum(metrics[\"reward\"][:1000]) / 1000)\n",
    "print(sum(metrics[\"reward\"][:10000]) / 10000)\n",
    "if \"regret\" in metrics:\n",
    "    print(sum(metrics[\"regret\"][:100].dropna()) / 100)\n",
    "    print(sum(metrics[\"regret\"][:1000].dropna()) / 1000)\n",
    "    print(sum(metrics[\"regret\"][:10000].dropna()) / 10000)"
   ]
  },
  {
   "cell_type": "code",
   "execution_count": null,
   "metadata": {},
   "outputs": [],
   "source": [
    "metrics"
   ]
  },
  {
   "cell_type": "code",
   "execution_count": null,
   "metadata": {},
   "outputs": [],
   "source": [
    "plt.plot(metrics[\"nn_loss\"][:1000], label='Loss')\n",
    "plt.xlabel(\"steps\")\n",
    "plt.ylabel(\"loss\")\n",
    "plt.legend()\n",
    "plt.show()"
   ]
  }
 ],
 "metadata": {
  "kernelspec": {
   "display_name": "neural_bandits",
   "language": "python",
   "name": "python3"
  },
  "language_info": {
   "codemirror_mode": {
    "name": "ipython",
    "version": 3
   },
   "file_extension": ".py",
   "mimetype": "text/x-python",
   "name": "python",
   "nbconvert_exporter": "python",
   "pygments_lexer": "ipython3",
   "version": "3.10.16"
  }
 },
 "nbformat": 4,
 "nbformat_minor": 2
}
