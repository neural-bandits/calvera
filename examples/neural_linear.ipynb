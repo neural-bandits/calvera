{
 "cells": [
  {
   "cell_type": "code",
   "execution_count": null,
   "metadata": {},
   "outputs": [],
   "source": [
    "import logging\n",
    "\n",
    "import lightning as pl\n",
    "from lightning.pytorch.loggers.csv_logs import CSVLogger\n",
    "import torch\n",
    "from torch.utils.data import DataLoader, Subset\n",
    "\n",
    "from neural_bandits.bandits.neural_linear_bandit import NeuralLinearBandit\n",
    "from neural_bandits.benchmark.datasets.statlog import StatlogDataset\n",
    "\n",
    "from neural_bandits.benchmark.environment import BanditBenchmarkEnvironment\n",
    "from neural_bandits.benchmark.logger_decorator import OnlineBanditLoggerDecorator"
   ]
  },
  {
   "cell_type": "code",
   "execution_count": null,
   "metadata": {},
   "outputs": [],
   "source": [
    "class Encoder(torch.nn.Module):\n",
    "    def __init__(self, input_dim, hidden_dim, output_dim):\n",
    "        super(Encoder, self).__init__()\n",
    "        self.fc1 = torch.nn.Linear(input_dim, hidden_dim)\n",
    "        self.fc2 = torch.nn.Linear(hidden_dim, hidden_dim)\n",
    "        self.fc3 = torch.nn.Linear(hidden_dim, output_dim)\n",
    "    \n",
    "    def forward(self, x):\n",
    "        x = torch.relu(self.fc1(x))\n",
    "        x = torch.relu(self.fc2(x))\n",
    "        x = self.fc3(x)\n",
    "        return x"
   ]
  },
  {
   "cell_type": "code",
   "execution_count": null,
   "metadata": {},
   "outputs": [],
   "source": [
    "dataset = StatlogDataset()\n",
    "print(dataset.context_size)\n",
    "print(len(dataset))"
   ]
  },
  {
   "cell_type": "code",
   "execution_count": null,
   "metadata": {},
   "outputs": [],
   "source": [
    "accelerator = \"mps\"\n",
    "\n",
    "train_loader = DataLoader(Subset(dataset, range(5000)), batch_size=32, shuffle=True)\n",
    "env = BanditBenchmarkEnvironment(train_loader, device=accelerator)\n",
    "bandit_module = NeuralLinearBandit(\n",
    "        encoder = Encoder(\n",
    "            input_dim = dataset.context_size * dataset.num_actions,\n",
    "            hidden_dim = 64,\n",
    "            output_dim = 32\n",
    "        ),\n",
    "        n_encoder_input_size = dataset.context_size * dataset.num_actions,\n",
    "        n_embedding_size = 32,\n",
    ").to(accelerator)\n",
    "\n",
    "logging.getLogger(\"lightning.pytorch.utilities.rank_zero\").setLevel(logging.FATAL)\n",
    "logger = OnlineBanditLoggerDecorator(CSVLogger(\"logs\", name=\"neural_linear_bandit\", flush_logs_every_n_steps=100))"
   ]
  },
  {
   "cell_type": "code",
   "execution_count": null,
   "metadata": {},
   "outputs": [],
   "source": [
    "for contextualized_actions in env:\n",
    "    chosen_actions, _ = bandit_module.forward(contextualized_actions)\n",
    "\n",
    "    trainer = pl.Trainer(max_epochs=1, logger=logger, log_every_n_steps=1, enable_progress_bar=False, enable_model_summary=False, enable_checkpointing=False, accelerator=accelerator)\n",
    "    feedback = env.get_feedback(chosen_actions)\n",
    "    batch_regret = env.compute_regret(chosen_actions)\n",
    "    logger.pre_training_log({\"regret\": batch_regret.sum().item()})\n",
    "\n",
    "    batch_dataloader = DataLoader(feedback, batch_size=16)\n",
    "    trainer.fit(bandit_module, batch_dataloader)\n",
    "    bandit_module = bandit_module.to(accelerator)"
   ]
  },
  {
   "cell_type": "code",
   "execution_count": null,
   "metadata": {},
   "outputs": [],
   "source": [
    "# load metrics from the logger and plot\n",
    "import pandas as pd\n",
    "import numpy as np\n",
    "\n",
    "metrics_csv = logger._logger_wrappee.log_dir + \"/metrics.csv\"\n",
    "print(metrics_csv)\n",
    "metrics = pd.read_csv(metrics_csv)\n",
    "cumulative_reward = np.cumsum(metrics[\"reward\"][:5000])\n",
    "cumulative_regret = np.cumsum(metrics[\"regret\"][:5000].dropna())"
   ]
  },
  {
   "cell_type": "code",
   "execution_count": null,
   "metadata": {},
   "outputs": [],
   "source": [
    "import matplotlib.pyplot as plt\n",
    "plt.plot(cumulative_reward, label=\"reward\")\n",
    "plt.plot(cumulative_regret, label=\"regret\")\n",
    "plt.xlabel(\"steps\")\n",
    "plt.ylabel(\"cumulative reward/regret\")\n",
    "plt.legend()\n",
    "plt.show()"
   ]
  },
  {
   "cell_type": "code",
   "execution_count": null,
   "metadata": {},
   "outputs": [],
   "source": [
    "# average reward\n",
    "print(sum(metrics[\"reward\"][:100]) / 100)\n",
    "print(sum(metrics[\"reward\"][:1000]) / 1000)\n",
    "print(sum(metrics[\"reward\"][:10000]) / 10000)\n",
    "if \"regret\" in metrics:\n",
    "    print(sum(metrics[\"regret\"][:100].dropna()) / 100)\n",
    "    print(sum(metrics[\"regret\"][:1000].dropna()) / 1000)\n",
    "    print(sum(metrics[\"regret\"][:10000].dropna()) / 10000)"
   ]
  },
  {
   "cell_type": "code",
   "execution_count": null,
   "metadata": {},
   "outputs": [],
   "source": [
    "metrics"
   ]
  },
  {
   "cell_type": "code",
   "execution_count": null,
   "metadata": {},
   "outputs": [],
   "source": [
    "plt.plot(metrics[\"nn_loss\"][:1000], label='Loss')\n",
    "plt.xlabel(\"steps\")\n",
    "plt.ylabel(\"loss\")\n",
    "plt.legend()\n",
    "plt.show()"
   ]
  }
 ],
 "metadata": {
  "kernelspec": {
   "display_name": "neural_bandits",
   "language": "python",
   "name": "python3"
  },
  "language_info": {
   "codemirror_mode": {
    "name": "ipython",
    "version": 3
   },
   "file_extension": ".py",
   "mimetype": "text/x-python",
   "name": "python",
   "nbconvert_exporter": "python",
   "pygments_lexer": "ipython3",
   "version": "3.10.16"
  }
 },
 "nbformat": 4,
 "nbformat_minor": 2
}
