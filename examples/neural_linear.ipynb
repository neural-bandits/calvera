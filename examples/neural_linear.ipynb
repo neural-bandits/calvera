{
 "cells": [
  {
   "cell_type": "code",
   "execution_count": 51,
   "metadata": {},
   "outputs": [],
   "source": [
    "import logging\n",
    "\n",
    "import lightning as pl\n",
    "from lightning.pytorch.loggers.csv_logs import CSVLogger\n",
    "import torch.nn as nn\n",
    "from torch.utils.data import DataLoader, Subset\n",
    "from tqdm import tqdm\n",
    "import pandas as pd\n",
    "import numpy as np\n",
    "\n",
    "from calvera.bandits.neural_linear_bandit import NeuralLinearBandit\n",
    "from calvera.benchmark.datasets.statlog import StatlogDataset\n",
    "from calvera.utils.data_storage import InMemoryDataBuffer, AllDataBufferStrategy\n",
    "\n",
    "\n",
    "from calvera.benchmark.environment import BanditBenchmarkEnvironment\n",
    "from calvera.benchmark.logger_decorator import OnlineBanditLoggerDecorator"
   ]
  },
  {
   "cell_type": "code",
   "execution_count": 52,
   "metadata": {},
   "outputs": [],
   "source": [
    "class Network(nn.Module):\n",
    "    def __init__(self, dim, hidden_size=100, n_embedding_size=10):\n",
    "        super().__init__()\n",
    "        self.fc1 = nn.Linear(dim, hidden_size)\n",
    "        self.activate = nn.ReLU()\n",
    "        self.fc2 = nn.Linear(hidden_size, n_embedding_size)\n",
    "\n",
    "    def forward(self, x):\n",
    "        return self.fc2(self.activate(self.fc1(x)))"
   ]
  },
  {
   "cell_type": "code",
   "execution_count": 53,
   "metadata": {},
   "outputs": [
    {
     "name": "stdout",
     "output_type": "stream",
     "text": [
      "63\n",
      "58000\n"
     ]
    }
   ],
   "source": [
    "dataset = StatlogDataset()\n",
    "print(dataset.context_size)\n",
    "print(len(dataset))"
   ]
  },
  {
   "cell_type": "code",
   "execution_count": 54,
   "metadata": {},
   "outputs": [],
   "source": [
    "buffer = InMemoryDataBuffer(\n",
    "    buffer_strategy=AllDataBufferStrategy(),\n",
    "    max_size=10000,\n",
    ")\n",
    "\n",
    "network = Network(dataset.context_size, hidden_size=100, n_embedding_size=10)\n",
    "\n",
    "train_loader = DataLoader(Subset(dataset, range(10000)), batch_size=1, shuffle=True)\n",
    "env = BanditBenchmarkEnvironment(train_loader)\n",
    "bandit_module = NeuralLinearBandit(\n",
    "    n_embedding_size=10,\n",
    "    network=network,\n",
    "    buffer=buffer,\n",
    "    train_batch_size=32,\n",
    "    early_stop_threshold=1e-3,\n",
    "    weight_decay=1e-3,\n",
    "    learning_rate=1e-3,\n",
    "    min_samples_required_for_training=8,\n",
    "    initial_train_steps=2048,\n",
    ")\n",
    "\n",
    "logging.getLogger(\"lightning.pytorch.utilities.rank_zero\").setLevel(logging.FATAL)\n",
    "logger = OnlineBanditLoggerDecorator(\n",
    "    CSVLogger(\"logs\", name=\"neural_linear_bandit\", flush_logs_every_n_steps=100),\n",
    "    enable_console_logging=False,\n",
    ")"
   ]
  },
  {
   "cell_type": "code",
   "execution_count": null,
   "metadata": {},
   "outputs": [
    {
     "name": "stderr",
     "output_type": "stream",
     "text": [
      "  0%|          | 0/40 [00:00<?, ?it/s]\n"
     ]
    },
    {
     "ename": "AttributeError",
     "evalue": "'int' object has no attribute 'ndim'",
     "output_type": "error",
     "traceback": [
      "\u001b[1;31m---------------------------------------------------------------------------\u001b[0m",
      "\u001b[1;31mAttributeError\u001b[0m                            Traceback (most recent call last)",
      "Cell \u001b[1;32mIn[56], line 5\u001b[0m\n\u001b[0;32m      3\u001b[0m progress_bar \u001b[38;5;241m=\u001b[39m tqdm(\u001b[38;5;28menumerate\u001b[39m(env), total\u001b[38;5;241m=\u001b[39m\u001b[38;5;28mlen\u001b[39m(env))\n\u001b[0;32m      4\u001b[0m \u001b[38;5;28;01mfor\u001b[39;00m contextualized_actions \u001b[38;5;129;01min\u001b[39;00m progress_bar:\n\u001b[1;32m----> 5\u001b[0m     chosen_actions, _ \u001b[38;5;241m=\u001b[39m \u001b[43mbandit_module\u001b[49m\u001b[38;5;241;43m.\u001b[39;49m\u001b[43mforward\u001b[49m\u001b[43m(\u001b[49m\u001b[43mcontextualized_actions\u001b[49m\u001b[43m)\u001b[49m\n\u001b[0;32m      7\u001b[0m     trainer \u001b[38;5;241m=\u001b[39m pl\u001b[38;5;241m.\u001b[39mTrainer(\n\u001b[0;32m      8\u001b[0m         max_epochs\u001b[38;5;241m=\u001b[39m\u001b[38;5;241m1\u001b[39m,\n\u001b[0;32m      9\u001b[0m         max_steps\u001b[38;5;241m=\u001b[39m\u001b[38;5;241m1000\u001b[39m,\n\u001b[1;32m   (...)\u001b[0m\n\u001b[0;32m     16\u001b[0m         enable_checkpointing\u001b[38;5;241m=\u001b[39m\u001b[38;5;28;01mFalse\u001b[39;00m,\n\u001b[0;32m     17\u001b[0m     )\n\u001b[0;32m     18\u001b[0m     chosen_contextualized_actions, realized_rewards \u001b[38;5;241m=\u001b[39m env\u001b[38;5;241m.\u001b[39mget_feedback(chosen_actions)\n",
      "File \u001b[1;32m~\\2_uni\\wise2425\\MAB\\neural-bandits\\src\\neural_bandits\\bandits\\abstract_bandit.py:102\u001b[0m, in \u001b[0;36mAbstractBandit.forward\u001b[1;34m(self, *args, **kwargs)\u001b[0m\n\u001b[0;32m    100\u001b[0m \u001b[38;5;28;01melif\u001b[39;00m \u001b[38;5;28misinstance\u001b[39m(contextualized_actions, (\u001b[38;5;28mtuple\u001b[39m, \u001b[38;5;28mlist\u001b[39m)):\n\u001b[0;32m    101\u001b[0m     \u001b[38;5;28;01massert\u001b[39;00m \u001b[38;5;28mlen\u001b[39m(contextualized_actions) \u001b[38;5;241m>\u001b[39m \u001b[38;5;241m1\u001b[39m, \u001b[38;5;124m\"\u001b[39m\u001b[38;5;124mTuple must contain at least 2 tensors\u001b[39m\u001b[38;5;124m\"\u001b[39m\n\u001b[1;32m--> 102\u001b[0m     \u001b[38;5;28;01massert\u001b[39;00m \u001b[43mcontextualized_actions\u001b[49m\u001b[43m[\u001b[49m\u001b[38;5;241;43m0\u001b[39;49m\u001b[43m]\u001b[49m\u001b[38;5;241;43m.\u001b[39;49m\u001b[43mndim\u001b[49m \u001b[38;5;241m==\u001b[39m \u001b[38;5;241m3\u001b[39m, (\n\u001b[0;32m    103\u001b[0m         \u001b[38;5;124m\"\u001b[39m\u001b[38;5;124mChosen actions must have shape (batch_size, num_actions, n_features) \u001b[39m\u001b[38;5;124m\"\u001b[39m\n\u001b[0;32m    104\u001b[0m         \u001b[38;5;124mf\u001b[39m\u001b[38;5;124m\"\u001b[39m\u001b[38;5;124mbut got shape \u001b[39m\u001b[38;5;132;01m{\u001b[39;00mcontextualized_actions[\u001b[38;5;241m0\u001b[39m]\u001b[38;5;241m.\u001b[39mshape\u001b[38;5;132;01m}\u001b[39;00m\u001b[38;5;124m\"\u001b[39m\n\u001b[0;32m    105\u001b[0m     )\n\u001b[0;32m    106\u001b[0m     batch_size, n_chosen_actions, _ \u001b[38;5;241m=\u001b[39m contextualized_actions[\u001b[38;5;241m0\u001b[39m]\u001b[38;5;241m.\u001b[39mshape\n\u001b[0;32m    107\u001b[0m     \u001b[38;5;28;01massert\u001b[39;00m \u001b[38;5;28mall\u001b[39m(\n\u001b[0;32m    108\u001b[0m         action_item\u001b[38;5;241m.\u001b[39mndim \u001b[38;5;241m==\u001b[39m \u001b[38;5;241m3\u001b[39m \u001b[38;5;129;01mand\u001b[39;00m action_item\u001b[38;5;241m.\u001b[39mshape \u001b[38;5;241m==\u001b[39m contextualized_actions[\u001b[38;5;241m0\u001b[39m]\u001b[38;5;241m.\u001b[39mshape\n\u001b[0;32m    109\u001b[0m         \u001b[38;5;28;01mfor\u001b[39;00m action_item \u001b[38;5;129;01min\u001b[39;00m contextualized_actions\n\u001b[0;32m    110\u001b[0m     ), \u001b[38;5;124m\"\u001b[39m\u001b[38;5;124mAll tensors in tuple must have shape (batch_size, num_actions, n_features)\u001b[39m\u001b[38;5;124m\"\u001b[39m\n",
      "\u001b[1;31mAttributeError\u001b[0m: 'int' object has no attribute 'ndim'"
     ]
    }
   ],
   "source": [
    "rewards = np.array([])\n",
    "regrets = np.array([])\n",
    "progress_bar = tqdm(iter(env), total=len(env))\n",
    "for contextualized_actions in progress_bar:\n",
    "    chosen_actions, _ = bandit_module.forward(contextualized_actions)\n",
    "\n",
    "    trainer = pl.Trainer(\n",
    "        max_epochs=1,\n",
    "        max_steps=1000,\n",
    "        logger=logger,\n",
    "        log_every_n_steps=1,\n",
    "        enable_progress_bar=False,\n",
    "        enable_model_summary=False,\n",
    "        enable_checkpointing=False,\n",
    "    )\n",
    "    chosen_contextualized_actions, realized_rewards = env.get_feedback(chosen_actions)\n",
    "    batch_regret = env.compute_regret(chosen_actions)\n",
    "\n",
    "    # append batch of rewards and regrets\n",
    "    rewards = np.append(rewards, realized_rewards.cpu().numpy())\n",
    "    regrets = np.append(regrets, batch_regret.cpu().numpy())\n",
    "\n",
    "    progress_bar.set_postfix(\n",
    "        reward=realized_rewards.sum(dim=1).mean().item(),  # shape batch_size, selected_arms\n",
    "        regret=batch_regret.mean().item(),\n",
    "        average_regret=regrets.mean(),\n",
    "    )\n",
    "\n",
    "    bandit_module.record_feedback(chosen_contextualized_actions, realized_rewards)\n",
    "    trainer.fit(bandit_module)\n",
    "metrics = pd.DataFrame(\n",
    "    {\n",
    "        \"reward\": rewards,\n",
    "        \"regret\": regrets,\n",
    "    }\n",
    ")"
   ]
  },
  {
   "cell_type": "code",
   "execution_count": null,
   "metadata": {},
   "outputs": [],
   "source": [
    "# load metrics from the logger and plot\n",
    "import numpy as np\n",
    "\n",
    "cumulative_reward = np.cumsum(metrics[\"reward\"][:10000])\n",
    "cumulative_regret = np.cumsum(metrics[\"regret\"][:10000])"
   ]
  },
  {
   "cell_type": "code",
   "execution_count": null,
   "metadata": {},
   "outputs": [],
   "source": [
    "import matplotlib.pyplot as plt\n",
    "\n",
    "plt.plot(cumulative_reward, label=\"Cumulative Reward\")\n",
    "plt.plot(cumulative_regret, label=\"Cumulative Regret\")\n",
    "plt.xlabel(\"steps\")\n",
    "plt.ylabel(\"cumulative reward/regret\")\n",
    "plt.legend()\n",
    "plt.show()"
   ]
  },
  {
   "cell_type": "code",
   "execution_count": null,
   "metadata": {},
   "outputs": [],
   "source": [
    "print(sum(metrics[\"reward\"][:10]) / 10)\n",
    "print(sum(metrics[\"reward\"][:100]) / 100)\n",
    "print(sum(metrics[\"reward\"][:10000]) / 10000)\n",
    "\n",
    "print(sum(metrics[\"regret\"][:10].dropna()) / 10)\n",
    "print(sum(metrics[\"regret\"][:100].dropna()) / 100)\n",
    "print(sum(metrics[\"regret\"][:10000].dropna()) / 10000)"
   ]
  },
  {
   "cell_type": "code",
   "execution_count": null,
   "metadata": {},
   "outputs": [],
   "source": [
    "bandit_metrics_csv = logger._logger_wrappee.log_dir + \"/metrics.csv\"\n",
    "print(bandit_metrics_csv)\n",
    "bandit_metrics = pd.read_csv(bandit_metrics_csv)\n",
    "\n",
    "plt.plot(bandit_metrics[\"loss\"][:10000].dropna(), label=\"Loss\")\n",
    "plt.xlabel(\"steps\")\n",
    "plt.ylabel(\"loss\")\n",
    "plt.legend()\n",
    "plt.show()"
   ]
  }
 ],
 "metadata": {
  "kernelspec": {
   "display_name": "neural_bandits",
   "language": "python",
   "name": "python3"
  },
  "language_info": {
   "codemirror_mode": {
    "name": "ipython",
    "version": 3
   },
   "file_extension": ".py",
   "mimetype": "text/x-python",
   "name": "python",
   "nbconvert_exporter": "python",
   "pygments_lexer": "ipython3",
   "version": "3.10.16"
  }
 },
 "nbformat": 4,
 "nbformat_minor": 2
}
