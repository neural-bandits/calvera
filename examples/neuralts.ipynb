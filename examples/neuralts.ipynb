{
 "cells": [
  {
   "cell_type": "code",
   "execution_count": 1,
   "metadata": {},
   "outputs": [],
   "source": [
    "%reset -f"
   ]
  },
  {
   "cell_type": "code",
   "execution_count": 2,
   "metadata": {},
   "outputs": [],
   "source": [
    "from neural_bandits.modules.neural_ts_module import NeuralTSBanditModule\n",
    "from neural_bandits.datasets.mnist import MNISTDataset\n",
    "\n",
    "import lightning as pl\n",
    "from torch.utils.data import DataLoader\n",
    "import torch.nn as nn\n",
    "from torch.utils.data import Subset\n",
    "import random"
   ]
  },
  {
   "cell_type": "code",
   "execution_count": 3,
   "metadata": {},
   "outputs": [],
   "source": [
    "class Network(nn.Module):\n",
    "    def __init__(self, dim, hidden_size=100):\n",
    "        super(Network, self).__init__()\n",
    "        self.fc1 = nn.Linear(dim, hidden_size)\n",
    "        self.activate = nn.ReLU()\n",
    "        self.fc2 = nn.Linear(hidden_size, 1)\n",
    "    def forward(self, x):\n",
    "        return self.fc2(self.activate(self.fc1(x)))"
   ]
  },
  {
   "cell_type": "code",
   "execution_count": 4,
   "metadata": {},
   "outputs": [
    {
     "name": "stderr",
     "output_type": "stream",
     "text": [
      "GPU available: False, used: False\n",
      "TPU available: False, using: 0 TPU cores\n",
      "HPU available: False, using: 0 HPUs\n"
     ]
    },
    {
     "name": "stdout",
     "output_type": "stream",
     "text": [
      "784\n",
      "70000\n",
      "Subset size: 15000\n"
     ]
    }
   ],
   "source": [
    "dataset = MNISTDataset()\n",
    "print(dataset.context_size)\n",
    "print(len(dataset))\n",
    "\n",
    "network = Network(dataset.context_size * dataset.num_actions, hidden_size=100)\n",
    "\n",
    "n_samples = 15000\n",
    "indices = list(range(len(dataset)))\n",
    "random.shuffle(indices)\n",
    "subset_indices = indices[:n_samples]\n",
    "mini_dataset = Subset(dataset, subset_indices)\n",
    "print(\"Subset size:\", len(mini_dataset))\n",
    "\n",
    "train_loader = DataLoader(mini_dataset, batch_size=1, shuffle=True)\n",
    "model = NeuralTSBanditModule(\n",
    "        n_features = dataset.context_size * dataset.num_actions,\n",
    "        network=network,\n",
    "        early_stop_threshold=1e-3,\n",
    "        num_grad_steps=1000,\n",
    "        lambda_=1e-3,\n",
    "        nu=1e-5,\n",
    "        learning_rate=1e-3,\n",
    "        train_freq=100,\n",
    "        initial_train_steps=2000,\n",
    "        max_grad_norm=5.0,\n",
    ")\n",
    "\n",
    "logger = pl.pytorch.loggers.CSVLogger(\"logs\", name=\"neural_ucb\", flush_logs_every_n_steps=100)\n",
    "trainer = pl.Trainer(max_epochs=1, logger=logger, log_every_n_steps=1)"
   ]
  },
  {
   "cell_type": "code",
   "execution_count": 5,
   "metadata": {},
   "outputs": [
    {
     "name": "stderr",
     "output_type": "stream",
     "text": [
      "\n",
      "  | Name   | Type           | Params | Mode \n",
      "--------------------------------------------------\n",
      "0 | bandit | NeuralTSBandit | 784 K  | train\n",
      "--------------------------------------------------\n",
      "784 K     Trainable params\n",
      "0         Non-trainable params\n",
      "784 K     Total params\n",
      "3.137     Total estimated model params size (MB)\n",
      "5         Modules in train mode\n",
      "0         Modules in eval mode\n",
      "c:\\Users\\Parisa\\anaconda3\\envs\\neural_bandits\\lib\\site-packages\\lightning\\pytorch\\trainer\\connectors\\data_connector.py:425: The 'train_dataloader' does not have many workers which may be a bottleneck. Consider increasing the value of the `num_workers` argument` to `num_workers=11` in the `DataLoader` to improve performance.\n"
     ]
    },
    {
     "name": "stdout",
     "output_type": "stream",
     "text": [
      "Epoch 0: 100%|██████████| 15000/15000 [2:45:57<00:00,  1.51it/s, v_num=108, loss=0.0263, reward=1.000, regret=0.000, average_regret=0.104]   "
     ]
    },
    {
     "name": "stderr",
     "output_type": "stream",
     "text": [
      "`Trainer.fit` stopped: `max_epochs=1` reached.\n"
     ]
    },
    {
     "name": "stdout",
     "output_type": "stream",
     "text": [
      "Epoch 0: 100%|██████████| 15000/15000 [2:45:57<00:00,  1.51it/s, v_num=108, loss=0.0263, reward=1.000, regret=0.000, average_regret=0.104]\n"
     ]
    }
   ],
   "source": [
    "trainer.fit(model, train_loader)"
   ]
  },
  {
   "cell_type": "code",
   "execution_count": null,
   "metadata": {},
   "outputs": [],
   "source": [
    "# load metrics from the logger and plot\n",
    "import pandas as pd\n",
    "import numpy as np\n",
    "\n",
    "metrics_csv = logger.log_dir + \"/metrics.csv\"\n",
    "print(metrics_csv)\n",
    "metrics = pd.read_csv(metrics_csv)\n",
    "cumulative_reward = np.cumsum(metrics[\"reward\"][:15000])\n",
    "cumulative_regret = np.cumsum(metrics[\"regret\"][:15000])"
   ]
  },
  {
   "cell_type": "code",
   "execution_count": null,
   "metadata": {},
   "outputs": [],
   "source": [
    "import matplotlib.pyplot as plt\n",
    "plt.plot(cumulative_reward, label='Cumulative Reward')\n",
    "plt.plot(cumulative_regret, label='Cumulative Regret')\n",
    "plt.xlabel(\"steps\")\n",
    "plt.ylabel(\"cumulative reward/regret\")\n",
    "plt.legend()\n",
    "plt.show()"
   ]
  },
  {
   "cell_type": "code",
   "execution_count": null,
   "metadata": {},
   "outputs": [],
   "source": [
    "# average reward\n",
    "print(sum(metrics[\"reward\"][:10]) / 10)\n",
    "print(sum(metrics[\"reward\"][:1000]) / 1000)\n",
    "print(sum(metrics[\"reward\"][:15000]) / 15000)\n",
    "\n",
    "print(sum(metrics[\"regret\"][:10]) / 10)\n",
    "print(sum(metrics[\"regret\"][:1000]) / 1000)\n",
    "print(sum(metrics[\"regret\"][:15000]) / 15000)"
   ]
  },
  {
   "cell_type": "code",
   "execution_count": null,
   "metadata": {},
   "outputs": [],
   "source": [
    "plt.plot(metrics[\"loss\"][:15000], label='Loss')\n",
    "plt.xlabel(\"steps\")\n",
    "plt.ylabel(\"loss\")\n",
    "plt.legend()\n",
    "plt.show()"
   ]
  },
  {
   "cell_type": "code",
   "execution_count": null,
   "metadata": {},
   "outputs": [],
   "source": []
  }
 ],
 "metadata": {
  "kernelspec": {
   "display_name": "neural_bandits",
   "language": "python",
   "name": "python3"
  },
  "language_info": {
   "codemirror_mode": {
    "name": "ipython",
    "version": 3
   },
   "file_extension": ".py",
   "mimetype": "text/x-python",
   "name": "python",
   "nbconvert_exporter": "python",
   "pygments_lexer": "ipython3",
   "version": "3.10.16"
  }
 },
 "nbformat": 4,
 "nbformat_minor": 2
}
