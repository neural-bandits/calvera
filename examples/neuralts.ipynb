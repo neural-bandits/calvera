{
 "cells": [
  {
   "cell_type": "code",
   "execution_count": null,
   "metadata": {},
   "outputs": [],
   "source": [
    "import logging\n",
    "\n",
    "import lightning as pl\n",
    "from lightning.pytorch.loggers.csv_logs import CSVLogger\n",
    "import torch.nn as nn\n",
    "from torch.utils.data import DataLoader, Subset\n",
    "from tqdm import tqdm\n",
    "import pandas as pd\n",
    "import numpy as np\n",
    "\n",
    "from calvera.bandits.neural_ts_bandit import NeuralTSBandit\n",
    "from calvera.benchmark.datasets.statlog import StatlogDataset\n",
    "from calvera.utils.data_storage import InMemoryDataBuffer, AllDataBufferStrategy\n",
    "\n",
    "\n",
    "from calvera.benchmark.environment import BanditBenchmarkEnvironment\n",
    "from calvera.benchmark.logger_decorator import OnlineBanditLoggerDecorator"
   ]
  },
  {
   "cell_type": "code",
   "execution_count": null,
   "metadata": {},
   "outputs": [],
   "source": [
    "class Network(nn.Module):\n",
    "    def __init__(self, dim, hidden_size=100):\n",
    "        super().__init__()\n",
    "        self.fc1 = nn.Linear(dim, hidden_size)\n",
    "        self.activate = nn.ReLU()\n",
    "        self.fc2 = nn.Linear(hidden_size, 1)\n",
    "\n",
    "    def forward(self, x):\n",
    "        return self.fc2(self.activate(self.fc1(x)))"
   ]
  },
  {
   "cell_type": "code",
   "execution_count": null,
   "metadata": {},
   "outputs": [],
   "source": [
    "dataset = StatlogDataset()\n",
    "print(dataset.context_size)\n",
    "print(len(dataset))\n",
    "\n",
    "network = Network(dataset.context_size, hidden_size=100)"
   ]
  },
  {
   "cell_type": "code",
   "execution_count": null,
   "metadata": {},
   "outputs": [],
   "source": [
    "buffer = InMemoryDataBuffer(\n",
    "    buffer_strategy=AllDataBufferStrategy(),\n",
    "    max_size=10000,\n",
    ")"
   ]
  },
  {
   "cell_type": "code",
   "execution_count": null,
   "metadata": {},
   "outputs": [],
   "source": [
    "train_loader = DataLoader(Subset(dataset, range(10000)), batch_size=1, shuffle=True)\n",
    "env = BanditBenchmarkEnvironment(train_loader)\n",
    "bandit_module = NeuralTSBandit(\n",
    "    n_features=dataset.context_size,\n",
    "    network=network,\n",
    "    buffer=buffer,\n",
    "    train_batch_size=32,\n",
    "    early_stop_threshold=1e-3,\n",
    "    weight_decay=0.00001,\n",
    "    exploration_rate=0.00001,\n",
    "    learning_rate=1e-4,\n",
    "    min_samples_required_for_training=100,\n",
    "    initial_train_steps=2000,\n",
    ")\n",
    "\n",
    "logging.getLogger(\"lightning.pytorch.utilities.rank_zero\").setLevel(logging.FATAL)\n",
    "logger = OnlineBanditLoggerDecorator(\n",
    "    CSVLogger(\"logs\", name=\"neural_ts_bandit\", flush_logs_every_n_steps=100), enable_console_logging=False\n",
    ")"
   ]
  },
  {
   "cell_type": "code",
   "execution_count": null,
   "metadata": {},
   "outputs": [],
   "source": [
    "rewards = np.array([])\n",
    "regrets = np.array([])\n",
    "progress_bar = tqdm(iter(env), total=len(env))\n",
    "for contextualized_actions in progress_bar:\n",
    "    chosen_actions, _ = bandit_module.forward(contextualized_actions)\n",
    "\n",
    "    trainer = pl.Trainer(\n",
    "        max_epochs=1,\n",
    "        max_steps=1000,\n",
    "        logger=logger,\n",
    "        gradient_clip_val=20.0,\n",
    "        log_every_n_steps=1,\n",
    "        enable_progress_bar=False,\n",
    "        enable_model_summary=False,\n",
    "        enable_checkpointing=False,\n",
    "    )\n",
    "    chosen_contextualized_actions, realized_rewards = env.get_feedback(chosen_actions)\n",
    "    batch_regret = env.compute_regret(chosen_actions)\n",
    "\n",
    "    # append batch of rewards and regrets\n",
    "    rewards = np.append(rewards, realized_rewards.cpu().numpy())\n",
    "    regrets = np.append(regrets, batch_regret.cpu().numpy())\n",
    "\n",
    "    progress_bar.set_postfix(\n",
    "        reward=realized_rewards.mean().item(),\n",
    "        regret=batch_regret.mean().item(),\n",
    "        avg_regret=regrets.mean(),\n",
    "    )\n",
    "\n",
    "    bandit_module.record_feedback(chosen_contextualized_actions, realized_rewards)\n",
    "    trainer.fit(bandit_module)\n",
    "metrics = pd.DataFrame(\n",
    "    {\n",
    "        \"reward\": rewards,\n",
    "        \"regret\": regrets,\n",
    "    }\n",
    ")"
   ]
  },
  {
   "cell_type": "code",
   "execution_count": null,
   "metadata": {},
   "outputs": [],
   "source": [
    "# load metrics from the logger and plot\n",
    "import numpy as np\n",
    "\n",
    "cumulative_reward = np.cumsum(metrics[\"reward\"][:10000])\n",
    "cumulative_regret = np.cumsum(metrics[\"regret\"][:10000])"
   ]
  },
  {
   "cell_type": "code",
   "execution_count": null,
   "metadata": {},
   "outputs": [],
   "source": [
    "import matplotlib.pyplot as plt\n",
    "\n",
    "plt.plot(cumulative_reward, label=\"Cumulative Reward\")\n",
    "plt.plot(cumulative_regret, label=\"Cumulative Regret\")\n",
    "plt.xlabel(\"steps\")\n",
    "plt.ylabel(\"cumulative reward/regret\")\n",
    "plt.legend()\n",
    "plt.show()"
   ]
  },
  {
   "cell_type": "code",
   "execution_count": null,
   "metadata": {},
   "outputs": [],
   "source": [
    "# average reward\n",
    "print(sum(metrics[\"reward\"][:10]) / 10)\n",
    "print(sum(metrics[\"reward\"][:100]) / 100)\n",
    "print(sum(metrics[\"reward\"][:10000]) / 10000)\n",
    "\n",
    "print(sum(metrics[\"regret\"][:10].dropna()) / 10)\n",
    "print(sum(metrics[\"regret\"][:100].dropna()) / 100)\n",
    "print(sum(metrics[\"regret\"][:10000].dropna()) / 10000)"
   ]
  },
  {
   "cell_type": "code",
   "execution_count": null,
   "metadata": {},
   "outputs": [],
   "source": [
    "bandit_metrics_csv = logger._logger_wrappee.log_dir + \"/metrics.csv\"\n",
    "print(bandit_metrics_csv)\n",
    "bandit_metrics = pd.read_csv(bandit_metrics_csv)\n",
    "\n",
    "plt.plot(bandit_metrics[\"loss\"][:10000].dropna(), label=\"Loss\")\n",
    "plt.xlabel(\"steps\")\n",
    "plt.ylabel(\"loss\")\n",
    "plt.legend()\n",
    "plt.show()"
   ]
  }
 ],
 "metadata": {
  "kernelspec": {
   "display_name": "neural_bandits",
   "language": "python",
   "name": "python3"
  },
  "language_info": {
   "codemirror_mode": {
    "name": "ipython",
    "version": 3
   },
   "file_extension": ".py",
   "mimetype": "text/x-python",
   "name": "python",
   "nbconvert_exporter": "python",
   "pygments_lexer": "ipython3",
   "version": "3.10.16"
  }
 },
 "nbformat": 4,
 "nbformat_minor": 2
}
