{
 "cells": [
  {
   "cell_type": "code",
   "execution_count": null,
   "metadata": {},
   "outputs": [],
   "source": [
    "# Core libraries\n",
    "import numpy as np\n",
    "import pandas as pd\n",
    "import matplotlib.pyplot as plt\n",
    "from functools import partial\n",
    "from typing import Any\n",
    "import logging\n",
    "from tqdm import tqdm\n",
    "\n",
    "# PyTorch and Lightning\n",
    "import lightning as pl\n",
    "import torch\n",
    "from torch.utils.data import DataLoader, Subset\n",
    "\n",
    "# Transformers (BERT)\n",
    "from transformers import BertModel, DataCollatorForTokenClassification\n",
    "\n",
    "# Calvera bandit library\n",
    "from calvera.bandits import NeuralLinearBandit\n",
    "from calvera.benchmark.datasets import ImdbMovieReviews\n",
    "from calvera.benchmark import BanditBenchmarkEnvironment, BertWrapper\n",
    "from calvera.utils import ListDataBuffer, AllDataBufferStrategy"
   ]
  },
  {
   "cell_type": "code",
   "execution_count": 2,
   "metadata": {},
   "outputs": [],
   "source": [
    "def transformers_collate(batch: Any, data_collator: DataCollatorForTokenClassification) -> Any:\n",
    "    \"\"\"Custom collate function for processing transformer inputs in the DataLoader.\n",
    "\n",
    "    Args:\n",
    "        batch: The batch to collate.\n",
    "        data_collator: The data collator to use.\n",
    "\n",
    "    Returns:\n",
    "        The collated batch with properly formatted transformer inputs.\n",
    "    \"\"\"\n",
    "    examples = []\n",
    "    for item in batch:\n",
    "        inputs = item[0]\n",
    "        example = {\n",
    "            \"input_ids\": inputs[0],\n",
    "            \"attention_mask\": inputs[1],\n",
    "            \"token_type_ids\": inputs[2],\n",
    "        }\n",
    "        examples.append(example)\n",
    "\n",
    "    # Let the data collator process the list of individual examples.\n",
    "    context = data_collator(examples)\n",
    "    input_ids = context[\"input_ids\"]\n",
    "    attention_mask = context[\"attention_mask\"]\n",
    "    token_type_ids = context[\"token_type_ids\"]\n",
    "\n",
    "    if len(batch[0]) == 2:\n",
    "        realized_rewards = torch.stack([item[1] for item in batch])\n",
    "        return (input_ids, attention_mask, token_type_ids), realized_rewards\n",
    "\n",
    "    embedded_actions = None if batch[0][1] is None else torch.stack([item[1] for item in batch])\n",
    "    realized_rewards = torch.stack([item[2] for item in batch])\n",
    "    chosen_actions = None if batch[0][3] is None else torch.stack([item[3] for item in batch])\n",
    "\n",
    "    return (input_ids, attention_mask, token_type_ids), embedded_actions, realized_rewards, chosen_actions"
   ]
  },
  {
   "cell_type": "code",
   "execution_count": 3,
   "metadata": {},
   "outputs": [
    {
     "name": "stdout",
     "output_type": "stream",
     "text": [
      "Dataset context size: 256\n",
      "Dataset sample count: 24904\n"
     ]
    }
   ],
   "source": [
    "# Load the IMDB Movie Reviews dataset\n",
    "dataset = ImdbMovieReviews()\n",
    "\n",
    "# Print dataset information\n",
    "print(f\"Dataset context size: {dataset.context_size}\")\n",
    "print(f\"Dataset sample count: {len(dataset)}\")"
   ]
  },
  {
   "cell_type": "code",
   "execution_count": 4,
   "metadata": {},
   "outputs": [],
   "source": [
    "# Configuration\n",
    "EMBEDDING_SIZE = 128\n",
    "BUFFER_SIZE = 1024\n",
    "NUM_ARMS = 2\n",
    "NUM_SAMPLES = 10000\n",
    "BATCH_SIZE = 32\n",
    "\n",
    "# Create data loader for a subset of the data\n",
    "collate_fn = partial(transformers_collate, data_collator=dataset.get_data_collator())\n",
    "train_loader = DataLoader(\n",
    "    Subset(dataset, range(NUM_SAMPLES)), batch_size=BATCH_SIZE, shuffle=True, collate_fn=collate_fn\n",
    ")\n",
    "\n",
    "# Set up the environment\n",
    "accelerator = \"cpu\"\n",
    "env = BanditBenchmarkEnvironment(train_loader, device=accelerator)\n",
    "\n",
    "# Create BERT model (using a small version for demonstration)\n",
    "network = BertWrapper(BertModel.from_pretrained(\"google/bert_uncased_L-2_H-128_A-2\", output_hidden_states=True).eval())\n",
    "\n",
    "# Create memory buffer to store experiences\n",
    "buffer = ListDataBuffer(\n",
    "    buffer_strategy=AllDataBufferStrategy(),\n",
    "    max_size=BUFFER_SIZE,\n",
    ")\n",
    "\n",
    "# Initialize the NeuralLinearBandit module with BERT\n",
    "bandit_module = NeuralLinearBandit(\n",
    "    network=network,\n",
    "    buffer=buffer,\n",
    "    n_embedding_size=EMBEDDING_SIZE,\n",
    "    contextualization_after_network=True,  # Important for handling text embeddings\n",
    "    n_arms=NUM_ARMS,\n",
    "    initial_train_steps=128,\n",
    "    min_samples_required_for_training=128,\n",
    ")\n",
    "\n",
    "# Configure logging\n",
    "logging.getLogger(\"lightning.pytorch.utilities.rank_zero\").setLevel(logging.FATAL)"
   ]
  },
  {
   "cell_type": "code",
   "execution_count": 5,
   "metadata": {},
   "outputs": [
    {
     "name": "stderr",
     "output_type": "stream",
     "text": [
      "Training Neural Linear BERT bandit:   0%|          | 0/313 [00:00<?, ?it/s]c:\\Users\\Parisa\\anaconda3\\envs\\calvera\\lib\\site-packages\\lightning\\pytorch\\trainer\\connectors\\logger_connector\\logger_connector.py:76: Starting from v1.9.0, `tensorboardX` has been removed as a dependency of the `lightning.pytorch` package, due to potential conflicts with other packages in the ML ecosystem. For this reason, `logger=True` will use `CSVLogger` as the default logger, unless the `tensorboard` or `tensorboardX` packages are found. Please `pip install lightning[extra]` or one of them to enable TensorBoard support by default\n",
      "Training Neural Linear BERT bandit:   0%|          | 0/313 [00:00<?, ?it/s, reward=0.625, regret=0.375, avg_regret=0.375]c:\\Users\\Parisa\\anaconda3\\envs\\calvera\\lib\\site-packages\\lightning\\pytorch\\trainer\\connectors\\data_connector.py:425: The 'train_dataloader' does not have many workers which may be a bottleneck. Consider increasing the value of the `num_workers` argument` to `num_workers=11` in the `DataLoader` to improve performance.\n",
      "Training Neural Linear BERT bandit: 100%|██████████| 313/313 [11:42<00:00,  2.24s/it, reward=1, regret=0, avg_regret=0.0024]        \n"
     ]
    },
    {
     "data": {
      "text/html": [
       "<div>\n",
       "<style scoped>\n",
       "    .dataframe tbody tr th:only-of-type {\n",
       "        vertical-align: middle;\n",
       "    }\n",
       "\n",
       "    .dataframe tbody tr th {\n",
       "        vertical-align: top;\n",
       "    }\n",
       "\n",
       "    .dataframe thead th {\n",
       "        text-align: right;\n",
       "    }\n",
       "</style>\n",
       "<table border=\"1\" class=\"dataframe\">\n",
       "  <thead>\n",
       "    <tr style=\"text-align: right;\">\n",
       "      <th></th>\n",
       "      <th>reward</th>\n",
       "      <th>regret</th>\n",
       "    </tr>\n",
       "  </thead>\n",
       "  <tbody>\n",
       "    <tr>\n",
       "      <th>0</th>\n",
       "      <td>1.0</td>\n",
       "      <td>0.0</td>\n",
       "    </tr>\n",
       "    <tr>\n",
       "      <th>1</th>\n",
       "      <td>0.0</td>\n",
       "      <td>1.0</td>\n",
       "    </tr>\n",
       "    <tr>\n",
       "      <th>2</th>\n",
       "      <td>0.0</td>\n",
       "      <td>1.0</td>\n",
       "    </tr>\n",
       "    <tr>\n",
       "      <th>3</th>\n",
       "      <td>1.0</td>\n",
       "      <td>0.0</td>\n",
       "    </tr>\n",
       "    <tr>\n",
       "      <th>4</th>\n",
       "      <td>1.0</td>\n",
       "      <td>0.0</td>\n",
       "    </tr>\n",
       "  </tbody>\n",
       "</table>\n",
       "</div>"
      ],
      "text/plain": [
       "   reward  regret\n",
       "0     1.0     0.0\n",
       "1     0.0     1.0\n",
       "2     0.0     1.0\n",
       "3     1.0     0.0\n",
       "4     1.0     0.0"
      ]
     },
     "execution_count": 5,
     "metadata": {},
     "output_type": "execute_result"
    }
   ],
   "source": [
    "# Initialize arrays to store metrics\n",
    "rewards = np.array([])\n",
    "regrets = np.array([])\n",
    "\n",
    "# Training loop with progress bar\n",
    "progress = tqdm(iter(env), total=len(env), desc=\"Training Neural Linear BERT bandit\")\n",
    "\n",
    "for contextualized_actions in progress:\n",
    "    # 1. Select actions based on current model\n",
    "    chosen_actions, _ = bandit_module.forward(contextualized_actions)\n",
    "\n",
    "    # 2. Create a trainer for this step\n",
    "    trainer = pl.Trainer(\n",
    "        max_epochs=1,\n",
    "        enable_progress_bar=False,\n",
    "        enable_model_summary=False,\n",
    "        log_every_n_steps=1,\n",
    "        accelerator=accelerator,\n",
    "    )\n",
    "\n",
    "    # 3. Get feedback from environment\n",
    "    chosen_contextualized_actions, realized_rewards = env.get_feedback(chosen_actions)\n",
    "    batch_regret = env.compute_regret(chosen_actions)\n",
    "\n",
    "    # 4. Track metrics\n",
    "    rewards = np.append(rewards, realized_rewards.cpu().numpy())\n",
    "    regrets = np.append(regrets, batch_regret.cpu().numpy())\n",
    "\n",
    "    # Update progress bar with current metrics\n",
    "    progress.set_postfix(\n",
    "        {\"reward\": realized_rewards.mean().item(), \"regret\": batch_regret.mean().item(), \"avg_regret\": regrets.mean()}\n",
    "    )\n",
    "\n",
    "    # 5. Update the bandit with feedback\n",
    "    bandit_module.record_feedback(chosen_contextualized_actions, realized_rewards, chosen_actions)\n",
    "    trainer.fit(bandit_module)\n",
    "    bandit_module = bandit_module.to(accelerator)\n",
    "\n",
    "# Store metrics in a DataFrame\n",
    "metrics = pd.DataFrame(\n",
    "    {\n",
    "        \"reward\": rewards,\n",
    "        \"regret\": regrets,\n",
    "    }\n",
    ")\n",
    "\n",
    "# Display the first few rows of metrics\n",
    "metrics.head()"
   ]
  },
  {
   "cell_type": "code",
   "execution_count": 6,
   "metadata": {},
   "outputs": [
    {
     "data": {
      "image/png": "[encoded data removed]",
      "text/plain": [
       "<Figure size 640x480 with 1 Axes>"
      ]
     },
     "metadata": {},
     "output_type": "display_data"
    }
   ],
   "source": [
    "# Calculate cumulative metrics\n",
    "cumulative_reward = np.cumsum(metrics[\"reward\"])\n",
    "cumulative_regret = np.cumsum(metrics[\"regret\"])\n",
    "\n",
    "# Plot cumulative regret and reward\n",
    "plt.plot(cumulative_reward, label=\"Reward\")\n",
    "plt.plot(cumulative_regret, label=\"Regret\")\n",
    "plt.xlabel(\"Steps\")\n",
    "plt.ylabel(\"Cumulative Reward/Regret\")\n",
    "plt.legend()\n",
    "plt.show()"
   ]
  },
  {
   "cell_type": "code",
   "execution_count": 7,
   "metadata": {},
   "outputs": [
    {
     "name": "stdout",
     "output_type": "stream",
     "text": [
      "Average reward (first 10 rounds): 0.6000\n",
      "Average reward (first 100 rounds): 0.8800\n",
      "Average reward (all rounds): 0.9976\n",
      "\n",
      "Average regret (first 10 rounds): 0.4000\n",
      "Average regret (first 100 rounds): 0.1200\n",
      "Average regret (all rounds): 0.0024\n"
     ]
    }
   ],
   "source": [
    "# Calculate metrics for each time horizon\n",
    "print(f\"Average reward (first 10 rounds): {np.mean(metrics['reward'][:10]):.4f}\")\n",
    "print(f\"Average reward (first 100 rounds): {np.mean(metrics['reward'][:100]):.4f}\")\n",
    "print(f\"Average reward (all rounds): {np.mean(metrics['reward']):.4f}\")\n",
    "print(\"\")\n",
    "print(f\"Average regret (first 10 rounds): {np.mean(metrics['regret'][:10]):.4f}\")\n",
    "print(f\"Average regret (first 100 rounds): {np.mean(metrics['regret'][:100]):.4f}\")\n",
    "print(f\"Average regret (all rounds): {np.mean(metrics['regret']):.4f}\")"
   ]
  }
 ],
 "metadata": {
  "kernelspec": {
   "display_name": "calvera",
   "language": "python",
   "name": "python3"
  },
  "language_info": {
   "codemirror_mode": {
    "name": "ipython",
    "version": 3
   },
   "file_extension": ".py",
   "mimetype": "text/x-python",
   "name": "python",
   "nbconvert_exporter": "python",
   "pygments_lexer": "ipython3",
   "version": "3.10.16"
  }
 },
 "nbformat": 4,
 "nbformat_minor": 2
}
