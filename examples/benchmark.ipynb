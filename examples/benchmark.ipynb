{
 "cells": [
  {
   "cell_type": "code",
   "execution_count": null,
   "metadata": {},
   "outputs": [],
   "source": [
    "from calvera.benchmark import run\n",
    "\n",
    "run(\n",
    "    {\n",
    "        \"bandit\": \"lin_ucb\",\n",
    "        \"dataset\": \"covertype\",\n",
    "        \"max_samples\": 5000,\n",
    "        \"feedback_delay\": 1,\n",
    "        \"train_batch_size\": 1,\n",
    "        \"forward_batch_size\": 1,\n",
    "        \"bandit_hparams\": {\n",
    "            \"alpha\": 1.0,\n",
    "        },\n",
    "    }\n",
    ")"
   ]
  },
  {
   "cell_type": "code",
   "execution_count": null,
   "metadata": {},
   "outputs": [],
   "source": [
    "from calvera.benchmark import run\n",
    "\n",
    "run(\n",
    "    {\n",
    "        \"bandit\": \"neural_linear\",\n",
    "        \"dataset\": \"covertype\",\n",
    "        \"network\": \"tiny_mlp\",\n",
    "        \"max_samples\": 5000,\n",
    "        \"feedback_delay\": 1,\n",
    "        \"train_batch_size\": 1,\n",
    "        \"forward_batch_size\": 1,\n",
    "        \"data_strategy\": \"sliding_window\",\n",
    "        \"sliding_window_size\": 1,\n",
    "        \"bandit_hparams\": {\n",
    "            \"n_embedding_size\": 128,\n",
    "        },\n",
    "    }\n",
    ")"
   ]
  }
 ],
 "metadata": {
  "kernelspec": {
   "display_name": "calvera",
   "language": "python",
   "name": "python3"
  },
  "language_info": {
   "codemirror_mode": {
    "name": "ipython",
    "version": 3
   },
   "file_extension": ".py",
   "mimetype": "text/x-python",
   "name": "python",
   "nbconvert_exporter": "python",
   "pygments_lexer": "ipython3",
   "version": "3.10.16"
  }
 },
 "nbformat": 4,
 "nbformat_minor": 2
}
