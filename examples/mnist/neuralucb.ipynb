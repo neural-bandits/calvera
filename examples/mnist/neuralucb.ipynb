{
 "cells": [
  {
   "cell_type": "code",
   "execution_count": 4,
   "metadata": {
    "collapsed": true
   },
   "outputs": [],
   "source": [
    "import numpy as np\n",
    "from sklearn import datasets\n",
    "from sklearn.model_selection import train_test_split\n",
    "from sklearn.preprocessing import StandardScaler\n",
    "from sklearn.linear_model import LogisticRegression\n",
    "from sklearn.metrics import accuracy_score, classification_report, confusion_matrix\n",
    "\n",
    "\n",
    "def load_data():\n",
    "    mnist = datasets.fetch_openml(\"mnist_784\", version=1, as_frame=False)\n",
    "    X, y = mnist.data, mnist.target\n",
    "    y = y.astype(np.int32)  # Convert target to integers\n",
    "    return X, y\n",
    "\n",
    "\n",
    "def split_data(X, y, test_size=0.2, random_state=42):\n",
    "    return train_test_split(X, y, test_size=test_size, random_state=random_state)\n",
    "\n",
    "\n",
    "def avg_pooling(image, pool_size):\n",
    "    pooled_height = image.shape[0] // pool_size[0]\n",
    "    pooled_width = image.shape[1] // pool_size[1]\n",
    "    pooled_image = np.zeros((pooled_height, pooled_width))\n",
    "\n",
    "    for i in range(pooled_height):\n",
    "        for j in range(pooled_width):\n",
    "            start_i, end_i = i * pool_size[0], (i + 1) * pool_size[0]\n",
    "            start_j, end_j = j * pool_size[1], (j + 1) * pool_size[1]\n",
    "            pooled_image[i, j] = np.mean(image[start_i:end_i, start_j:end_j])\n",
    "\n",
    "    return pooled_image\n",
    "\n",
    "\n",
    "def preprocess_data(X_train, X_test):\n",
    "    scaler = StandardScaler()\n",
    "    X_train_scaled = scaler.fit_transform(X_train)\n",
    "    X_test_scaled = scaler.transform(X_test)\n",
    "\n",
    "    return X_train_scaled, X_test_scaled"
   ]
  },
  {
   "cell_type": "code",
   "execution_count": 5,
   "metadata": {},
   "outputs": [
    {
     "name": "stderr",
     "output_type": "stream",
     "text": [
      "c:\\Users\\Parisa\\anaconda3\\envs\\neural_bandits\\lib\\site-packages\\sklearn\\datasets\\_openml.py:968: FutureWarning: The default value of `parser` will change from `'liac-arff'` to `'auto'` in 1.4. You can set `parser='auto'` to silence this warning. Therefore, an `ImportError` will be raised from 1.4 if the dataset is dense and pandas is not installed. Note that the pandas parser may return different data types. See the Notes Section in fetch_openml's API doc for details.\n",
      "  warn(\n",
      "100%|██████████| 70000/70000 [00:47<00:00, 1469.44it/s]\n"
     ]
    }
   ],
   "source": [
    "import tqdm\n",
    "\n",
    "# Load and split the data\n",
    "X, y = load_data()\n",
    "\n",
    "pool_size = 3\n",
    "X_pooled = np.zeros((X.shape[0], (28 // pool_size) * (28 // pool_size)))\n",
    "for i in tqdm.tqdm(range(X.shape[0])):\n",
    "    image = X[i].reshape(28, 28)\n",
    "    pooled_image = avg_pooling(image, (pool_size, pool_size))\n",
    "    X_pooled[i] = pooled_image.flatten()\n",
    "\n",
    "X_train, X_test, y_train, y_test = split_data(X_pooled, y)\n",
    "\n",
    "# Preprocess the data\n",
    "X_train_scaled, X_test_scaled = preprocess_data(X_train, X_test)"
   ]
  },
  {
   "cell_type": "code",
   "execution_count": 6,
   "metadata": {},
   "outputs": [],
   "source": [
    "import sys\n",
    "sys.path.append('D:\\calvera\\src')"
   ]
  },
  {
   "cell_type": "code",
   "execution_count": 7,
   "metadata": {},
   "outputs": [],
   "source": [
    "import torch.nn as nn\n",
    "\n",
    "class Network(nn.Module):\n",
    "    def __init__(self, dim, hidden_size=100):\n",
    "        super(Network, self).__init__()\n",
    "        self.fc1 = nn.Linear(dim, hidden_size)\n",
    "        self.activate = nn.ReLU()\n",
    "        self.fc2 = nn.Linear(hidden_size, 1)\n",
    "    def forward(self, x):\n",
    "        return self.fc2(self.activate(self.fc1(x)))"
   ]
  },
  {
   "cell_type": "code",
   "execution_count": 36,
   "metadata": {},
   "outputs": [],
   "source": [
    "import torch\n",
    "\n",
    "from neural_bandits.algorithms.neural_ucb_bandit import NeuralUCB\n",
    "from neural_bandits.trainers.neural_ucb_trainer import NeuralUCBTrainer\n",
    "from neural_bandits.utils.multiclass import MultiClassContextualiser\n",
    "\n",
    "def train_neural_ucb_mnist(X_train_scaled, y_train, n_samples: int = 10000):\n",
    "    device = torch.device(\"cuda\" if torch.cuda.is_available() else \"cpu\")\n",
    "    n_features = X_train_scaled.shape[1]\n",
    "    n_arms = 10\n",
    "\n",
    "    network = Network(n_features * n_arms, hidden_size=100)\n",
    "    \n",
    "    # Initialize bandit\n",
    "    bandit = NeuralUCB(\n",
    "        network=network,\n",
    "        n_arms=n_arms,\n",
    "        n_features=n_features * n_arms,\n",
    "        lambda_=0.00001,\n",
    "        nu=0.00001,\n",
    "    ).to(device)\n",
    "    \n",
    "    trainer = NeuralUCBTrainer(eta=0.01)\n",
    "    mc_contextualiser = MultiClassContextualiser(n_arms)\n",
    "    \n",
    "    total_regret = []\n",
    "    \n",
    "    for t in tqdm.tqdm(range(n_samples)):\n",
    "        x_tensor = torch.tensor(X_train_scaled[t], dtype=torch.float32).to(device).reshape(1, -1)\n",
    "        contextualised_actions = mc_contextualiser.contextualise(x_tensor)\n",
    "        # print(\"contextualised_actions.shape: \", contextualised_actions.shape)\n",
    "        \n",
    "        # Select action\n",
    "        ucb_scores = bandit(contextualised_actions)\n",
    "        chosen_arm = torch.argmax(ucb_scores, dim=1).item()\n",
    "        \n",
    "        # Get reward\n",
    "        reward = 1.0 if y_train[t] == chosen_arm else 0.0\n",
    "        reward = torch.tensor([reward], dtype=torch.float32, device=device).reshape(1, -1)\n",
    "        total_regret.append(1 - reward.item())\n",
    "        \n",
    "        # Extract features for chosen arm\n",
    "        contextualised_actions = contextualised_actions.squeeze(0)\n",
    "        chosen_features = contextualised_actions[chosen_arm]\n",
    "        # print(\"chosen_features.shape: \", chosen_features.shape)\n",
    "        \n",
    "        # Update bandit\n",
    "        if t < 1000:\n",
    "            bandit = trainer.update(bandit, reward, chosen_features)\n",
    "        else:\n",
    "            if t % 100 == 0:\n",
    "                bandit = trainer.update(bandit, reward, chosen_features)\n",
    "\n",
    "        if t % 100 == 0:\n",
    "            print(f\"Step {t}:\")\n",
    "            print(f\"UCB Scores: {ucb_scores}\")\n",
    "            print(f\"Chosen arm: {chosen_arm}\")\n",
    "            print(f\"True label: {y_train[t]}\")\n",
    "            print(f\"Average regret: {sum(total_regret)/(t+1)}\")\n",
    "    \n",
    "    return bandit, total_regret"
   ]
  },
  {
   "cell_type": "code",
   "execution_count": 37,
   "metadata": {},
   "outputs": [
    {
     "name": "stderr",
     "output_type": "stream",
     "text": [
      "  0%|          | 5/10000 [00:00<03:46, 44.04it/s]"
     ]
    },
    {
     "name": "stdout",
     "output_type": "stream",
     "text": [
      "Step 0:\n",
      "UCB Scores: tensor([[0.0910, 0.1041, 0.1001, 0.1032, 0.1025, 0.1057, 0.0986, 0.1043, 0.1010,\n",
      "         0.0893]])\n",
      "Chosen arm: 5\n",
      "True label: 5\n",
      "Average regret: 0.0\n"
     ]
    },
    {
     "name": "stderr",
     "output_type": "stream",
     "text": [
      "  1%|          | 102/10000 [00:12<30:47,  5.36it/s]"
     ]
    },
    {
     "name": "stdout",
     "output_type": "stream",
     "text": [
      "Step 100:\n",
      "UCB Scores: tensor([[0.1668, 0.0742, 0.0818, 0.0819, 0.1043, 0.1183, 0.1252, 0.0622, 0.0899,\n",
      "         0.0953]])\n",
      "Chosen arm: 0\n",
      "True label: 0\n",
      "Average regret: 0.6534653465346535\n"
     ]
    },
    {
     "name": "stderr",
     "output_type": "stream",
     "text": [
      "  2%|▏         | 202/10000 [00:41<37:57,  4.30it/s]  "
     ]
    },
    {
     "name": "stdout",
     "output_type": "stream",
     "text": [
      "Step 200:\n",
      "UCB Scores: tensor([[0.0903, 0.0777, 0.1162, 0.1237, 0.0904, 0.1338, 0.0880, 0.1006, 0.1012,\n",
      "         0.0780]])\n",
      "Chosen arm: 5\n",
      "True label: 6\n",
      "Average regret: 0.572139303482587\n"
     ]
    },
    {
     "name": "stderr",
     "output_type": "stream",
     "text": [
      "  3%|▎         | 301/10000 [01:11<43:24,  3.72it/s]  "
     ]
    },
    {
     "name": "stdout",
     "output_type": "stream",
     "text": [
      "Step 300:\n",
      "UCB Scores: tensor([[0.0676, 0.0852, 0.1069, 0.2518, 0.0726, 0.0630, 0.0839, 0.0836, 0.0965,\n",
      "         0.0890]])\n",
      "Chosen arm: 3\n",
      "True label: 3\n",
      "Average regret: 0.5149501661129569\n"
     ]
    },
    {
     "name": "stderr",
     "output_type": "stream",
     "text": [
      "  4%|▍         | 401/10000 [01:53<57:57,  2.76it/s]  "
     ]
    },
    {
     "name": "stdout",
     "output_type": "stream",
     "text": [
      "Step 400:\n",
      "UCB Scores: tensor([[0.0922, 0.0754, 0.0745, 0.1691, 0.0924, 0.0843, 0.0793, 0.2002, 0.0839,\n",
      "         0.0487]])\n",
      "Chosen arm: 7\n",
      "True label: 7\n",
      "Average regret: 0.486284289276808\n"
     ]
    },
    {
     "name": "stderr",
     "output_type": "stream",
     "text": [
      "  5%|▌         | 501/10000 [02:47<1:42:30,  1.54it/s]"
     ]
    },
    {
     "name": "stdout",
     "output_type": "stream",
     "text": [
      "Step 500:\n",
      "UCB Scores: tensor([[0.0516, 0.1792, 0.0838, 0.1397, 0.0591, 0.0522, 0.0697, 0.1858, 0.0800,\n",
      "         0.0990]])\n",
      "Chosen arm: 7\n",
      "True label: 1\n",
      "Average regret: 0.4431137724550898\n"
     ]
    },
    {
     "name": "stderr",
     "output_type": "stream",
     "text": [
      "  6%|▌         | 601/10000 [03:41<1:03:36,  2.46it/s]"
     ]
    },
    {
     "name": "stdout",
     "output_type": "stream",
     "text": [
      "Step 600:\n",
      "UCB Scores: tensor([[0.0650, 0.0803, 0.0634, 0.1017, 0.0830, 0.1109, 0.0767, 0.1640, 0.1523,\n",
      "         0.1027]])\n",
      "Chosen arm: 7\n",
      "True label: 7\n",
      "Average regret: 0.40266222961730447\n"
     ]
    },
    {
     "name": "stderr",
     "output_type": "stream",
     "text": [
      "  7%|▋         | 701/10000 [04:30<1:22:05,  1.89it/s]"
     ]
    },
    {
     "name": "stdout",
     "output_type": "stream",
     "text": [
      "Step 700:\n",
      "UCB Scores: tensor([[0.0844, 0.1777, 0.0979, 0.1000, 0.0998, 0.0795, 0.0777, 0.0611, 0.1305,\n",
      "         0.0914]])\n",
      "Chosen arm: 1\n",
      "True label: 1\n",
      "Average regret: 0.3651925820256776\n"
     ]
    },
    {
     "name": "stderr",
     "output_type": "stream",
     "text": [
      "  8%|▊         | 801/10000 [05:24<1:28:05,  1.74it/s]"
     ]
    },
    {
     "name": "stdout",
     "output_type": "stream",
     "text": [
      "Step 800:\n",
      "UCB Scores: tensor([[0.1436, 0.1374, 0.0985, 0.1357, 0.0991, 0.0803, 0.0722, 0.0582, 0.0801,\n",
      "         0.0948]])\n",
      "Chosen arm: 0\n",
      "True label: 3\n",
      "Average regret: 0.3408239700374532\n"
     ]
    },
    {
     "name": "stderr",
     "output_type": "stream",
     "text": [
      "  9%|▉         | 901/10000 [06:22<1:40:17,  1.51it/s]"
     ]
    },
    {
     "name": "stdout",
     "output_type": "stream",
     "text": [
      "Step 900:\n",
      "UCB Scores: tensor([[0.1034, 0.0694, 0.0435, 0.1265, 0.0938, 0.1937, 0.0873, 0.0882, 0.0779,\n",
      "         0.1163]])\n",
      "Chosen arm: 5\n",
      "True label: 5\n",
      "Average regret: 0.3218645948945616\n"
     ]
    },
    {
     "name": "stderr",
     "output_type": "stream",
     "text": [
      " 10%|█         | 1022/10000 [07:26<10:34, 14.15it/s]  "
     ]
    },
    {
     "name": "stdout",
     "output_type": "stream",
     "text": [
      "Step 1000:\n",
      "UCB Scores: tensor([[0.0581, 0.2063, 0.1337, 0.0888, 0.0999, 0.0846, 0.1134, 0.0762, 0.0803,\n",
      "         0.0587]])\n",
      "Chosen arm: 1\n",
      "True label: 1\n",
      "Average regret: 0.3126873126873127\n"
     ]
    },
    {
     "name": "stderr",
     "output_type": "stream",
     "text": [
      " 11%|█         | 1122/10000 [07:28<02:45, 53.58it/s]"
     ]
    },
    {
     "name": "stdout",
     "output_type": "stream",
     "text": [
      "Step 1100:\n",
      "UCB Scores: tensor([[0.0857, 0.0516, 0.0648, 0.0785, 0.1286, 0.1039, 0.1028, 0.1127, 0.0900,\n",
      "         0.1814]])\n",
      "Chosen arm: 9\n",
      "True label: 9\n",
      "Average regret: 0.29518619436875565\n"
     ]
    },
    {
     "name": "stderr",
     "output_type": "stream",
     "text": [
      " 12%|█▏        | 1236/10000 [07:29<01:51, 78.42it/s] "
     ]
    },
    {
     "name": "stdout",
     "output_type": "stream",
     "text": [
      "Step 1200:\n",
      "UCB Scores: tensor([[0.1072, 0.0625, 0.0668, 0.1038, 0.1021, 0.0807, 0.0669, 0.1495, 0.1078,\n",
      "         0.1528]])\n",
      "Chosen arm: 9\n",
      "True label: 9\n",
      "Average regret: 0.29059117402164863\n"
     ]
    },
    {
     "name": "stderr",
     "output_type": "stream",
     "text": [
      " 13%|█▎        | 1317/10000 [07:30<02:25, 59.81it/s] "
     ]
    },
    {
     "name": "stdout",
     "output_type": "stream",
     "text": [
      "Step 1300:\n",
      "UCB Scores: tensor([[0.0811, 0.0949, 0.1040, 0.2914, 0.0665, 0.0868, 0.0662, 0.1075, 0.0713,\n",
      "         0.0303]])\n",
      "Chosen arm: 3\n",
      "True label: 3\n",
      "Average regret: 0.2851652574942352\n"
     ]
    },
    {
     "name": "stderr",
     "output_type": "stream",
     "text": [
      " 14%|█▍        | 1436/10000 [07:32<01:58, 72.29it/s] "
     ]
    },
    {
     "name": "stdout",
     "output_type": "stream",
     "text": [
      "Step 1400:\n",
      "UCB Scores: tensor([[0.1000, 0.0688, 0.0843, 0.1478, 0.0660, 0.2252, 0.0895, 0.0801, 0.0943,\n",
      "         0.0439]])\n",
      "Chosen arm: 5\n",
      "True label: 5\n",
      "Average regret: 0.2798001427551749\n"
     ]
    },
    {
     "name": "stderr",
     "output_type": "stream",
     "text": [
      " 15%|█▌        | 1527/10000 [07:33<02:34, 54.74it/s]"
     ]
    },
    {
     "name": "stdout",
     "output_type": "stream",
     "text": [
      "Step 1500:\n",
      "UCB Scores: tensor([[0.1035, 0.0725, 0.0472, 0.1181, 0.1236, 0.0266, 0.0470, 0.0850, 0.1267,\n",
      "         0.2498]])\n",
      "Chosen arm: 9\n",
      "True label: 7\n",
      "Average regret: 0.27381745502998\n"
     ]
    },
    {
     "name": "stderr",
     "output_type": "stream",
     "text": [
      " 16%|█▌        | 1624/10000 [07:35<02:53, 48.36it/s] "
     ]
    },
    {
     "name": "stdout",
     "output_type": "stream",
     "text": [
      "Step 1600:\n",
      "UCB Scores: tensor([[0.0580, 0.0808, 0.0791, 0.1192, 0.0799, 0.1286, 0.0780, 0.1320, 0.1816,\n",
      "         0.0628]])\n",
      "Chosen arm: 8\n",
      "True label: 8\n",
      "Average regret: 0.2673329169269207\n"
     ]
    },
    {
     "name": "stderr",
     "output_type": "stream",
     "text": [
      " 17%|█▋        | 1731/10000 [07:36<02:15, 61.17it/s] "
     ]
    },
    {
     "name": "stdout",
     "output_type": "stream",
     "text": [
      "Step 1700:\n",
      "UCB Scores: tensor([[0.1408, 0.0797, 0.1237, 0.0535, 0.1106, 0.0626, 0.1040, 0.1466, 0.1172,\n",
      "         0.0614]])\n",
      "Chosen arm: 7\n",
      "True label: 6\n",
      "Average regret: 0.26161081716637274\n"
     ]
    },
    {
     "name": "stderr",
     "output_type": "stream",
     "text": [
      " 18%|█▊        | 1826/10000 [07:38<02:48, 48.51it/s] "
     ]
    },
    {
     "name": "stdout",
     "output_type": "stream",
     "text": [
      "Step 1800:\n",
      "UCB Scores: tensor([[0.0954, 0.0618, 0.0852, 0.0743, 0.1329, 0.1160, 0.1186, 0.0996, 0.1087,\n",
      "         0.1076]])\n",
      "Chosen arm: 4\n",
      "True label: 4\n",
      "Average regret: 0.25763464741810105\n"
     ]
    },
    {
     "name": "stderr",
     "output_type": "stream",
     "text": [
      " 19%|█▉        | 1924/10000 [07:39<02:18, 58.36it/s] "
     ]
    },
    {
     "name": "stdout",
     "output_type": "stream",
     "text": [
      "Step 1900:\n",
      "UCB Scores: tensor([[0.0797, 0.0727, 0.1152, 0.0795, 0.0644, 0.0731, 0.1125, 0.0660, 0.2470,\n",
      "         0.0899]])\n",
      "Chosen arm: 8\n",
      "True label: 8\n",
      "Average regret: 0.25092056812204105\n"
     ]
    },
    {
     "name": "stderr",
     "output_type": "stream",
     "text": [
      " 20%|██        | 2030/10000 [07:40<02:09, 61.53it/s] "
     ]
    },
    {
     "name": "stdout",
     "output_type": "stream",
     "text": [
      "Step 2000:\n",
      "UCB Scores: tensor([[0.0616, 0.1371, 0.0859, 0.0594, 0.1856, 0.0499, 0.0917, 0.0736, 0.0835,\n",
      "         0.1718]])\n",
      "Chosen arm: 4\n",
      "True label: 4\n",
      "Average regret: 0.2478760619690155\n"
     ]
    },
    {
     "name": "stderr",
     "output_type": "stream",
     "text": [
      " 21%|██▏       | 2131/10000 [07:42<02:00, 65.46it/s] "
     ]
    },
    {
     "name": "stdout",
     "output_type": "stream",
     "text": [
      "Step 2100:\n",
      "UCB Scores: tensor([[0.0857, 0.0706, 0.1936, 0.2725, 0.0343, 0.0243, 0.0756, 0.1125, 0.0629,\n",
      "         0.0680]])\n",
      "Chosen arm: 3\n",
      "True label: 3\n",
      "Average regret: 0.2441694431223227\n"
     ]
    },
    {
     "name": "stderr",
     "output_type": "stream",
     "text": [
      " 22%|██▏       | 2240/10000 [07:43<01:38, 78.58it/s] "
     ]
    },
    {
     "name": "stdout",
     "output_type": "stream",
     "text": [
      "Step 2200:\n",
      "UCB Scores: tensor([[0.0952, 0.0725, 0.0627, 0.0770, 0.0832, 0.0711, 0.0489, 0.2090, 0.1601,\n",
      "         0.1203]])\n",
      "Chosen arm: 7\n",
      "True label: 7\n",
      "Average regret: 0.24261699227623806\n"
     ]
    },
    {
     "name": "stderr",
     "output_type": "stream",
     "text": [
      " 23%|██▎       | 2320/10000 [07:44<02:20, 54.73it/s] "
     ]
    },
    {
     "name": "stdout",
     "output_type": "stream",
     "text": [
      "Step 2300:\n",
      "UCB Scores: tensor([[0.0868, 0.0731, 0.2423, 0.1536, 0.1162, 0.0870, 0.0818, 0.0709, 0.0400,\n",
      "         0.0484]])\n",
      "Chosen arm: 2\n",
      "True label: 2\n",
      "Average regret: 0.24076488483268144\n"
     ]
    },
    {
     "name": "stderr",
     "output_type": "stream",
     "text": [
      " 24%|██▍       | 2433/10000 [07:46<02:04, 60.88it/s] "
     ]
    },
    {
     "name": "stdout",
     "output_type": "stream",
     "text": [
      "Step 2400:\n",
      "UCB Scores: tensor([[0.2402, 0.0788, 0.0957, 0.1012, 0.0689, 0.0672, 0.1772, 0.0628, 0.0611,\n",
      "         0.0467]])\n",
      "Chosen arm: 0\n",
      "True label: 0\n",
      "Average regret: 0.23740108288213244\n"
     ]
    },
    {
     "name": "stderr",
     "output_type": "stream",
     "text": [
      " 25%|██▌       | 2533/10000 [07:47<02:05, 59.71it/s] "
     ]
    },
    {
     "name": "stdout",
     "output_type": "stream",
     "text": [
      "Step 2500:\n",
      "UCB Scores: tensor([[0.2160, 0.1229, 0.1002, 0.0509, 0.1142, 0.1268, 0.0948, 0.0490, 0.0535,\n",
      "         0.0716]])\n",
      "Chosen arm: 0\n",
      "True label: 0\n",
      "Average regret: 0.23630547780887645\n"
     ]
    },
    {
     "name": "stderr",
     "output_type": "stream",
     "text": [
      " 26%|██▋       | 2626/10000 [07:49<02:05, 58.81it/s]"
     ]
    },
    {
     "name": "stdout",
     "output_type": "stream",
     "text": [
      "Step 2600:\n",
      "UCB Scores: tensor([[0.0804, 0.1517, 0.1081, 0.1808, 0.0713, 0.1066, 0.0778, 0.0828, 0.0803,\n",
      "         0.0603]])\n",
      "Chosen arm: 3\n",
      "True label: 3\n",
      "Average regret: 0.2314494425221069\n"
     ]
    },
    {
     "name": "stderr",
     "output_type": "stream",
     "text": [
      " 27%|██▋       | 2730/10000 [07:50<02:06, 57.31it/s] "
     ]
    },
    {
     "name": "stdout",
     "output_type": "stream",
     "text": [
      "Step 2700:\n",
      "UCB Scores: tensor([[0.0905, 0.1536, 0.1144, 0.1588, 0.0737, 0.1429, 0.0694, 0.0547, 0.0936,\n",
      "         0.0485]])\n",
      "Chosen arm: 3\n",
      "True label: 1\n",
      "Average regret: 0.22806368011847464\n"
     ]
    },
    {
     "name": "stderr",
     "output_type": "stream",
     "text": [
      " 28%|██▊       | 2830/10000 [07:52<02:02, 58.68it/s] "
     ]
    },
    {
     "name": "stdout",
     "output_type": "stream",
     "text": [
      "Step 2800:\n",
      "UCB Scores: tensor([[0.0646, 0.2244, 0.1336, 0.0958, 0.0813, 0.0569, 0.0818, 0.0986, 0.0837,\n",
      "         0.0794]])\n",
      "Chosen arm: 1\n",
      "True label: 1\n",
      "Average regret: 0.22777579435915746\n"
     ]
    },
    {
     "name": "stderr",
     "output_type": "stream",
     "text": [
      " 29%|██▉       | 2925/10000 [07:53<02:07, 55.28it/s] "
     ]
    },
    {
     "name": "stdout",
     "output_type": "stream",
     "text": [
      "Step 2900:\n",
      "UCB Scores: tensor([[0.1943, 0.0831, 0.0868, 0.0629, 0.1080, 0.0223, 0.1517, 0.1105, 0.0874,\n",
      "         0.0929]])\n",
      "Chosen arm: 0\n",
      "True label: 0\n",
      "Average regret: 0.22578421234057222\n"
     ]
    },
    {
     "name": "stderr",
     "output_type": "stream",
     "text": [
      " 30%|███       | 3029/10000 [07:54<01:59, 58.47it/s] "
     ]
    },
    {
     "name": "stdout",
     "output_type": "stream",
     "text": [
      "Step 3000:\n",
      "UCB Scores: tensor([[0.0640, 0.1096, 0.1417, 0.1545, 0.0922, 0.0665, 0.0611, 0.0510, 0.0994,\n",
      "         0.1601]])\n",
      "Chosen arm: 9\n",
      "True label: 3\n",
      "Average regret: 0.22592469176941019\n"
     ]
    },
    {
     "name": "stderr",
     "output_type": "stream",
     "text": [
      " 31%|███       | 3122/10000 [07:56<01:58, 58.28it/s]"
     ]
    },
    {
     "name": "stdout",
     "output_type": "stream",
     "text": [
      "Step 3100:\n",
      "UCB Scores: tensor([[0.0617, 0.0914, 0.0818, 0.0580, 0.1668, 0.0817, 0.0946, 0.1704, 0.1082,\n",
      "         0.0854]])\n",
      "Chosen arm: 7\n",
      "True label: 9\n",
      "Average regret: 0.2234762979683973\n"
     ]
    },
    {
     "name": "stderr",
     "output_type": "stream",
     "text": [
      " 32%|███▏      | 3227/10000 [07:57<02:18, 49.05it/s] "
     ]
    },
    {
     "name": "stdout",
     "output_type": "stream",
     "text": [
      "Step 3200:\n",
      "UCB Scores: tensor([[0.0697, 0.0764, 0.1065, 0.1620, 0.1492, 0.0324, 0.1500, 0.0847, 0.0459,\n",
      "         0.1232]])\n",
      "Chosen arm: 3\n",
      "True label: 4\n",
      "Average regret: 0.22055607622617932\n"
     ]
    },
    {
     "name": "stderr",
     "output_type": "stream",
     "text": [
      " 33%|███▎      | 3323/10000 [07:59<01:59, 56.10it/s] "
     ]
    },
    {
     "name": "stdout",
     "output_type": "stream",
     "text": [
      "Step 3300:\n",
      "UCB Scores: tensor([[0.0571, 0.2448, 0.0537, 0.1148, 0.0816, 0.0711, 0.0812, 0.0781, 0.1570,\n",
      "         0.0606]])\n",
      "Chosen arm: 1\n",
      "True label: 1\n",
      "Average regret: 0.21690396849439564\n"
     ]
    },
    {
     "name": "stderr",
     "output_type": "stream",
     "text": [
      " 34%|███▍      | 3424/10000 [08:00<01:53, 57.86it/s] "
     ]
    },
    {
     "name": "stdout",
     "output_type": "stream",
     "text": [
      "Step 3400:\n",
      "UCB Scores: tensor([[0.0570, 0.2152, 0.1541, 0.0958, 0.0679, 0.0545, 0.0774, 0.0537, 0.1554,\n",
      "         0.0690]])\n",
      "Chosen arm: 1\n",
      "True label: 1\n",
      "Average regret: 0.21728903263745958\n"
     ]
    },
    {
     "name": "stderr",
     "output_type": "stream",
     "text": [
      " 35%|███▌      | 3515/10000 [08:02<02:03, 52.38it/s] "
     ]
    },
    {
     "name": "stdout",
     "output_type": "stream",
     "text": [
      "Step 3500:\n",
      "UCB Scores: tensor([[0.0664, 0.0721, 0.1227, 0.3010, 0.0676, 0.1041, 0.0526, 0.0955, 0.0783,\n",
      "         0.0397]])\n",
      "Chosen arm: 3\n",
      "True label: 3\n",
      "Average regret: 0.21536703798914597\n"
     ]
    },
    {
     "name": "stderr",
     "output_type": "stream",
     "text": [
      " 36%|███▋      | 3636/10000 [08:03<01:39, 64.06it/s] "
     ]
    },
    {
     "name": "stdout",
     "output_type": "stream",
     "text": [
      "Step 3600:\n",
      "UCB Scores: tensor([[0.0640, 0.1141, 0.2032, 0.0635, 0.0990, 0.0624, 0.1483, 0.0962, 0.1010,\n",
      "         0.0484]])\n",
      "Chosen arm: 2\n",
      "True label: 2\n",
      "Average regret: 0.2143848930852541\n"
     ]
    },
    {
     "name": "stderr",
     "output_type": "stream",
     "text": [
      " 37%|███▋      | 3742/10000 [08:04<01:20, 78.04it/s] "
     ]
    },
    {
     "name": "stdout",
     "output_type": "stream",
     "text": [
      "Step 3700:\n",
      "UCB Scores: tensor([[0.0594, 0.1565, 0.0904, 0.2291, 0.0877, 0.0464, 0.0469, 0.0689, 0.0876,\n",
      "         0.1273]])\n",
      "Chosen arm: 3\n",
      "True label: 3\n",
      "Average regret: 0.21372601999459606\n"
     ]
    },
    {
     "name": "stderr",
     "output_type": "stream",
     "text": [
      " 38%|███▊      | 3821/10000 [08:06<01:51, 55.30it/s] "
     ]
    },
    {
     "name": "stdout",
     "output_type": "stream",
     "text": [
      "Step 3800:\n",
      "UCB Scores: tensor([[0.1121, 0.0755, 0.1788, 0.1215, 0.1297, 0.0440, 0.1158, 0.0184, 0.0670,\n",
      "         0.1371]])\n",
      "Chosen arm: 2\n",
      "True label: 2\n",
      "Average regret: 0.2120494606682452\n"
     ]
    },
    {
     "name": "stderr",
     "output_type": "stream",
     "text": [
      " 39%|███▉      | 3940/10000 [08:07<01:20, 75.45it/s] "
     ]
    },
    {
     "name": "stdout",
     "output_type": "stream",
     "text": [
      "Step 3900:\n",
      "UCB Scores: tensor([[0.1018, 0.1146, 0.1486, 0.0837, 0.0803, 0.1127, 0.0788, 0.0711, 0.1565,\n",
      "         0.0518]])\n",
      "Chosen arm: 8\n",
      "True label: 8\n",
      "Average regret: 0.21250961291976417\n"
     ]
    },
    {
     "name": "stderr",
     "output_type": "stream",
     "text": [
      " 40%|████      | 4019/10000 [08:09<01:45, 56.66it/s] "
     ]
    },
    {
     "name": "stdout",
     "output_type": "stream",
     "text": [
      "Step 4000:\n",
      "UCB Scores: tensor([[0.0975, 0.0786, 0.0905, 0.0640, 0.1043, 0.2174, 0.0801, 0.0864, 0.1502,\n",
      "         0.0311]])\n",
      "Chosen arm: 5\n",
      "True label: 5\n",
      "Average regret: 0.21094726318420395\n"
     ]
    },
    {
     "name": "stderr",
     "output_type": "stream",
     "text": [
      " 41%|████▏     | 4127/10000 [08:10<01:37, 60.26it/s] "
     ]
    },
    {
     "name": "stdout",
     "output_type": "stream",
     "text": [
      "Step 4100:\n",
      "UCB Scores: tensor([[0.1156, 0.1002, 0.1190, 0.0675, 0.1357, 0.0623, 0.1468, 0.1091, 0.0677,\n",
      "         0.0762]])\n",
      "Chosen arm: 6\n",
      "True label: 4\n",
      "Average regret: 0.20970495001219214\n"
     ]
    },
    {
     "name": "stderr",
     "output_type": "stream",
     "text": [
      " 42%|████▏     | 4233/10000 [08:11<01:32, 62.56it/s] "
     ]
    },
    {
     "name": "stdout",
     "output_type": "stream",
     "text": [
      "Step 4200:\n",
      "UCB Scores: tensor([[0.0490, 0.2069, 0.0906, 0.1513, 0.0903, 0.0507, 0.0994, 0.1293, 0.0511,\n",
      "         0.0815]])\n",
      "Chosen arm: 1\n",
      "True label: 1\n",
      "Average regret: 0.20828374196619853\n"
     ]
    },
    {
     "name": "stderr",
     "output_type": "stream",
     "text": [
      " 43%|████▎     | 4323/10000 [08:13<01:33, 60.92it/s] "
     ]
    },
    {
     "name": "stdout",
     "output_type": "stream",
     "text": [
      "Step 4300:\n",
      "UCB Scores: tensor([[0.0631, 0.0516, 0.0859, 0.0660, 0.2694, 0.0895, 0.1166, 0.1097, 0.0853,\n",
      "         0.0628]])\n",
      "Chosen arm: 4\n",
      "True label: 4\n",
      "Average regret: 0.2066961171820507\n"
     ]
    },
    {
     "name": "stderr",
     "output_type": "stream",
     "text": [
      " 44%|████▍     | 4430/10000 [08:14<01:30, 61.42it/s] "
     ]
    },
    {
     "name": "stdout",
     "output_type": "stream",
     "text": [
      "Step 4400:\n",
      "UCB Scores: tensor([[0.2497, 0.0752, 0.1137, 0.0389, 0.0966, 0.0720, 0.0794, 0.0659, 0.1016,\n",
      "         0.1071]])\n",
      "Chosen arm: 0\n",
      "True label: 0\n",
      "Average regret: 0.20699840945239717\n"
     ]
    },
    {
     "name": "stderr",
     "output_type": "stream",
     "text": [
      " 45%|████▌     | 4528/10000 [08:15<01:29, 60.96it/s] "
     ]
    },
    {
     "name": "stdout",
     "output_type": "stream",
     "text": [
      "Step 4500:\n",
      "UCB Scores: tensor([[0.0609, 0.0671, 0.0549, 0.0924, 0.0669, 0.0779, 0.0620, 0.0749, 0.1422,\n",
      "         0.3009]])\n",
      "Chosen arm: 9\n",
      "True label: 9\n",
      "Average regret: 0.20550988669184625\n"
     ]
    },
    {
     "name": "stderr",
     "output_type": "stream",
     "text": [
      " 46%|████▋     | 4630/10000 [08:17<01:38, 54.74it/s] "
     ]
    },
    {
     "name": "stdout",
     "output_type": "stream",
     "text": [
      "Step 4600:\n",
      "UCB Scores: tensor([[0.1007, 0.1098, 0.2461, 0.0784, 0.0638, 0.0545, 0.1156, 0.0752, 0.0755,\n",
      "         0.0804]])\n",
      "Chosen arm: 2\n",
      "True label: 2\n",
      "Average regret: 0.20452075635731362\n"
     ]
    },
    {
     "name": "stderr",
     "output_type": "stream",
     "text": [
      " 47%|████▋     | 4726/10000 [08:18<01:22, 64.18it/s] "
     ]
    },
    {
     "name": "stdout",
     "output_type": "stream",
     "text": [
      "Step 4700:\n",
      "UCB Scores: tensor([[0.2322, 0.0650, 0.0990, 0.1245, 0.1049, 0.0767, 0.1117, 0.0792, 0.0764,\n",
      "         0.0303]])\n",
      "Chosen arm: 0\n",
      "True label: 0\n",
      "Average regret: 0.20442459051265688\n"
     ]
    },
    {
     "name": "stderr",
     "output_type": "stream",
     "text": [
      " 48%|████▊     | 4820/10000 [08:20<01:34, 55.01it/s] "
     ]
    },
    {
     "name": "stdout",
     "output_type": "stream",
     "text": [
      "Step 4800:\n",
      "UCB Scores: tensor([[0.1061, 0.0862, 0.0702, 0.0994, 0.1031, 0.1663, 0.1245, 0.0947, 0.0887,\n",
      "         0.0608]])\n",
      "Chosen arm: 5\n",
      "True label: 5\n",
      "Average regret: 0.20391585086440325\n"
     ]
    },
    {
     "name": "stderr",
     "output_type": "stream",
     "text": [
      " 49%|████▉     | 4925/10000 [08:21<01:20, 62.67it/s] "
     ]
    },
    {
     "name": "stdout",
     "output_type": "stream",
     "text": [
      "Step 4900:\n",
      "UCB Scores: tensor([[0.0669, 0.0530, 0.0885, 0.0381, 0.1705, 0.0644, 0.2323, 0.0935, 0.0675,\n",
      "         0.1252]])\n",
      "Chosen arm: 6\n",
      "True label: 6\n",
      "Average regret: 0.20261171189553154\n"
     ]
    },
    {
     "name": "stderr",
     "output_type": "stream",
     "text": [
      " 50%|█████     | 5028/10000 [08:22<01:12, 68.13it/s] "
     ]
    },
    {
     "name": "stdout",
     "output_type": "stream",
     "text": [
      "Step 5000:\n",
      "UCB Scores: tensor([[0.0587, 0.2325, 0.0822, 0.1156, 0.0836, 0.0695, 0.0826, 0.0694, 0.1413,\n",
      "         0.0645]])\n",
      "Chosen arm: 1\n",
      "True label: 1\n",
      "Average regret: 0.20235952809438112\n"
     ]
    },
    {
     "name": "stderr",
     "output_type": "stream",
     "text": [
      " 51%|█████     | 5121/10000 [08:24<01:17, 62.93it/s] "
     ]
    },
    {
     "name": "stdout",
     "output_type": "stream",
     "text": [
      "Step 5100:\n",
      "UCB Scores: tensor([[0.0664, 0.1316, 0.1039, 0.0739, 0.0901, 0.0581, 0.1072, 0.0807, 0.1803,\n",
      "         0.1076]])\n",
      "Chosen arm: 8\n",
      "True label: 8\n",
      "Average regret: 0.20133307194667713\n"
     ]
    },
    {
     "name": "stderr",
     "output_type": "stream",
     "text": [
      " 52%|█████▏    | 5218/10000 [08:25<01:25, 55.83it/s] "
     ]
    },
    {
     "name": "stdout",
     "output_type": "stream",
     "text": [
      "Step 5200:\n",
      "UCB Scores: tensor([[0.0713, 0.1365, 0.0700, 0.1179, 0.1034, 0.0614, 0.0570, 0.1668, 0.1135,\n",
      "         0.1022]])\n",
      "Chosen arm: 7\n",
      "True label: 7\n",
      "Average regret: 0.20015381657373582\n"
     ]
    },
    {
     "name": "stderr",
     "output_type": "stream",
     "text": [
      " 53%|█████▎    | 5325/10000 [08:26<01:18, 59.54it/s] "
     ]
    },
    {
     "name": "stdout",
     "output_type": "stream",
     "text": [
      "Step 5300:\n",
      "UCB Scores: tensor([[0.0707, 0.0923, 0.1090, 0.2080, 0.0951, 0.1614, 0.0691, 0.1043, 0.0667,\n",
      "         0.0234]])\n",
      "Chosen arm: 3\n",
      "True label: 3\n",
      "Average regret: 0.19920769666100735\n"
     ]
    },
    {
     "name": "stderr",
     "output_type": "stream",
     "text": [
      " 54%|█████▍    | 5426/10000 [08:28<01:15, 60.33it/s] "
     ]
    },
    {
     "name": "stdout",
     "output_type": "stream",
     "text": [
      "Step 5400:\n",
      "UCB Scores: tensor([[0.0687, 0.1353, 0.2370, 0.0618, 0.0779, 0.0377, 0.1412, 0.0508, 0.0637,\n",
      "         0.1260]])\n",
      "Chosen arm: 2\n",
      "True label: 2\n",
      "Average regret: 0.19866691353453064\n"
     ]
    },
    {
     "name": "stderr",
     "output_type": "stream",
     "text": [
      " 55%|█████▌    | 5519/10000 [08:29<01:22, 54.26it/s] "
     ]
    },
    {
     "name": "stdout",
     "output_type": "stream",
     "text": [
      "Step 5500:\n",
      "UCB Scores: tensor([[0.1029, 0.0452, 0.1031, 0.0608, 0.0858, 0.1792, 0.1097, 0.0928, 0.1589,\n",
      "         0.0616]])\n",
      "Chosen arm: 5\n",
      "True label: 5\n",
      "Average regret: 0.19869114706417015\n"
     ]
    },
    {
     "name": "stderr",
     "output_type": "stream",
     "text": [
      " 56%|█████▋    | 5629/10000 [08:31<01:15, 57.74it/s] "
     ]
    },
    {
     "name": "stdout",
     "output_type": "stream",
     "text": [
      "Step 5600:\n",
      "UCB Scores: tensor([[0.0566, 0.0817, 0.0780, 0.1033, 0.1234, 0.1266, 0.1066, 0.0497, 0.1419,\n",
      "         0.1324]])\n",
      "Chosen arm: 8\n",
      "True label: 8\n",
      "Average regret: 0.19710765934654526\n"
     ]
    },
    {
     "name": "stderr",
     "output_type": "stream",
     "text": [
      " 57%|█████▋    | 5735/10000 [08:32<01:09, 61.69it/s] "
     ]
    },
    {
     "name": "stdout",
     "output_type": "stream",
     "text": [
      "Step 5700:\n",
      "UCB Scores: tensor([[0.0863, 0.0832, 0.0558, 0.0985, 0.1556, 0.1005, 0.0876, 0.1754, 0.0991,\n",
      "         0.0580]])\n",
      "Chosen arm: 7\n",
      "True label: 4\n",
      "Average regret: 0.19698298544115067\n"
     ]
    },
    {
     "name": "stderr",
     "output_type": "stream",
     "text": [
      " 58%|█████▊    | 5838/10000 [08:34<00:55, 75.35it/s]"
     ]
    },
    {
     "name": "stdout",
     "output_type": "stream",
     "text": [
      "Step 5800:\n",
      "UCB Scores: tensor([[0.0986, 0.0649, 0.0668, 0.0473, 0.1765, 0.1177, 0.1293, 0.0694, 0.1051,\n",
      "         0.1245]])\n",
      "Chosen arm: 4\n",
      "True label: 4\n",
      "Average regret: 0.1963454576797104\n"
     ]
    },
    {
     "name": "stderr",
     "output_type": "stream",
     "text": [
      " 59%|█████▉    | 5921/10000 [08:35<01:08, 59.23it/s] "
     ]
    },
    {
     "name": "stdout",
     "output_type": "stream",
     "text": [
      "Step 5900:\n",
      "UCB Scores: tensor([[0.1177, 0.0816, 0.0731, 0.0852, 0.0721, 0.1648, 0.0870, 0.1386, 0.1462,\n",
      "         0.0336]])\n",
      "Chosen arm: 5\n",
      "True label: 5\n",
      "Average regret: 0.195051686154889\n"
     ]
    },
    {
     "name": "stderr",
     "output_type": "stream",
     "text": [
      " 60%|██████    | 6020/10000 [08:36<01:08, 58.36it/s] "
     ]
    },
    {
     "name": "stdout",
     "output_type": "stream",
     "text": [
      "Step 6000:\n",
      "UCB Scores: tensor([[0.0768, 0.0446, 0.0606, 0.0637, 0.2411, 0.0768, 0.1237, 0.1182, 0.0959,\n",
      "         0.0985]])\n",
      "Chosen arm: 4\n",
      "True label: 4\n",
      "Average regret: 0.1954674220963173\n"
     ]
    },
    {
     "name": "stderr",
     "output_type": "stream",
     "text": [
      " 61%|██████    | 6124/10000 [08:38<01:03, 61.50it/s] "
     ]
    },
    {
     "name": "stdout",
     "output_type": "stream",
     "text": [
      "Step 6100:\n",
      "UCB Scores: tensor([[0.0797, 0.1379, 0.1250, 0.2311, 0.0522, 0.0914, 0.1070, 0.0814, 0.0499,\n",
      "         0.0444]])\n",
      "Chosen arm: 3\n",
      "True label: 3\n",
      "Average regret: 0.19521389936076053\n"
     ]
    },
    {
     "name": "stderr",
     "output_type": "stream",
     "text": [
      " 62%|██████▏   | 6227/10000 [08:39<01:07, 56.01it/s] "
     ]
    },
    {
     "name": "stdout",
     "output_type": "stream",
     "text": [
      "Step 6200:\n",
      "UCB Scores: tensor([[0.2156, 0.0420, 0.0919, 0.0571, 0.0850, 0.1105, 0.1590, 0.0854, 0.0680,\n",
      "         0.0855]])\n",
      "Chosen arm: 0\n",
      "True label: 0\n",
      "Average regret: 0.19416223189808096\n"
     ]
    },
    {
     "name": "stderr",
     "output_type": "stream",
     "text": [
      " 63%|██████▎   | 6334/10000 [08:41<01:04, 56.42it/s] "
     ]
    },
    {
     "name": "stdout",
     "output_type": "stream",
     "text": [
      "Step 6300:\n",
      "UCB Scores: tensor([[0.0942, 0.0813, 0.0651, 0.1010, 0.0886, 0.1394, 0.0998, 0.1062, 0.1376,\n",
      "         0.0867]])\n",
      "Chosen arm: 5\n",
      "True label: 8\n",
      "Average regret: 0.19346135534042216\n"
     ]
    },
    {
     "name": "stderr",
     "output_type": "stream",
     "text": [
      " 64%|██████▍   | 6419/10000 [08:42<01:03, 56.41it/s] "
     ]
    },
    {
     "name": "stdout",
     "output_type": "stream",
     "text": [
      "Step 6400:\n",
      "UCB Scores: tensor([[0.0751, 0.0649, 0.1312, 0.2904, 0.0953, 0.0807, 0.0702, 0.0652, 0.0650,\n",
      "         0.0620]])\n",
      "Chosen arm: 3\n",
      "True label: 3\n",
      "Average regret: 0.192001249804718\n"
     ]
    },
    {
     "name": "stderr",
     "output_type": "stream",
     "text": [
      " 65%|██████▌   | 6525/10000 [08:43<00:54, 63.37it/s] "
     ]
    },
    {
     "name": "stdout",
     "output_type": "stream",
     "text": [
      "Step 6500:\n",
      "UCB Scores: tensor([[0.1057, 0.1142, 0.0997, 0.1516, 0.0980, 0.0885, 0.1181, 0.0724, 0.0749,\n",
      "         0.0767]])\n",
      "Chosen arm: 3\n",
      "True label: 8\n",
      "Average regret: 0.19243193354868482\n"
     ]
    },
    {
     "name": "stderr",
     "output_type": "stream",
     "text": [
      " 66%|██████▌   | 6616/10000 [08:45<00:59, 56.67it/s] "
     ]
    },
    {
     "name": "stdout",
     "output_type": "stream",
     "text": [
      "Step 6600:\n",
      "UCB Scores: tensor([[0.0678, 0.2077, 0.1091, 0.1475, 0.0566, 0.0681, 0.1238, 0.0918, 0.0732,\n",
      "         0.0545]])\n",
      "Chosen arm: 1\n",
      "True label: 8\n",
      "Average regret: 0.1920921072564763\n"
     ]
    },
    {
     "name": "stderr",
     "output_type": "stream",
     "text": [
      " 67%|██████▋   | 6717/10000 [08:46<00:54, 59.80it/s] "
     ]
    },
    {
     "name": "stdout",
     "output_type": "stream",
     "text": [
      "Step 6700:\n",
      "UCB Scores: tensor([[0.0684, 0.2340, 0.1108, 0.0968, 0.0777, 0.0674, 0.0783, 0.0848, 0.1269,\n",
      "         0.0549]])\n",
      "Chosen arm: 1\n",
      "True label: 1\n",
      "Average regret: 0.19131472914490374\n"
     ]
    },
    {
     "name": "stderr",
     "output_type": "stream",
     "text": [
      " 68%|██████▊   | 6818/10000 [08:47<00:59, 53.34it/s] "
     ]
    },
    {
     "name": "stdout",
     "output_type": "stream",
     "text": [
      "Step 6800:\n",
      "UCB Scores: tensor([[0.0787, 0.0886, 0.1161, 0.2753, 0.0496, 0.1527, 0.0696, 0.1112, 0.0366,\n",
      "         0.0216]])\n",
      "Chosen arm: 3\n",
      "True label: 3\n",
      "Average regret: 0.190854286134392\n"
     ]
    },
    {
     "name": "stderr",
     "output_type": "stream",
     "text": [
      " 69%|██████▉   | 6933/10000 [08:49<00:48, 62.93it/s] "
     ]
    },
    {
     "name": "stdout",
     "output_type": "stream",
     "text": [
      "Step 6900:\n",
      "UCB Scores: tensor([[0.1098, 0.0968, 0.1319, 0.1219, 0.0838, 0.0910, 0.1118, 0.0678, 0.1130,\n",
      "         0.0723]])\n",
      "Chosen arm: 2\n",
      "True label: 8\n",
      "Average regret: 0.19084190697000436\n"
     ]
    },
    {
     "name": "stderr",
     "output_type": "stream",
     "text": [
      " 70%|███████   | 7024/10000 [08:50<00:56, 52.66it/s] "
     ]
    },
    {
     "name": "stdout",
     "output_type": "stream",
     "text": [
      "Step 7000:\n",
      "UCB Scores: tensor([[0.2582, 0.0694, 0.1154, 0.0538, 0.0974, 0.0901, 0.1254, 0.0522, 0.0771,\n",
      "         0.0610]])\n",
      "Chosen arm: 0\n",
      "True label: 0\n",
      "Average regret: 0.19040137123268105\n"
     ]
    },
    {
     "name": "stderr",
     "output_type": "stream",
     "text": [
      " 71%|███████   | 7115/10000 [08:52<01:01, 47.10it/s] "
     ]
    },
    {
     "name": "stdout",
     "output_type": "stream",
     "text": [
      "Step 7100:\n",
      "UCB Scores: tensor([[0.1152, 0.2410, 0.1223, 0.0676, 0.0593, 0.0927, 0.0863, 0.0629, 0.1087,\n",
      "         0.0440]])\n",
      "Chosen arm: 1\n",
      "True label: 8\n",
      "Average regret: 0.19067736938459373\n"
     ]
    },
    {
     "name": "stderr",
     "output_type": "stream",
     "text": [
      " 72%|███████▏  | 7216/10000 [08:53<01:02, 44.83it/s] "
     ]
    },
    {
     "name": "stdout",
     "output_type": "stream",
     "text": [
      "Step 7200:\n",
      "UCB Scores: tensor([[0.0856, 0.1104, 0.1223, 0.1229, 0.0962, 0.0389, 0.1514, 0.1029, 0.0802,\n",
      "         0.0894]])\n",
      "Chosen arm: 6\n",
      "True label: 3\n",
      "Average regret: 0.19080683238439106\n"
     ]
    },
    {
     "name": "stderr",
     "output_type": "stream",
     "text": [
      " 73%|███████▎  | 7325/10000 [08:55<00:51, 51.74it/s]"
     ]
    },
    {
     "name": "stdout",
     "output_type": "stream",
     "text": [
      "Step 7300:\n",
      "UCB Scores: tensor([[0.0909, 0.1393, 0.2058, 0.0658, 0.0808, 0.0488, 0.1070, 0.0583, 0.0880,\n",
      "         0.1154]])\n",
      "Chosen arm: 2\n",
      "True label: 2\n",
      "Average regret: 0.19093274893850157\n"
     ]
    },
    {
     "name": "stderr",
     "output_type": "stream",
     "text": [
      " 74%|███████▍  | 7434/10000 [08:57<00:36, 69.49it/s] "
     ]
    },
    {
     "name": "stdout",
     "output_type": "stream",
     "text": [
      "Step 7400:\n",
      "UCB Scores: tensor([[0.0871, 0.0461, 0.1032, 0.0984, 0.1087, 0.0634, 0.1113, 0.0731, 0.1759,\n",
      "         0.1329]])\n",
      "Chosen arm: 8\n",
      "True label: 8\n",
      "Average regret: 0.19051479529793272\n"
     ]
    },
    {
     "name": "stderr",
     "output_type": "stream",
     "text": [
      " 75%|███████▌  | 7518/10000 [08:58<00:51, 48.38it/s] "
     ]
    },
    {
     "name": "stdout",
     "output_type": "stream",
     "text": [
      "Step 7500:\n",
      "UCB Scores: tensor([[0.1043, 0.0787, 0.0763, 0.0650, 0.1129, 0.0503, 0.0814, 0.0652, 0.1206,\n",
      "         0.2452]])\n",
      "Chosen arm: 9\n",
      "True label: 9\n",
      "Average regret: 0.18904146113851486\n"
     ]
    },
    {
     "name": "stderr",
     "output_type": "stream",
     "text": [
      " 76%|███████▋  | 7625/10000 [09:00<00:42, 55.84it/s] "
     ]
    },
    {
     "name": "stdout",
     "output_type": "stream",
     "text": [
      "Step 7600:\n",
      "UCB Scores: tensor([[0.2242, 0.0393, 0.1080, 0.0536, 0.0946, 0.1573, 0.1476, 0.0368, 0.0823,\n",
      "         0.0564]])\n",
      "Chosen arm: 0\n",
      "True label: 0\n",
      "Average regret: 0.18852782528614656\n"
     ]
    },
    {
     "name": "stderr",
     "output_type": "stream",
     "text": [
      " 77%|███████▋  | 7730/10000 [09:01<00:33, 68.53it/s] "
     ]
    },
    {
     "name": "stdout",
     "output_type": "stream",
     "text": [
      "Step 7700:\n",
      "UCB Scores: tensor([[0.0815, 0.0642, 0.0524, 0.1265, 0.0420, 0.2410, 0.0578, 0.1184, 0.1789,\n",
      "         0.0373]])\n",
      "Chosen arm: 5\n",
      "True label: 5\n",
      "Average regret: 0.18776782236073236\n"
     ]
    },
    {
     "name": "stderr",
     "output_type": "stream",
     "text": [
      " 78%|███████▊  | 7838/10000 [09:02<00:25, 84.94it/s] "
     ]
    },
    {
     "name": "stdout",
     "output_type": "stream",
     "text": [
      "Step 7800:\n",
      "UCB Scores: tensor([[0.0831, 0.1270, 0.1100, 0.2263, 0.0857, 0.1243, 0.0677, 0.1096, 0.0500,\n",
      "         0.0162]])\n",
      "Chosen arm: 3\n",
      "True label: 3\n",
      "Average regret: 0.18741187027304193\n"
     ]
    },
    {
     "name": "stderr",
     "output_type": "stream",
     "text": [
      " 79%|███████▉  | 7925/10000 [09:03<00:29, 70.84it/s] "
     ]
    },
    {
     "name": "stdout",
     "output_type": "stream",
     "text": [
      "Step 7900:\n",
      "UCB Scores: tensor([[0.0624, 0.1181, 0.1598, 0.1312, 0.0771, 0.0824, 0.1789, 0.0417, 0.0851,\n",
      "         0.0632]])\n",
      "Chosen arm: 6\n",
      "True label: 2\n",
      "Average regret: 0.18719149474750033\n"
     ]
    },
    {
     "name": "stderr",
     "output_type": "stream",
     "text": [
      " 80%|████████  | 8032/10000 [09:05<00:32, 59.66it/s] "
     ]
    },
    {
     "name": "stdout",
     "output_type": "stream",
     "text": [
      "Step 8000:\n",
      "UCB Scores: tensor([[0.2364, 0.0514, 0.0966, 0.0525, 0.1170, 0.1289, 0.0623, 0.0928, 0.0907,\n",
      "         0.0713]])\n",
      "Chosen arm: 0\n",
      "True label: 0\n",
      "Average regret: 0.18635170603674542\n"
     ]
    },
    {
     "name": "stderr",
     "output_type": "stream",
     "text": [
      " 81%|████████▏ | 8141/10000 [09:06<00:23, 77.97it/s] "
     ]
    },
    {
     "name": "stdout",
     "output_type": "stream",
     "text": [
      "Step 8100:\n",
      "UCB Scores: tensor([[0.0620, 0.2066, 0.0718, 0.0988, 0.0612, 0.0806, 0.1102, 0.0583, 0.1928,\n",
      "         0.0576]])\n",
      "Chosen arm: 1\n",
      "True label: 1\n",
      "Average regret: 0.18639674114306876\n"
     ]
    },
    {
     "name": "stderr",
     "output_type": "stream",
     "text": [
      " 82%|████████▏ | 8225/10000 [09:08<00:31, 57.16it/s] "
     ]
    },
    {
     "name": "stdout",
     "output_type": "stream",
     "text": [
      "Step 8200:\n",
      "UCB Scores: tensor([[0.0723, 0.1002, 0.0763, 0.0958, 0.2126, 0.0880, 0.1091, 0.0844, 0.0547,\n",
      "         0.1065]])\n",
      "Chosen arm: 4\n",
      "True label: 4\n",
      "Average regret: 0.1869284233630045\n"
     ]
    },
    {
     "name": "stderr",
     "output_type": "stream",
     "text": [
      " 83%|████████▎ | 8344/10000 [09:09<00:21, 77.17it/s] "
     ]
    },
    {
     "name": "stdout",
     "output_type": "stream",
     "text": [
      "Step 8300:\n",
      "UCB Scores: tensor([[0.0522, 0.2246, 0.0795, 0.1274, 0.1018, 0.0729, 0.1133, 0.1129, 0.0586,\n",
      "         0.0569]])\n",
      "Chosen arm: 1\n",
      "True label: 1\n",
      "Average regret: 0.1863630887844838\n"
     ]
    },
    {
     "name": "stderr",
     "output_type": "stream",
     "text": [
      " 84%|████████▍ | 8424/10000 [09:10<00:26, 59.53it/s] "
     ]
    },
    {
     "name": "stdout",
     "output_type": "stream",
     "text": [
      "Step 8400:\n",
      "UCB Scores: tensor([[0.0609, 0.0795, 0.0382, 0.1196, 0.1069, 0.1116, 0.1017, 0.1406, 0.0831,\n",
      "         0.1579]])\n",
      "Chosen arm: 9\n",
      "True label: 4\n",
      "Average regret: 0.18628734674443517\n"
     ]
    },
    {
     "name": "stderr",
     "output_type": "stream",
     "text": [
      " 85%|████████▌ | 8529/10000 [09:12<00:25, 57.80it/s] "
     ]
    },
    {
     "name": "stdout",
     "output_type": "stream",
     "text": [
      "Step 8500:\n",
      "UCB Scores: tensor([[0.0971, 0.0578, 0.1009, 0.0973, 0.1279, 0.0753, 0.0738, 0.2007, 0.0674,\n",
      "         0.1018]])\n",
      "Chosen arm: 7\n",
      "True label: 7\n",
      "Average regret: 0.18574285378190802\n"
     ]
    },
    {
     "name": "stderr",
     "output_type": "stream",
     "text": [
      " 86%|████████▋ | 8633/10000 [09:13<00:22, 61.39it/s] "
     ]
    },
    {
     "name": "stdout",
     "output_type": "stream",
     "text": [
      "Step 8600:\n",
      "UCB Scores: tensor([[0.0634, 0.2293, 0.1074, 0.0873, 0.0822, 0.0680, 0.0839, 0.0993, 0.1160,\n",
      "         0.0631]])\n",
      "Chosen arm: 1\n",
      "True label: 1\n",
      "Average regret: 0.1861411463783281\n"
     ]
    },
    {
     "name": "stderr",
     "output_type": "stream",
     "text": [
      " 87%|████████▋ | 8729/10000 [09:15<00:21, 58.84it/s] "
     ]
    },
    {
     "name": "stdout",
     "output_type": "stream",
     "text": [
      "Step 8700:\n",
      "UCB Scores: tensor([[0.0649, 0.0967, 0.1151, 0.0931, 0.1047, 0.0780, 0.1014, 0.1019, 0.1635,\n",
      "         0.0807]])\n",
      "Chosen arm: 8\n",
      "True label: 8\n",
      "Average regret: 0.18584070796460178\n"
     ]
    },
    {
     "name": "stderr",
     "output_type": "stream",
     "text": [
      " 88%|████████▊ | 8835/10000 [09:16<00:15, 73.09it/s] "
     ]
    },
    {
     "name": "stdout",
     "output_type": "stream",
     "text": [
      "Step 8800:\n",
      "UCB Scores: tensor([[0.0835, 0.0485, 0.1293, 0.0779, 0.1283, 0.1406, 0.1383, 0.1177, 0.0655,\n",
      "         0.0705]])\n",
      "Chosen arm: 5\n",
      "True label: 6\n",
      "Average regret: 0.1853198500170435\n"
     ]
    },
    {
     "name": "stderr",
     "output_type": "stream",
     "text": [
      " 89%|████████▉ | 8933/10000 [09:17<00:17, 61.58it/s] "
     ]
    },
    {
     "name": "stdout",
     "output_type": "stream",
     "text": [
      "Step 8900:\n",
      "UCB Scores: tensor([[0.1522, 0.1042, 0.0736, 0.0596, 0.0815, 0.1187, 0.1157, 0.0973, 0.0592,\n",
      "         0.1381]])\n",
      "Chosen arm: 0\n",
      "True label: 6\n",
      "Average regret: 0.18503538928210314\n"
     ]
    },
    {
     "name": "stderr",
     "output_type": "stream",
     "text": [
      " 90%|█████████ | 9019/10000 [09:19<00:17, 55.39it/s] "
     ]
    },
    {
     "name": "stdout",
     "output_type": "stream",
     "text": [
      "Step 9000:\n",
      "UCB Scores: tensor([[0.0962, 0.0730, 0.2071, 0.0847, 0.1270, 0.0548, 0.1168, 0.0512, 0.0777,\n",
      "         0.1115]])\n",
      "Chosen arm: 2\n",
      "True label: 2\n",
      "Average regret: 0.18453505166092657\n"
     ]
    },
    {
     "name": "stderr",
     "output_type": "stream",
     "text": [
      " 91%|█████████ | 9119/10000 [09:20<00:15, 55.85it/s] "
     ]
    },
    {
     "name": "stdout",
     "output_type": "stream",
     "text": [
      "Step 9100:\n",
      "UCB Scores: tensor([[0.1013, 0.0356, 0.0800, 0.2105, 0.0586, 0.1754, 0.1235, 0.0794, 0.0859,\n",
      "         0.0498]])\n",
      "Chosen arm: 3\n",
      "True label: 3\n",
      "Average regret: 0.18360619712119547\n"
     ]
    },
    {
     "name": "stderr",
     "output_type": "stream",
     "text": [
      " 92%|█████████▏| 9220/10000 [09:22<00:13, 58.66it/s] "
     ]
    },
    {
     "name": "stdout",
     "output_type": "stream",
     "text": [
      "Step 9200:\n",
      "UCB Scores: tensor([[0.0453, 0.2015, 0.1286, 0.0808, 0.1049, 0.0737, 0.1122, 0.1010, 0.0901,\n",
      "         0.0618]])\n",
      "Chosen arm: 1\n",
      "True label: 1\n",
      "Average regret: 0.18421910661884577\n"
     ]
    },
    {
     "name": "stderr",
     "output_type": "stream",
     "text": [
      " 93%|█████████▎| 9323/10000 [09:23<00:10, 61.60it/s] "
     ]
    },
    {
     "name": "stdout",
     "output_type": "stream",
     "text": [
      "Step 9300:\n",
      "UCB Scores: tensor([[0.1592, 0.0441, 0.0312, 0.2075, 0.1051, 0.1529, 0.0561, 0.0540, 0.0514,\n",
      "         0.1385]])\n",
      "Chosen arm: 3\n",
      "True label: 5\n",
      "Average regret: 0.1841737447586281\n"
     ]
    },
    {
     "name": "stderr",
     "output_type": "stream",
     "text": [
      " 94%|█████████▍| 9423/10000 [09:24<00:09, 58.69it/s] "
     ]
    },
    {
     "name": "stdout",
     "output_type": "stream",
     "text": [
      "Step 9400:\n",
      "UCB Scores: tensor([[0.1034, 0.0363, 0.0712, 0.1114, 0.0714, 0.2013, 0.1027, 0.1087, 0.0946,\n",
      "         0.0991]])\n",
      "Chosen arm: 5\n",
      "True label: 5\n",
      "Average regret: 0.18381023295394108\n"
     ]
    },
    {
     "name": "stderr",
     "output_type": "stream",
     "text": [
      " 95%|█████████▌| 9531/10000 [09:26<00:07, 65.63it/s] "
     ]
    },
    {
     "name": "stdout",
     "output_type": "stream",
     "text": [
      "Step 9500:\n",
      "UCB Scores: tensor([[0.2519, 0.0658, 0.0957, 0.0882, 0.0736, 0.0728, 0.1343, 0.0465, 0.0731,\n",
      "         0.0981]])\n",
      "Chosen arm: 0\n",
      "True label: 0\n",
      "Average regret: 0.1831386169876855\n"
     ]
    },
    {
     "name": "stderr",
     "output_type": "stream",
     "text": [
      " 96%|█████████▋| 9631/10000 [09:27<00:06, 59.40it/s] "
     ]
    },
    {
     "name": "stdout",
     "output_type": "stream",
     "text": [
      "Step 9600:\n",
      "UCB Scores: tensor([[0.1096, 0.0597, 0.0545, 0.1184, 0.0876, 0.2469, 0.1019, 0.0688, 0.0995,\n",
      "         0.0530]])\n",
      "Chosen arm: 5\n",
      "True label: 5\n",
      "Average regret: 0.18237683574627642\n"
     ]
    },
    {
     "name": "stderr",
     "output_type": "stream",
     "text": [
      " 97%|█████████▋| 9729/10000 [09:29<00:04, 57.73it/s] "
     ]
    },
    {
     "name": "stdout",
     "output_type": "stream",
     "text": [
      "Step 9700:\n",
      "UCB Scores: tensor([[0.2649, 0.0511, 0.0974, 0.0760, 0.0789, 0.0881, 0.1116, 0.0717, 0.0838,\n",
      "         0.0766]])\n",
      "Chosen arm: 0\n",
      "True label: 0\n",
      "Average regret: 0.1819400061849294\n"
     ]
    },
    {
     "name": "stderr",
     "output_type": "stream",
     "text": [
      " 98%|█████████▊| 9814/10000 [09:30<00:03, 59.00it/s] "
     ]
    },
    {
     "name": "stdout",
     "output_type": "stream",
     "text": [
      "Step 9800:\n",
      "UCB Scores: tensor([[0.2200, 0.0985, 0.1159, 0.0733, 0.0870, 0.0606, 0.1491, 0.1092, 0.0542,\n",
      "         0.0324]])\n",
      "Chosen arm: 0\n",
      "True label: 0\n",
      "Average regret: 0.18181818181818182\n"
     ]
    },
    {
     "name": "stderr",
     "output_type": "stream",
     "text": [
      " 99%|█████████▉| 9934/10000 [09:31<00:00, 69.24it/s] "
     ]
    },
    {
     "name": "stdout",
     "output_type": "stream",
     "text": [
      "Step 9900:\n",
      "UCB Scores: tensor([[0.1010, 0.0494, 0.0772, 0.0859, 0.0878, 0.2174, 0.1413, 0.0910, 0.0894,\n",
      "         0.0596]])\n",
      "Chosen arm: 5\n",
      "True label: 5\n",
      "Average regret: 0.1812948187051813\n"
     ]
    },
    {
     "name": "stderr",
     "output_type": "stream",
     "text": [
      "100%|██████████| 10000/10000 [09:32<00:00, 17.48it/s]"
     ]
    },
    {
     "name": "stdout",
     "output_type": "stream",
     "text": [
      "Total regret: 1811.0\n",
      "Average regret: 0.1811\n"
     ]
    },
    {
     "name": "stderr",
     "output_type": "stream",
     "text": [
      "\n"
     ]
    }
   ],
   "source": [
    "# Train the neural UCB bandit\n",
    "bandit, regret = train_neural_ucb_mnist(X_train_scaled, y_train)\n",
    "\n",
    "# Print results\n",
    "print(\"Total regret:\", sum(regret))\n",
    "print(\"Average regret:\", sum(regret) / len(regret))"
   ]
  },
  {
   "cell_type": "code",
   "execution_count": 38,
   "metadata": {},
   "outputs": [
    {
     "data": {
      "image/png": "[encoded data removed]",
      "text/plain": [
       "<Figure size 1000x600 with 1 Axes>"
      ]
     },
     "metadata": {},
     "output_type": "display_data"
    },
    {
     "data": {
      "image/png": "[encoded data removed]",
      "text/plain": [
       "<Figure size 1000x600 with 1 Axes>"
      ]
     },
     "metadata": {},
     "output_type": "display_data"
    }
   ],
   "source": [
    "import matplotlib.pyplot as plt\n",
    "\n",
    "def plot_regret(regret):\n",
    "    # Convert to numpy array if it's a list\n",
    "    regret = np.array(regret)\n",
    "    \n",
    "    # Plot cumulative regret\n",
    "    plt.figure(figsize=(10, 6))\n",
    "    cumulative_regret = np.cumsum(regret)\n",
    "    plt.plot(cumulative_regret, label='Cumulative Regret')\n",
    "    plt.xlabel('Time Step')\n",
    "    plt.ylabel('Cumulative Regret')\n",
    "    plt.title('Neural UCB Cumulative Regret Over Time')\n",
    "    plt.grid(True)\n",
    "    plt.legend()\n",
    "    plt.show()\n",
    "    \n",
    "    # Plot average regret\n",
    "    plt.figure(figsize=(10, 6))\n",
    "    steps = np.arange(1, len(cumulative_regret) + 1)  # create step array first\n",
    "    average_regret = cumulative_regret / steps\n",
    "    plt.plot(average_regret, label='Average Regret')\n",
    "    plt.xlabel('Time Step')\n",
    "    plt.ylabel('Average Regret')\n",
    "    plt.title('Neural UCB Average Regret Over Time')\n",
    "    plt.grid(True)\n",
    "    plt.legend()\n",
    "    plt.show()\n",
    "# After training:\n",
    "plot_regret(regret)"
   ]
  },
  {
   "cell_type": "code",
   "execution_count": null,
   "metadata": {},
   "outputs": [],
   "source": []
  }
 ],
 "metadata": {
  "kernelspec": {
   "display_name": "neural_bandits",
   "language": "python",
   "name": "python3"
  },
  "language_info": {
   "codemirror_mode": {
    "name": "ipython",
    "version": 3
   },
   "file_extension": ".py",
   "mimetype": "text/x-python",
   "name": "python",
   "nbconvert_exporter": "python",
   "pygments_lexer": "ipython3",
   "version": "3.10.16"
  }
 },
 "nbformat": 4,
 "nbformat_minor": 0
}
