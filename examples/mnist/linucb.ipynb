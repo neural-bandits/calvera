{
 "cells": [
  {
   "cell_type": "code",
   "execution_count": 1,
   "metadata": {},
   "outputs": [],
   "source": [
    "import numpy as np\n",
    "from sklearn import datasets\n",
    "from sklearn.model_selection import train_test_split\n",
    "from sklearn.preprocessing import StandardScaler\n",
    "from sklearn.linear_model import LogisticRegression\n",
    "from sklearn.metrics import accuracy_score, classification_report, confusion_matrix\n",
    "\n",
    "\n",
    "def load_data():\n",
    "    mnist = datasets.fetch_openml(\"mnist_784\", version=1, as_frame=False)\n",
    "    X, y = mnist.data, mnist.target\n",
    "    y = y.astype(np.int32)  # Convert target to integers\n",
    "    return X, y\n",
    "\n",
    "\n",
    "def split_data(X, y, test_size=0.2, random_state=42):\n",
    "    return train_test_split(X, y, test_size=test_size, random_state=random_state)\n",
    "\n",
    "\n",
    "def avg_pooling(image, pool_size):\n",
    "    pooled_height = image.shape[0] // pool_size[0]\n",
    "    pooled_width = image.shape[1] // pool_size[1]\n",
    "    pooled_image = np.zeros((pooled_height, pooled_width))\n",
    "\n",
    "    for i in range(pooled_height):\n",
    "        for j in range(pooled_width):\n",
    "            start_i, end_i = i * pool_size[0], (i + 1) * pool_size[0]\n",
    "            start_j, end_j = j * pool_size[1], (j + 1) * pool_size[1]\n",
    "            pooled_image[i, j] = np.mean(image[start_i:end_i, start_j:end_j])\n",
    "\n",
    "    return pooled_image\n",
    "\n",
    "\n",
    "def preprocess_data(X_train, X_test):\n",
    "    scaler = StandardScaler()\n",
    "    X_train_scaled = scaler.fit_transform(X_train)\n",
    "    X_test_scaled = scaler.transform(X_test)\n",
    "\n",
    "    return X_train_scaled, X_test_scaled"
   ]
  },
  {
   "cell_type": "code",
   "execution_count": 2,
   "metadata": {},
   "outputs": [],
   "source": [
    "def train_model(X_train, y_train):\n",
    "    model = LogisticRegression(\n",
    "        max_iter=1000, solver=\"lbfgs\", multi_class=\"multinomial\", random_state=42\n",
    "    )\n",
    "    model.fit(X_train, y_train)\n",
    "    return model"
   ]
  },
  {
   "cell_type": "code",
   "execution_count": 3,
   "metadata": {},
   "outputs": [],
   "source": [
    "def evaluate_model(pred_func, X_test, y_test):\n",
    "    y_pred = pred_func(X_test)\n",
    "    accuracy = accuracy_score(y_test, y_pred)\n",
    "    print(\"Accuracy:\", accuracy)\n",
    "    print(\"Classification Report:\\n\", classification_report(y_test, y_pred))\n",
    "    print(\"Confusion Matrix:\\n\", confusion_matrix(y_test, y_pred))\n",
    "\n",
    "\n",
    "def predict(model, new_data):\n",
    "    predictions = model.predict(new_data)\n",
    "    return predictions"
   ]
  },
  {
   "cell_type": "code",
   "execution_count": 4,
   "metadata": {},
   "outputs": [
    {
     "name": "stderr",
     "output_type": "stream",
     "text": [
      "100%|██████████| 70000/70000 [00:17<00:00, 3900.35it/s]\n"
     ]
    }
   ],
   "source": [
    "import tqdm\n",
    "\n",
    "# Load and split the data\n",
    "X, y = load_data()\n",
    "\n",
    "pool_size = 3\n",
    "X_pooled = np.zeros((X.shape[0], (28 // pool_size) * (28 // pool_size)))\n",
    "for i in tqdm.tqdm(range(X.shape[0])):\n",
    "    image = X[i].reshape(28, 28)\n",
    "    pooled_image = avg_pooling(image, (pool_size, pool_size))\n",
    "    X_pooled[i] = pooled_image.flatten()\n",
    "\n",
    "X_train, X_test, y_train, y_test = split_data(X_pooled, y)\n",
    "\n",
    "# Preprocess the data\n",
    "X_train_scaled, X_test_scaled = preprocess_data(X_train, X_test)"
   ]
  },
  {
   "cell_type": "code",
   "execution_count": 5,
   "metadata": {},
   "outputs": [
    {
     "name": "stderr",
     "output_type": "stream",
     "text": [
      "/Users/robert/miniconda3/envs/neural_bandits/lib/python3.10/site-packages/sklearn/linear_model/_logistic.py:1247: FutureWarning: 'multi_class' was deprecated in version 1.5 and will be removed in 1.7. From then on, it will always use 'multinomial'. Leave it to its default value to avoid this warning.\n",
      "  warnings.warn(\n"
     ]
    }
   ],
   "source": [
    "# Train the model\n",
    "model = train_model(X_train_scaled, y_train)"
   ]
  },
  {
   "cell_type": "code",
   "execution_count": 6,
   "metadata": {},
   "outputs": [
    {
     "name": "stdout",
     "output_type": "stream",
     "text": [
      "Accuracy: 0.9142857142857143\n",
      "Classification Report:\n",
      "               precision    recall  f1-score   support\n",
      "\n",
      "           0       0.97      0.96      0.96      1343\n",
      "           1       0.95      0.97      0.96      1600\n",
      "           2       0.90      0.89      0.90      1380\n",
      "           3       0.89      0.88      0.88      1433\n",
      "           4       0.91      0.91      0.91      1295\n",
      "           5       0.88      0.87      0.87      1273\n",
      "           6       0.94      0.96      0.95      1396\n",
      "           7       0.93      0.94      0.93      1503\n",
      "           8       0.88      0.86      0.87      1357\n",
      "           9       0.89      0.90      0.90      1420\n",
      "\n",
      "    accuracy                           0.91     14000\n",
      "   macro avg       0.91      0.91      0.91     14000\n",
      "weighted avg       0.91      0.91      0.91     14000\n",
      "\n",
      "Confusion Matrix:\n",
      " [[1289    1    5    4    2   13   18    4    6    1]\n",
      " [   0 1549    5    8    1   11    1    5   18    2]\n",
      " [   8   17 1232   23   15    7   21   19   32    6]\n",
      " [   5   11   40 1254    3   53    6   18   27   16]\n",
      " [   1    3   12    2 1175    4   16    8   11   63]\n",
      " [   6   10   13   48   19 1105   11    3   49    9]\n",
      " [   6    6   15    0   12   16 1335    2    4    0]\n",
      " [   5    3   18    2   11    7    0 1414    0   43]\n",
      " [   5   31   17   57    9   35    9    8 1168   18]\n",
      " [   8    8    7   14   42    8    0   43   11 1279]]\n"
     ]
    }
   ],
   "source": [
    "# Evaluate the model\n",
    "evaluate_model(model.predict, X_test_scaled, y_test)"
   ]
  },
  {
   "cell_type": "code",
   "execution_count": null,
   "metadata": {},
   "outputs": [],
   "source": [
    "from neural_bandits.algorithms.linear_bandits import LinearUCBBandit\n",
    "\n",
    "\n",
    "n_samples = 10000\n",
    "n_features = X_train_scaled.shape[1]\n",
    "alpha = 0.01\n",
    "n_arms = 10  # Number of classes\n",
    "# bandit = LinearTSBandit(n_arms, n_features * n_arms)\n",
    "bandit = LinearUCBBandit(n_arms, n_features * n_arms)"
   ]
  },
  {
   "cell_type": "code",
   "execution_count": 8,
   "metadata": {},
   "outputs": [
    {
     "name": "stderr",
     "output_type": "stream",
     "text": [
      "100%|██████████| 10000/10000 [02:23<00:00, 69.90it/s]"
     ]
    },
    {
     "name": "stdout",
     "output_type": "stream",
     "text": [
      "Total regret: 2615.0\n",
      "Average regret: 0.2615\n"
     ]
    },
    {
     "name": "stderr",
     "output_type": "stream",
     "text": [
      "\n"
     ]
    }
   ],
   "source": [
    "import torch\n",
    "from neural_bandits.utils.multiclass import MultiClassContextualiser\n",
    "from neural_bandits.trainers.linear_trainer import LinearTrainer\n",
    "\n",
    "mc_contextualiser = MultiClassContextualiser(n_arms)\n",
    "trainer = LinearTrainer()\n",
    "total_regret = []\n",
    "for t in tqdm.tqdm(range(n_samples)):\n",
    "    x_tensor = torch.tensor(X_train_scaled[t], dtype=torch.float32).reshape(1, -1)\n",
    "    contextualised_actions = mc_contextualiser.contextualise(x_tensor)\n",
    "    chosen_arm = torch.argmax(bandit(contextualised_actions), dim=1).item()\n",
    "\n",
    "    reward = 1 if y_train[t] == chosen_arm else 0\n",
    "    reward = torch.tensor([reward], dtype=torch.float32)\n",
    "    total_regret.append(1 - reward.item())\n",
    "\n",
    "    bandit = trainer.update(\n",
    "        bandit, reward, contextualised_actions[0, chosen_arm].reshape(1, -1)\n",
    "    )\n",
    "\n",
    "print(\"Total regret:\", sum(total_regret))\n",
    "print(\"Average regret:\", sum(total_regret) / (n_samples))"
   ]
  },
  {
   "cell_type": "code",
   "execution_count": 9,
   "metadata": {},
   "outputs": [
    {
     "data": {
      "image/png": "[encoded data removed]",
      "text/plain": [
       "<Figure size 640x480 with 1 Axes>"
      ]
     },
     "metadata": {},
     "output_type": "display_data"
    }
   ],
   "source": [
    "# plot the regret over time\n",
    "import matplotlib.pyplot as plt\n",
    "\n",
    "plt.plot(np.cumsum(np.array(total_regret)))\n",
    "plt.xlabel(\"Time\")\n",
    "plt.ylabel(\"Cumulative Reward\")\n",
    "plt.show()"
   ]
  },
  {
   "cell_type": "code",
   "execution_count": null,
   "metadata": {},
   "outputs": [],
   "source": [
    "from neural_bandits.algorithms.linear_bandits import LinearUCBBandit\n",
    "\n",
    "\n",
    "n_samples = 10000\n",
    "n_features = X_train_scaled.shape[1]\n",
    "alpha = 0.01\n",
    "n_arms = 10  # Number of classes\n",
    "# bandit = LinearTSBandit(n_arms, n_features * n_arms)\n",
    "bandit = LinearUCBBandit(n_arms, n_features * n_arms)"
   ]
  },
  {
   "cell_type": "code",
   "execution_count": 11,
   "metadata": {},
   "outputs": [
    {
     "name": "stderr",
     "output_type": "stream",
     "text": [
      "100%|██████████| 10000/10000 [01:32<00:00, 108.34it/s]\n"
     ]
    }
   ],
   "source": [
    "batch = 100\n",
    "buffer_reward = []\n",
    "buffer_contextualised_actions = []\n",
    "total_regret_batch = []\n",
    "for t in tqdm.tqdm(range(n_samples)):\n",
    "    # for t in tqdm.tqdm(range(1)):\n",
    "    contextualised_actions = mc_contextualiser.contextualise(\n",
    "        torch.tensor(X_train_scaled[t], dtype=torch.float32).reshape(1, -1)\n",
    "    )\n",
    "    chosen_arm = torch.argmax(bandit(contextualised_actions), dim=1).item()\n",
    "    reward = 1 if y_train[t] == chosen_arm else 0\n",
    "    reward = torch.tensor([reward], dtype=torch.float32)\n",
    "    total_regret_batch.append(1 - reward.item())\n",
    "    buffer_reward.append(reward)\n",
    "    buffer_contextualised_actions.append(contextualised_actions[:, chosen_arm])\n",
    "\n",
    "    if t % batch == batch - 1:\n",
    "        bandit = trainer.update(\n",
    "            bandit,\n",
    "            torch.cat(buffer_reward, dim=0),\n",
    "            torch.cat(buffer_contextualised_actions, dim=0),\n",
    "        )\n",
    "        buffer_reward = []\n",
    "        buffer_contextualised_actions = []"
   ]
  },
  {
   "cell_type": "code",
   "execution_count": 12,
   "metadata": {},
   "outputs": [
    {
     "name": "stdout",
     "output_type": "stream",
     "text": [
      "Total regret: 2802.0\n",
      "Average regret: 0.2802\n"
     ]
    },
    {
     "data": {
      "image/png": "[encoded data removed]",
      "text/plain": [
       "<Figure size 640x480 with 1 Axes>"
      ]
     },
     "metadata": {},
     "output_type": "display_data"
    }
   ],
   "source": [
    "# plot the regret over time\n",
    "print(\"Total regret:\", sum(total_regret_batch))\n",
    "print(\"Average regret:\", sum(total_regret_batch) / (n_samples))\n",
    "plt.plot(np.cumsum(np.array(total_regret_batch)))\n",
    "plt.xlabel(\"Time\")\n",
    "plt.ylabel(\"Cumulative Regret\")\n",
    "plt.show()"
   ]
  }
 ],
 "metadata": {
  "kernelspec": {
   "display_name": "neural_bandits",
   "language": "python",
   "name": "python3"
  },
  "language_info": {
   "codemirror_mode": {
    "name": "ipython",
    "version": 3
   },
   "file_extension": ".py",
   "mimetype": "text/x-python",
   "name": "python",
   "nbconvert_exporter": "python",
   "pygments_lexer": "ipython3",
   "version": "3.10.15"
  }
 },
 "nbformat": 4,
 "nbformat_minor": 2
}
