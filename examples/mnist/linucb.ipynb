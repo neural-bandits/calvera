{
 "cells": [
  {
   "cell_type": "code",
   "execution_count": 1,
   "metadata": {},
   "outputs": [],
   "source": [
    "import numpy as np\n",
    "from sklearn import datasets\n",
    "from sklearn.model_selection import train_test_split\n",
    "from sklearn.preprocessing import StandardScaler\n",
    "from sklearn.linear_model import LogisticRegression\n",
    "from sklearn.metrics import accuracy_score, classification_report, confusion_matrix\n",
    "\n",
    "\n",
    "def load_data():\n",
    "    mnist = datasets.fetch_openml(\"mnist_784\", version=1, as_frame=False)\n",
    "    X, y = mnist.data, mnist.target\n",
    "    y = y.astype(np.int32)  # Convert target to integers\n",
    "    return X, y\n",
    "\n",
    "\n",
    "def split_data(X, y, test_size=0.2, random_state=42):\n",
    "    return train_test_split(X, y, test_size=test_size, random_state=random_state)\n",
    "\n",
    "\n",
    "def avg_pooling(image, pool_size):\n",
    "    pooled_height = image.shape[0] // pool_size[0]\n",
    "    pooled_width = image.shape[1] // pool_size[1]\n",
    "    pooled_image = np.zeros((pooled_height, pooled_width))\n",
    "\n",
    "    for i in range(pooled_height):\n",
    "        for j in range(pooled_width):\n",
    "            start_i, end_i = i * pool_size[0], (i + 1) * pool_size[0]\n",
    "            start_j, end_j = j * pool_size[1], (j + 1) * pool_size[1]\n",
    "            pooled_image[i, j] = np.mean(image[start_i:end_i, start_j:end_j])\n",
    "\n",
    "    return pooled_image\n",
    "\n",
    "\n",
    "def preprocess_data(X_train, X_test):\n",
    "    scaler = StandardScaler()\n",
    "    X_train_scaled = scaler.fit_transform(X_train)\n",
    "    X_test_scaled = scaler.transform(X_test)\n",
    "\n",
    "    return X_train_scaled, X_test_scaled"
   ]
  },
  {
   "cell_type": "code",
   "execution_count": 2,
   "metadata": {},
   "outputs": [],
   "source": [
    "def train_model(X_train, y_train):\n",
    "    model = LogisticRegression(\n",
    "        max_iter=1000, solver=\"lbfgs\", multi_class=\"multinomial\", random_state=42\n",
    "    )\n",
    "    model.fit(X_train, y_train)\n",
    "    return model"
   ]
  },
  {
   "cell_type": "code",
   "execution_count": 3,
   "metadata": {},
   "outputs": [],
   "source": [
    "def evaluate_model(pred_func, X_test, y_test):\n",
    "    y_pred = pred_func(X_test)\n",
    "    accuracy = accuracy_score(y_test, y_pred)\n",
    "    print(\"Accuracy:\", accuracy)\n",
    "    print(\"Classification Report:\\n\", classification_report(y_test, y_pred))\n",
    "    print(\"Confusion Matrix:\\n\", confusion_matrix(y_test, y_pred))\n",
    "\n",
    "\n",
    "def predict(model, new_data):\n",
    "    predictions = model.predict(new_data)\n",
    "    return predictions"
   ]
  },
  {
   "cell_type": "code",
   "execution_count": 4,
   "metadata": {},
   "outputs": [
    {
     "name": "stderr",
     "output_type": "stream",
     "text": [
      "100%|██████████| 70000/70000 [00:03<00:00, 17592.78it/s]\n"
     ]
    }
   ],
   "source": [
    "import tqdm\n",
    "\n",
    "# Load and split the data\n",
    "X, y = load_data()\n",
    "\n",
    "pool_size = 7\n",
    "X_pooled = np.zeros((X.shape[0], (28 // pool_size) * (28 // pool_size)))\n",
    "for i in tqdm.tqdm(range(X.shape[0])):\n",
    "    image = X[i].reshape(28, 28)\n",
    "    pooled_image = avg_pooling(image, (pool_size, pool_size))\n",
    "    X_pooled[i] = pooled_image.flatten()\n",
    "\n",
    "X_train, X_test, y_train, y_test = split_data(X_pooled, y)\n",
    "\n",
    "# Preprocess the data\n",
    "X_train_scaled, X_test_scaled = preprocess_data(X_train, X_test)"
   ]
  },
  {
   "cell_type": "code",
   "execution_count": 5,
   "metadata": {},
   "outputs": [
    {
     "name": "stderr",
     "output_type": "stream",
     "text": [
      "/Users/robert/miniconda3/envs/neural_bandits/lib/python3.10/site-packages/sklearn/linear_model/_logistic.py:1247: FutureWarning: 'multi_class' was deprecated in version 1.5 and will be removed in 1.7. From then on, it will always use 'multinomial'. Leave it to its default value to avoid this warning.\n",
      "  warnings.warn(\n"
     ]
    }
   ],
   "source": [
    "# Train the model\n",
    "model = train_model(X_train_scaled, y_train)"
   ]
  },
  {
   "cell_type": "code",
   "execution_count": 6,
   "metadata": {},
   "outputs": [
    {
     "name": "stdout",
     "output_type": "stream",
     "text": [
      "Accuracy: 0.7457142857142857\n",
      "Classification Report:\n",
      "               precision    recall  f1-score   support\n",
      "\n",
      "           0       0.82      0.68      0.74      1343\n",
      "           1       0.82      0.90      0.86      1600\n",
      "           2       0.82      0.75      0.79      1380\n",
      "           3       0.79      0.77      0.78      1433\n",
      "           4       0.64      0.69      0.66      1295\n",
      "           5       0.68      0.61      0.64      1273\n",
      "           6       0.84      0.87      0.86      1396\n",
      "           7       0.77      0.81      0.79      1503\n",
      "           8       0.64      0.69      0.66      1357\n",
      "           9       0.64      0.64      0.64      1420\n",
      "\n",
      "    accuracy                           0.75     14000\n",
      "   macro avg       0.74      0.74      0.74     14000\n",
      "weighted avg       0.75      0.75      0.75     14000\n",
      "\n",
      "Confusion Matrix:\n",
      " [[ 916   10   23   23   19   77   23    4  237   11]\n",
      " [   0 1446    6   36   13   50    3   10   24   12]\n",
      " [  11   33 1038   66   60   11   81   12   54   14]\n",
      " [  22   57   56 1099   17   45    3   67   31   36]\n",
      " [   5   42   31    2  890   32   55   33   15  190]\n",
      " [  55    5   11   67  129  776   39   37  106   48]\n",
      " [  29   29   40    2   53    7 1214    0   21    1]\n",
      " [   1   39   11   24   43   21    1 1217    9  137]\n",
      " [  65   53   37   59   11  112   21    5  933   61]\n",
      " [  14   56    7   19  156   18    3  200   36  911]]\n"
     ]
    }
   ],
   "source": [
    "# Evaluate the model\n",
    "evaluate_model(model.predict, X_test_scaled, y_test)"
   ]
  },
  {
   "cell_type": "code",
   "execution_count": null,
   "metadata": {},
   "outputs": [],
   "source": [
    "from neural_bandits.algorithms import LinearThompsonBandit, LinearUCBBandit\n",
    "\n",
    "\n",
    "n_features = X_train_scaled.shape[1]\n",
    "alpha = 0.01\n",
    "n_arms = 10  # Number of classes\n",
    "# bandit = LinearThompsonBandit(n_arms, n_features * n_arms)\n",
    "bandit = LinearUCBBandit(n_arms, n_features * n_arms)"
   ]
  },
  {
   "cell_type": "code",
   "execution_count": 15,
   "metadata": {},
   "outputs": [
    {
     "name": "stderr",
     "output_type": "stream",
     "text": [
      "100%|██████████| 56000/56000 [01:44<00:00, 533.95it/s]\n"
     ]
    }
   ],
   "source": [
    "for t in tqdm.tqdm(range(X_train_scaled.shape[0])):\n",
    "    contextualised_actions = np.outer(np.identity(n_arms), X_train_scaled[t]).reshape(\n",
    "        n_arms, n_features * n_arms\n",
    "    )\n",
    "    chosen_arm = bandit.select_arm(contextualised_actions)\n",
    "    reward = 1 if y_train[t] == chosen_arm else 0\n",
    "\n",
    "    bandit.update_step(reward, contextualised_actions[chosen_arm])"
   ]
  },
  {
   "cell_type": "code",
   "execution_count": 9,
   "metadata": {},
   "outputs": [],
   "source": [
    "# batch = 1000\n",
    "# buffer_reward = []\n",
    "# buffer_contextualised_actions = []\n",
    "# for t in tqdm.tqdm(range(X_train_scaled.shape[0])):\n",
    "#     # for t in tqdm.tqdm(range(1)):\n",
    "#     contextualised_actions = np.outer(np.identity(n_arms), X_train_scaled[t]).reshape(\n",
    "#         n_arms, n_features * n_arms\n",
    "#     )\n",
    "#     chosen_arm = bandit.select_arm(contextualised_actions)\n",
    "#     reward = 1 if y_train[t] == chosen_arm else 0\n",
    "#     buffer_reward.append(reward)\n",
    "#     buffer_contextualised_actions.append(contextualised_actions[chosen_arm])\n",
    "\n",
    "#     if t % batch == 99:\n",
    "#         bandit.update_batch(buffer_contextualised_actions, buffer_reward)\n",
    "#         buffer_reward = []\n",
    "#         buffer_contextualised_actions = []"
   ]
  },
  {
   "cell_type": "code",
   "execution_count": 16,
   "metadata": {},
   "outputs": [
    {
     "name": "stderr",
     "output_type": "stream",
     "text": [
      "100%|██████████| 14000/14000 [00:00<00:00, 89824.64it/s]\n"
     ]
    },
    {
     "name": "stdout",
     "output_type": "stream",
     "text": [
      "Accuracy: 0.7248571428571429\n",
      "Classification Report:\n",
      "               precision    recall  f1-score   support\n",
      "\n",
      "           0       0.81      0.67      0.73      1343\n",
      "           1       0.74      0.88      0.80      1600\n",
      "           2       0.89      0.69      0.78      1380\n",
      "           3       0.82      0.73      0.77      1433\n",
      "           4       0.59      0.70      0.64      1295\n",
      "           5       0.76      0.53      0.63      1273\n",
      "           6       0.78      0.86      0.82      1396\n",
      "           7       0.74      0.78      0.76      1503\n",
      "           8       0.59      0.72      0.65      1357\n",
      "           9       0.63      0.63      0.63      1420\n",
      "\n",
      "    accuracy                           0.72     14000\n",
      "   macro avg       0.74      0.72      0.72     14000\n",
      "weighted avg       0.74      0.72      0.72     14000\n",
      "\n",
      "Confusion Matrix:\n",
      " [[ 906   23   11   22   16   51   66    2  220   26]\n",
      " [   0 1413    4   31   37   24   19   25   35   12]\n",
      " [  19   74  949   62   68   11  119   11   52   15]\n",
      " [  18   70   36 1050   21   60    6   60   73   39]\n",
      " [   5   61   11    0  911    3   50   31   26  197]\n",
      " [  44   23    5   43  149  678   42   93  170   26]\n",
      " [  27   40   14    0   80    4 1201    3   23    4]\n",
      " [   6   55    9   28   56    4    1 1172   19  153]\n",
      " [  86   84   21   29   18   38   30   12  977   62]\n",
      " [  14   69    4   14  183   15   10  166   54  891]]\n"
     ]
    }
   ],
   "source": [
    "# X_test, y_test\n",
    "X_test_contextualised_actions = np.ndarray(\n",
    "    shape=(X_test_scaled.shape[0], n_arms, n_features * n_arms)\n",
    ")\n",
    "\n",
    "for t in tqdm.tqdm(range(X_test_scaled.shape[0])):\n",
    "    contextualised_actions = np.outer(np.identity(n_arms), X_test_scaled[t]).reshape(\n",
    "        n_arms, n_features * n_arms\n",
    "    )\n",
    "    X_test_contextualised_actions[t] = contextualised_actions\n",
    "\n",
    "evaluate_model(bandit.predict, X_test_contextualised_actions, y_test)"
   ]
  },
  {
   "cell_type": "code",
   "execution_count": null,
   "metadata": {},
   "outputs": [],
   "source": []
  }
 ],
 "metadata": {
  "kernelspec": {
   "display_name": "neural_bandits",
   "language": "python",
   "name": "python3"
  },
  "language_info": {
   "codemirror_mode": {
    "name": "ipython",
    "version": 3
   },
   "file_extension": ".py",
   "mimetype": "text/x-python",
   "name": "python",
   "nbconvert_exporter": "python",
   "pygments_lexer": "ipython3",
   "version": "3.10.15"
  }
 },
 "nbformat": 4,
 "nbformat_minor": 2
}
