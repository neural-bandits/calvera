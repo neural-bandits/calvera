{
 "cells": [
  {
   "cell_type": "code",
   "execution_count": null,
   "metadata": {},
   "outputs": [],
   "source": [
    "\n",
    "import logging\n",
    "import sys\n",
    "\n",
    "import torch\n",
    "\n",
    "from neural_bandits.benchmark.datasets.imdb_reviews import ImdbMovieReviews\n",
    "\n",
    "logging.basicConfig(level=logging.INFO)\n",
    "\n",
    "logger = logging.getLogger(__name__)\n",
    "logger.setLevel(logging.INFO)\n",
    "logger.addHandler(logging.StreamHandler(sys.stdout))\n",
    "\n",
    "\n",
    "dataset = ImdbMovieReviews(max_len=256, partition=\"train\", dest_path=\"./data\")"
   ]
  },
  {
   "cell_type": "code",
   "execution_count": null,
   "metadata": {},
   "outputs": [],
   "source": [
    "from torch import optim\n",
    "from torch.utils.data import DataLoader\n",
    "from transformers import BertForSequenceClassification\n",
    "\n",
    "batch_size = 16\n",
    "dataloader = DataLoader(dataset, batch_size=batch_size, shuffle=True)\n",
    "\n",
    "model = BertForSequenceClassification.from_pretrained(\"google/bert_uncased_L-2_H-128_A-2\", num_labels=2)\n",
    "optimizer = optim.Adam(model.parameters(), lr=1e-4)\n",
    "\n",
    "num_epochs = 1\n",
    "model.train()"
   ]
  },
  {
   "cell_type": "code",
   "execution_count": null,
   "metadata": {},
   "outputs": [],
   "source": [
    "import tqdm\n",
    "\n",
    "for epoch in range(num_epochs):\n",
    "    total_loss = 0.0\n",
    "    exp_moving_avg = 0.0\n",
    "    progress_bar = tqdm.tqdm(dataloader, total=len(dataloader))\n",
    "    for batch_inputs, labels in progress_bar:\n",
    "        optimizer.zero_grad()\n",
    "        # Forward pass: note that passing labels causes the model to compute the loss.\n",
    "        outputs = model(*batch_inputs, labels=labels)\n",
    "        loss = outputs.loss\n",
    "        loss.backward()\n",
    "        optimizer.step()\n",
    "        total_loss += loss.item()\n",
    "        exp_moving_avg = 0.9 * exp_moving_avg + 0.1 * loss.item()\n",
    "        progress_bar.set_description(f\"Loss: {loss.item():.4f}, Exp. Moving Avg. Loss: {exp_moving_avg:.4f}\")\n",
    "        \n",
    "    avg_loss = total_loss / len(dataloader)\n",
    "    print(f\"Epoch {epoch+1} completed. Average Loss: {avg_loss:.4f}\")\n",
    "\n"
   ]
  },
  {
   "cell_type": "code",
   "execution_count": null,
   "metadata": {},
   "outputs": [],
   "source": [
    "model.eval()\n",
    "\n",
    "dataset_eval = ImdbMovieReviews(max_len=256, partition=\"test\", dest_path=\"./data\")\n",
    "dataloader = DataLoader(dataset_eval, batch_size=batch_size, shuffle=True)\n",
    "\n",
    "preds = []\n",
    "labels = []\n",
    "with torch.no_grad():\n",
    "    for i in range(100):\n",
    "        batch_inputs, labels_batch = next(iter(dataloader))\n",
    "        outputs = model(*batch_inputs)\n",
    "        logits = outputs.logits\n",
    "        preds.extend(logits.argmax(dim=-1).tolist())\n",
    "        labels.extend(labels_batch.argmax(dim=-1).tolist())\n",
    "\n",
    "print(\"Accuracy:\", sum([preds[i] == labels[i] for i in range(0, 100 * batch_size)]) / (100 * batch_size))"
   ]
  }
 ],
 "metadata": {
  "kernelspec": {
   "display_name": "neural_bandits",
   "language": "python",
   "name": "python3"
  },
  "language_info": {
   "codemirror_mode": {
    "name": "ipython",
    "version": 3
   },
   "file_extension": ".py",
   "mimetype": "text/x-python",
   "name": "python",
   "nbconvert_exporter": "python",
   "pygments_lexer": "ipython3",
   "version": "3.10.16"
  }
 },
 "nbformat": 4,
 "nbformat_minor": 2
}
